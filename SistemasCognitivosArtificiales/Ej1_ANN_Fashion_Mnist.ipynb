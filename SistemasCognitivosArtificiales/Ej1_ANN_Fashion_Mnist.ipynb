{
  "nbformat": 4,
  "nbformat_minor": 0,
  "metadata": {
    "colab": {
      "name": "Semana2_Sistemas_cognitivos_artificiales.ipynb",
      "provenance": []
    },
    "kernelspec": {
      "name": "python3",
      "display_name": "Python 3"
    }
  },
  "cells": [
    {
      "cell_type": "markdown",
      "metadata": {
        "id": "1mZ0AkPGy-5H",
        "colab_type": "text"
      },
      "source": [
        "En primer lugar vamos a importar tensorflow y vamos a comprobar su versión"
      ]
    },
    {
      "cell_type": "code",
      "metadata": {
        "id": "GslliYB_ozZm",
        "colab_type": "code",
        "colab": {
          "base_uri": "https://localhost:8080/",
          "height": 34
        },
        "outputId": "b6cceb74-6e9c-44a2-ccba-14ee00810a71"
      },
      "source": [
        "import tensorflow as tf\n",
        "print(tf.__version__)"
      ],
      "execution_count": 7,
      "outputs": [
        {
          "output_type": "stream",
          "text": [
            "2.3.0\n"
          ],
          "name": "stdout"
        }
      ]
    },
    {
      "cell_type": "markdown",
      "metadata": {
        "id": "yGMaaCs-zEVE",
        "colab_type": "text"
      },
      "source": [
        "Ahora, vamos a importar keras y a ver su versión"
      ]
    },
    {
      "cell_type": "code",
      "metadata": {
        "id": "9aO6vcTTrjS2",
        "colab_type": "code",
        "colab": {
          "base_uri": "https://localhost:8080/",
          "height": 34
        },
        "outputId": "f7ea83ce-1268-4ccf-b6e7-e8a039b332ec"
      },
      "source": [
        "from tensorflow import keras\n",
        "print(keras.__version__)"
      ],
      "execution_count": 8,
      "outputs": [
        {
          "output_type": "stream",
          "text": [
            "2.4.0\n"
          ],
          "name": "stdout"
        }
      ]
    },
    {
      "cell_type": "markdown",
      "metadata": {
        "id": "SRUR0wg9zHxE",
        "colab_type": "text"
      },
      "source": [
        "**Construcción de una clasificador de imagenes utilizando una API secuencial**"
      ]
    },
    {
      "cell_type": "markdown",
      "metadata": {
        "id": "UFN1hUHWzP4e",
        "colab_type": "text"
      },
      "source": [
        "vamos a cargar ahora uno de los dataset de entrenamiento de keras, el reconocimiento de los digitos"
      ]
    },
    {
      "cell_type": "code",
      "metadata": {
        "id": "0miFgVAtruf3",
        "colab_type": "code",
        "colab": {}
      },
      "source": [
        "fashion_mnist = keras.datasets.fashion_mnist\n",
        "(X_train_full, y_train_full), (X_test, y_test) = fashion_mnist.load_data()"
      ],
      "execution_count": 9,
      "outputs": []
    },
    {
      "cell_type": "markdown",
      "metadata": {
        "id": "VBZkKLzJzZ-3",
        "colab_type": "text"
      },
      "source": [
        "Vamos a ver el tamaño del dataset, y el tamaño de la imagen"
      ]
    },
    {
      "cell_type": "code",
      "metadata": {
        "id": "-_4RNsYasB8Y",
        "colab_type": "code",
        "colab": {
          "base_uri": "https://localhost:8080/",
          "height": 34
        },
        "outputId": "d3da83fa-bbd8-421e-a42b-f3c60107162b"
      },
      "source": [
        "X_train_full.shape"
      ],
      "execution_count": 10,
      "outputs": [
        {
          "output_type": "execute_result",
          "data": {
            "text/plain": [
              "(60000, 28, 28)"
            ]
          },
          "metadata": {
            "tags": []
          },
          "execution_count": 10
        }
      ]
    },
    {
      "cell_type": "markdown",
      "metadata": {
        "id": "53w90QKLzfYw",
        "colab_type": "text"
      },
      "source": [
        "Aqui comprobamos el tipo de dato "
      ]
    },
    {
      "cell_type": "code",
      "metadata": {
        "id": "CkuxMLUesG2y",
        "colab_type": "code",
        "colab": {
          "base_uri": "https://localhost:8080/",
          "height": 34
        },
        "outputId": "789aea71-7fc7-44a6-92dd-9f48f14488fa"
      },
      "source": [
        "X_train_full.dtype"
      ],
      "execution_count": 11,
      "outputs": [
        {
          "output_type": "execute_result",
          "data": {
            "text/plain": [
              "dtype('uint8')"
            ]
          },
          "metadata": {
            "tags": []
          },
          "execution_count": 11
        }
      ]
    },
    {
      "cell_type": "markdown",
      "metadata": {
        "id": "d0jeX5SpzjXD",
        "colab_type": "text"
      },
      "source": [
        "Un poco de pretratamiento de los datos, en este caso como vamos a usar el gradient descent, necesitamos reescalar los datos a 0-1"
      ]
    },
    {
      "cell_type": "code",
      "metadata": {
        "id": "xpEDt1-vtHPt",
        "colab_type": "code",
        "colab": {}
      },
      "source": [
        "X_valid, X_train = X_train_full[:5000]/255.0, X_train_full[5000:]/255.0\n",
        "y_valid, y_train = y_train_full[:5000], y_train_full[5000:]"
      ],
      "execution_count": 12,
      "outputs": []
    },
    {
      "cell_type": "markdown",
      "metadata": {
        "id": "1G3bxTKSztOV",
        "colab_type": "text"
      },
      "source": [
        "Le damos un nombre a cada una de las clases"
      ]
    },
    {
      "cell_type": "code",
      "metadata": {
        "id": "n9f4tHyYteBV",
        "colab_type": "code",
        "colab": {
          "base_uri": "https://localhost:8080/",
          "height": 35
        },
        "outputId": "16841266-3f9f-48c1-f440-259755857808"
      },
      "source": [
        "class_names = [\"T-shirt/top\", \"Trouser\", \"Pullover\", \"Dress\", \"Coat\", \"Sandal\", \"Shirt\", \"Sneaker\", \"Bag\", \"Ankle boot\"]\n",
        "class_names[y_train[0]]"
      ],
      "execution_count": 14,
      "outputs": [
        {
          "output_type": "execute_result",
          "data": {
            "application/vnd.google.colaboratory.intrinsic+json": {
              "type": "string"
            },
            "text/plain": [
              "'Coat'"
            ]
          },
          "metadata": {
            "tags": []
          },
          "execution_count": 14
        }
      ]
    },
    {
      "cell_type": "markdown",
      "metadata": {
        "id": "Jziy9c1ct298",
        "colab_type": "text"
      },
      "source": [
        "**Creación del modelo usando una API secuencial**"
      ]
    },
    {
      "cell_type": "code",
      "metadata": {
        "id": "L_0JeVVtt7TS",
        "colab_type": "code",
        "colab": {}
      },
      "source": [
        "model= keras.models.Sequential()\n",
        "model.add(keras.layers.Flatten(input_shape=[28,28]))\n",
        "model.add(keras.layers.Dense(300, activation=\"relu\"))\n",
        "model.add(keras.layers.Dense(300, activation=\"relu\"))\n",
        "model.add(keras.layers.Dense(10, activation=\"softmax\"))"
      ],
      "execution_count": 17,
      "outputs": []
    },
    {
      "cell_type": "markdown",
      "metadata": {
        "id": "u99nsTc2ulek",
        "colab_type": "text"
      },
      "source": [
        "otra forma de hacer esta misma operación de añadir capas:\n"
      ]
    },
    {
      "cell_type": "code",
      "metadata": {
        "id": "HTD2UE8Du04I",
        "colab_type": "code",
        "colab": {}
      },
      "source": [
        "# model= keras.models.Sequential([]\n",
        "#    keras.layers.Flatten(input_shape=[28,28])\n",
        "#    keras.layers.Dense(300, activation=\"relu\")\n",
        "#    keras.layers.Dense(300, activation=\"relu\")\n",
        "#    keras.layers.Dense(10, activation=\"softmax\")\n",
        "#])"
      ],
      "execution_count": null,
      "outputs": []
    },
    {
      "cell_type": "code",
      "metadata": {
        "id": "mwtKqraEu9OD",
        "colab_type": "code",
        "colab": {
          "base_uri": "https://localhost:8080/",
          "height": 289
        },
        "outputId": "d16e2f4c-3d21-4a83-9af8-17a75bcf1a7a"
      },
      "source": [
        "model.summary()"
      ],
      "execution_count": 18,
      "outputs": [
        {
          "output_type": "stream",
          "text": [
            "Model: \"sequential_3\"\n",
            "_________________________________________________________________\n",
            "Layer (type)                 Output Shape              Param #   \n",
            "=================================================================\n",
            "flatten_1 (Flatten)          (None, 784)               0         \n",
            "_________________________________________________________________\n",
            "dense_3 (Dense)              (None, 300)               235500    \n",
            "_________________________________________________________________\n",
            "dense_4 (Dense)              (None, 300)               90300     \n",
            "_________________________________________________________________\n",
            "dense_5 (Dense)              (None, 10)                3010      \n",
            "=================================================================\n",
            "Total params: 328,810\n",
            "Trainable params: 328,810\n",
            "Non-trainable params: 0\n",
            "_________________________________________________________________\n"
          ],
          "name": "stdout"
        }
      ]
    },
    {
      "cell_type": "markdown",
      "metadata": {
        "id": "JRvQRkBevFxJ",
        "colab_type": "text"
      },
      "source": [
        "Vamos ahora a ver las capas"
      ]
    },
    {
      "cell_type": "code",
      "metadata": {
        "id": "OBaU3d6ovHTo",
        "colab_type": "code",
        "colab": {
          "base_uri": "https://localhost:8080/",
          "height": 85
        },
        "outputId": "62f60f5a-020c-4a98-a38d-dda89bcaae6d"
      },
      "source": [
        "model.layers"
      ],
      "execution_count": 19,
      "outputs": [
        {
          "output_type": "execute_result",
          "data": {
            "text/plain": [
              "[<tensorflow.python.keras.layers.core.Flatten at 0x7f628aeed358>,\n",
              " <tensorflow.python.keras.layers.core.Dense at 0x7f628af034e0>,\n",
              " <tensorflow.python.keras.layers.core.Dense at 0x7f628af2d518>,\n",
              " <tensorflow.python.keras.layers.core.Dense at 0x7f628af03b00>]"
            ]
          },
          "metadata": {
            "tags": []
          },
          "execution_count": 19
        }
      ]
    },
    {
      "cell_type": "markdown",
      "metadata": {
        "id": "WhrL7chivNMR",
        "colab_type": "text"
      },
      "source": [
        "algunas operaciones y comando interesantes"
      ]
    },
    {
      "cell_type": "code",
      "metadata": {
        "id": "acDaiQxVvPc9",
        "colab_type": "code",
        "colab": {
          "base_uri": "https://localhost:8080/",
          "height": 35
        },
        "outputId": "b4eb048a-01d8-486c-f834-ba0874431148"
      },
      "source": [
        "hidden1=model.layers[1]\n",
        "hidden1.name"
      ],
      "execution_count": 21,
      "outputs": [
        {
          "output_type": "execute_result",
          "data": {
            "application/vnd.google.colaboratory.intrinsic+json": {
              "type": "string"
            },
            "text/plain": [
              "'dense_3'"
            ]
          },
          "metadata": {
            "tags": []
          },
          "execution_count": 21
        }
      ]
    },
    {
      "cell_type": "code",
      "metadata": {
        "id": "TgrR3a0DvaAy",
        "colab_type": "code",
        "colab": {
          "base_uri": "https://localhost:8080/",
          "height": 34
        },
        "outputId": "76beb40c-9e34-48a4-ecf7-a01c14308139"
      },
      "source": [
        "model.get_layer('dense_3') is hidden1"
      ],
      "execution_count": 23,
      "outputs": [
        {
          "output_type": "execute_result",
          "data": {
            "text/plain": [
              "True"
            ]
          },
          "metadata": {
            "tags": []
          },
          "execution_count": 23
        }
      ]
    },
    {
      "cell_type": "markdown",
      "metadata": {
        "id": "8q0gezVyvl1y",
        "colab_type": "text"
      },
      "source": [
        "Todos los parametros de una capa estan accesibles utilizando \"get_weights()\" y \"set_weights()\""
      ]
    },
    {
      "cell_type": "code",
      "metadata": {
        "id": "7BM6R0DSvtl_",
        "colab_type": "code",
        "colab": {
          "base_uri": "https://localhost:8080/",
          "height": 238
        },
        "outputId": "b738989a-73c1-4eb4-8231-17dbc91afeb7"
      },
      "source": [
        "weights, biases = hidden1.get_weights()\n",
        "weights"
      ],
      "execution_count": 24,
      "outputs": [
        {
          "output_type": "execute_result",
          "data": {
            "text/plain": [
              "array([[-0.03756979, -0.02257548, -0.00419761, ...,  0.00521695,\n",
              "        -0.07006545, -0.04423968],\n",
              "       [-0.03471199, -0.03795394,  0.02258426, ...,  0.06851658,\n",
              "        -0.04609309,  0.02874979],\n",
              "       [ 0.02491674, -0.06581084,  0.02695432, ..., -0.01986175,\n",
              "        -0.049628  , -0.03825761],\n",
              "       ...,\n",
              "       [ 0.07227436, -0.02901563, -0.04053048, ..., -0.06788791,\n",
              "         0.02353751, -0.00467421],\n",
              "       [-0.01916036, -0.00807315,  0.00436845, ...,  0.0223963 ,\n",
              "        -0.04792164,  0.06238057],\n",
              "       [ 0.01921144, -0.03714614, -0.03165459, ...,  0.03344768,\n",
              "         0.06786257,  0.01914599]], dtype=float32)"
            ]
          },
          "metadata": {
            "tags": []
          },
          "execution_count": 24
        }
      ]
    },
    {
      "cell_type": "code",
      "metadata": {
        "id": "z1Cl_v-Wv1uU",
        "colab_type": "code",
        "colab": {
          "base_uri": "https://localhost:8080/",
          "height": 34
        },
        "outputId": "d2189453-54cb-49c4-a7aa-9d39390b5a75"
      },
      "source": [
        "weights.shape"
      ],
      "execution_count": 25,
      "outputs": [
        {
          "output_type": "execute_result",
          "data": {
            "text/plain": [
              "(784, 300)"
            ]
          },
          "metadata": {
            "tags": []
          },
          "execution_count": 25
        }
      ]
    },
    {
      "cell_type": "code",
      "metadata": {
        "id": "FLAfB6ELv4i2",
        "colab_type": "code",
        "colab": {
          "base_uri": "https://localhost:8080/",
          "height": 323
        },
        "outputId": "e4893f49-8e77-4fdb-88fe-2e215b4d7296"
      },
      "source": [
        "biases"
      ],
      "execution_count": 26,
      "outputs": [
        {
          "output_type": "execute_result",
          "data": {
            "text/plain": [
              "array([0., 0., 0., 0., 0., 0., 0., 0., 0., 0., 0., 0., 0., 0., 0., 0., 0.,\n",
              "       0., 0., 0., 0., 0., 0., 0., 0., 0., 0., 0., 0., 0., 0., 0., 0., 0.,\n",
              "       0., 0., 0., 0., 0., 0., 0., 0., 0., 0., 0., 0., 0., 0., 0., 0., 0.,\n",
              "       0., 0., 0., 0., 0., 0., 0., 0., 0., 0., 0., 0., 0., 0., 0., 0., 0.,\n",
              "       0., 0., 0., 0., 0., 0., 0., 0., 0., 0., 0., 0., 0., 0., 0., 0., 0.,\n",
              "       0., 0., 0., 0., 0., 0., 0., 0., 0., 0., 0., 0., 0., 0., 0., 0., 0.,\n",
              "       0., 0., 0., 0., 0., 0., 0., 0., 0., 0., 0., 0., 0., 0., 0., 0., 0.,\n",
              "       0., 0., 0., 0., 0., 0., 0., 0., 0., 0., 0., 0., 0., 0., 0., 0., 0.,\n",
              "       0., 0., 0., 0., 0., 0., 0., 0., 0., 0., 0., 0., 0., 0., 0., 0., 0.,\n",
              "       0., 0., 0., 0., 0., 0., 0., 0., 0., 0., 0., 0., 0., 0., 0., 0., 0.,\n",
              "       0., 0., 0., 0., 0., 0., 0., 0., 0., 0., 0., 0., 0., 0., 0., 0., 0.,\n",
              "       0., 0., 0., 0., 0., 0., 0., 0., 0., 0., 0., 0., 0., 0., 0., 0., 0.,\n",
              "       0., 0., 0., 0., 0., 0., 0., 0., 0., 0., 0., 0., 0., 0., 0., 0., 0.,\n",
              "       0., 0., 0., 0., 0., 0., 0., 0., 0., 0., 0., 0., 0., 0., 0., 0., 0.,\n",
              "       0., 0., 0., 0., 0., 0., 0., 0., 0., 0., 0., 0., 0., 0., 0., 0., 0.,\n",
              "       0., 0., 0., 0., 0., 0., 0., 0., 0., 0., 0., 0., 0., 0., 0., 0., 0.,\n",
              "       0., 0., 0., 0., 0., 0., 0., 0., 0., 0., 0., 0., 0., 0., 0., 0., 0.,\n",
              "       0., 0., 0., 0., 0., 0., 0., 0., 0., 0., 0.], dtype=float32)"
            ]
          },
          "metadata": {
            "tags": []
          },
          "execution_count": 26
        }
      ]
    },
    {
      "cell_type": "code",
      "metadata": {
        "id": "dv4-Cd3Cv6vk",
        "colab_type": "code",
        "colab": {
          "base_uri": "https://localhost:8080/",
          "height": 34
        },
        "outputId": "f8ab163b-6a10-4715-e8c8-87cd51cca80a"
      },
      "source": [
        "biases.shape"
      ],
      "execution_count": 27,
      "outputs": [
        {
          "output_type": "execute_result",
          "data": {
            "text/plain": [
              "(300,)"
            ]
          },
          "metadata": {
            "tags": []
          },
          "execution_count": 27
        }
      ]
    },
    {
      "cell_type": "markdown",
      "metadata": {
        "id": "hKDZJtkGwA_Z",
        "colab_type": "text"
      },
      "source": [
        "**Compilando el modelo**"
      ]
    },
    {
      "cell_type": "code",
      "metadata": {
        "id": "hcDPLpPawDvW",
        "colab_type": "code",
        "colab": {}
      },
      "source": [
        "model.compile(loss=\"sparse_categorical_crossentropy\",\n",
        "              optimizer= \"sgd\",\n",
        "              metrics =[\"accuracy\"])"
      ],
      "execution_count": 29,
      "outputs": []
    },
    {
      "cell_type": "markdown",
      "metadata": {
        "id": "9j7apDMWwc2E",
        "colab_type": "text"
      },
      "source": [
        "**Entrenando y evaluando el modelo**"
      ]
    },
    {
      "cell_type": "code",
      "metadata": {
        "id": "4H1ZKeJAwh42",
        "colab_type": "code",
        "colab": {
          "base_uri": "https://localhost:8080/",
          "height": 1000
        },
        "outputId": "44c40d16-91fd-44e8-d74c-938a67fd965e"
      },
      "source": [
        "history = model.fit(X_train,y_train, epochs=30, validation_data=(X_valid, y_valid))"
      ],
      "execution_count": 30,
      "outputs": [
        {
          "output_type": "stream",
          "text": [
            "Epoch 1/30\n",
            "1719/1719 [==============================] - 7s 4ms/step - loss: 0.7167 - accuracy: 0.7652 - val_loss: 0.4978 - val_accuracy: 0.8320\n",
            "Epoch 2/30\n",
            "1719/1719 [==============================] - 8s 5ms/step - loss: 0.4868 - accuracy: 0.8309 - val_loss: 0.4534 - val_accuracy: 0.8430\n",
            "Epoch 3/30\n",
            "1719/1719 [==============================] - 7s 4ms/step - loss: 0.4435 - accuracy: 0.8446 - val_loss: 0.4124 - val_accuracy: 0.8646\n",
            "Epoch 4/30\n",
            "1719/1719 [==============================] - 7s 4ms/step - loss: 0.4146 - accuracy: 0.8535 - val_loss: 0.4097 - val_accuracy: 0.8522\n",
            "Epoch 5/30\n",
            "1719/1719 [==============================] - 7s 4ms/step - loss: 0.3949 - accuracy: 0.8610 - val_loss: 0.4087 - val_accuracy: 0.8604\n",
            "Epoch 6/30\n",
            "1719/1719 [==============================] - 7s 4ms/step - loss: 0.3801 - accuracy: 0.8672 - val_loss: 0.3700 - val_accuracy: 0.8730\n",
            "Epoch 7/30\n",
            "1719/1719 [==============================] - 7s 4ms/step - loss: 0.3674 - accuracy: 0.8714 - val_loss: 0.3628 - val_accuracy: 0.8748\n",
            "Epoch 8/30\n",
            "1719/1719 [==============================] - 7s 4ms/step - loss: 0.3557 - accuracy: 0.8745 - val_loss: 0.3576 - val_accuracy: 0.8772\n",
            "Epoch 9/30\n",
            "1719/1719 [==============================] - 7s 4ms/step - loss: 0.3456 - accuracy: 0.8771 - val_loss: 0.3526 - val_accuracy: 0.8784\n",
            "Epoch 10/30\n",
            "1719/1719 [==============================] - 7s 4ms/step - loss: 0.3358 - accuracy: 0.8815 - val_loss: 0.3403 - val_accuracy: 0.8834\n",
            "Epoch 11/30\n",
            "1719/1719 [==============================] - 7s 4ms/step - loss: 0.3278 - accuracy: 0.8832 - val_loss: 0.3476 - val_accuracy: 0.8820\n",
            "Epoch 12/30\n",
            "1719/1719 [==============================] - 7s 4ms/step - loss: 0.3203 - accuracy: 0.8858 - val_loss: 0.3526 - val_accuracy: 0.8730\n",
            "Epoch 13/30\n",
            "1719/1719 [==============================] - 8s 5ms/step - loss: 0.3130 - accuracy: 0.8886 - val_loss: 0.3314 - val_accuracy: 0.8820\n",
            "Epoch 14/30\n",
            "1719/1719 [==============================] - 7s 4ms/step - loss: 0.3062 - accuracy: 0.8910 - val_loss: 0.3443 - val_accuracy: 0.8784\n",
            "Epoch 15/30\n",
            "1719/1719 [==============================] - 7s 4ms/step - loss: 0.3007 - accuracy: 0.8909 - val_loss: 0.3346 - val_accuracy: 0.8826\n",
            "Epoch 16/30\n",
            "1719/1719 [==============================] - 7s 4ms/step - loss: 0.2941 - accuracy: 0.8939 - val_loss: 0.3309 - val_accuracy: 0.8830\n",
            "Epoch 17/30\n",
            "1719/1719 [==============================] - 7s 4ms/step - loss: 0.2888 - accuracy: 0.8960 - val_loss: 0.3387 - val_accuracy: 0.8788\n",
            "Epoch 18/30\n",
            "1719/1719 [==============================] - 7s 4ms/step - loss: 0.2822 - accuracy: 0.8977 - val_loss: 0.3181 - val_accuracy: 0.8896\n",
            "Epoch 19/30\n",
            "1719/1719 [==============================] - 7s 4ms/step - loss: 0.2787 - accuracy: 0.9003 - val_loss: 0.3095 - val_accuracy: 0.8872\n",
            "Epoch 20/30\n",
            "1719/1719 [==============================] - 7s 4ms/step - loss: 0.2728 - accuracy: 0.9017 - val_loss: 0.3209 - val_accuracy: 0.8834\n",
            "Epoch 21/30\n",
            "1719/1719 [==============================] - 7s 4ms/step - loss: 0.2674 - accuracy: 0.9031 - val_loss: 0.3043 - val_accuracy: 0.8876\n",
            "Epoch 22/30\n",
            "1719/1719 [==============================] - 7s 4ms/step - loss: 0.2639 - accuracy: 0.9039 - val_loss: 0.3042 - val_accuracy: 0.8898\n",
            "Epoch 23/30\n",
            "1719/1719 [==============================] - 7s 4ms/step - loss: 0.2591 - accuracy: 0.9070 - val_loss: 0.3309 - val_accuracy: 0.8828\n",
            "Epoch 24/30\n",
            "1719/1719 [==============================] - 7s 4ms/step - loss: 0.2546 - accuracy: 0.9086 - val_loss: 0.3060 - val_accuracy: 0.8922\n",
            "Epoch 25/30\n",
            "1719/1719 [==============================] - 7s 4ms/step - loss: 0.2505 - accuracy: 0.9085 - val_loss: 0.2990 - val_accuracy: 0.8932\n",
            "Epoch 26/30\n",
            "1719/1719 [==============================] - 7s 4ms/step - loss: 0.2456 - accuracy: 0.9106 - val_loss: 0.3060 - val_accuracy: 0.8914\n",
            "Epoch 27/30\n",
            "1719/1719 [==============================] - 7s 4ms/step - loss: 0.2428 - accuracy: 0.9124 - val_loss: 0.3017 - val_accuracy: 0.8916\n",
            "Epoch 28/30\n",
            "1719/1719 [==============================] - 7s 4ms/step - loss: 0.2380 - accuracy: 0.9144 - val_loss: 0.2941 - val_accuracy: 0.8946\n",
            "Epoch 29/30\n",
            "1719/1719 [==============================] - 7s 4ms/step - loss: 0.2346 - accuracy: 0.9163 - val_loss: 0.3214 - val_accuracy: 0.8880\n",
            "Epoch 30/30\n",
            "1719/1719 [==============================] - 7s 4ms/step - loss: 0.2307 - accuracy: 0.9172 - val_loss: 0.2994 - val_accuracy: 0.8944\n"
          ],
          "name": "stdout"
        }
      ]
    },
    {
      "cell_type": "markdown",
      "metadata": {
        "id": "8MhopdI2xmLd",
        "colab_type": "text"
      },
      "source": [
        "Ahora vamos a comprobar las variables loss, accuracy, validation_loss y validation_accuracy"
      ]
    },
    {
      "cell_type": "code",
      "metadata": {
        "id": "yTh-SWQextTq",
        "colab_type": "code",
        "colab": {
          "base_uri": "https://localhost:8080/",
          "height": 324
        },
        "outputId": "4cc42cba-1402-44a4-85fe-78b8ad49cc80"
      },
      "source": [
        "import pandas as pd\n",
        "import matplotlib.pyplot as plt\n",
        "\n",
        "pd.DataFrame(history.history).plot(figsize=(8,5))\n",
        "plt.grid(True)\n",
        "plt.gca().set_ylim(0,1)\n",
        "plt.show()"
      ],
      "execution_count": 32,
      "outputs": [
        {
          "output_type": "display_data",
          "data": {
            "image/png": "[encoded data removed]",
            "text/plain": [
              "<Figure size 576x360 with 1 Axes>"
            ]
          },
          "metadata": {
            "tags": [],
            "needs_background": "light"
          }
        }
      ]
    },
    {
      "cell_type": "markdown",
      "metadata": {
        "id": "-uhbE6HiyRBL",
        "colab_type": "text"
      },
      "source": [
        "Fijaros que las curvas training accuracy y validation accuracy  se van incrementando durante el entrenamiento, mientras que las loss se hacen mas pequeñas"
      ]
    },
    {
      "cell_type": "code",
      "metadata": {
        "id": "3uOZOelayj5W",
        "colab_type": "code",
        "colab": {
          "base_uri": "https://localhost:8080/",
          "height": 51
        },
        "outputId": "8c4a09b9-9242-4207-8c4c-3a959738a61a"
      },
      "source": [
        "model.evaluate(X_test,y_test)"
      ],
      "execution_count": 33,
      "outputs": [
        {
          "output_type": "stream",
          "text": [
            "313/313 [==============================] - 1s 2ms/step - loss: 62.9938 - accuracy: 0.8527\n"
          ],
          "name": "stdout"
        },
        {
          "output_type": "execute_result",
          "data": {
            "text/plain": [
              "[62.993812561035156, 0.8526999950408936]"
            ]
          },
          "metadata": {
            "tags": []
          },
          "execution_count": 33
        }
      ]
    }
  ]
}