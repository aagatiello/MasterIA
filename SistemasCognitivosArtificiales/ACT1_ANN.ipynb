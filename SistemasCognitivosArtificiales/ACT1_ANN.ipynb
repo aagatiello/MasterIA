{
  "cells": [
    {
      "cell_type": "markdown",
      "metadata": {
        "id": "iiDzBoKGwmMZ"
      },
      "source": [
        "# REDES NEURONALES\n",
        "\n",
        "---\n",
        "\n",
        "\n",
        "\n",
        "En esta actividad vamos a utilizar una red neuronal para clasificar imágenes de prendas de ropa. Para ello, utilizaremos Keras con TensorFlow.\n",
        "\n",
        "El dataset a utilizar es Fashion MNIST, un problema sencillo con imágenes pequeñas de ropa, pero más interesante que el dataset de MNIST. Puedes consultar más información sobre el dataset en [este enlace](https://github.com/zalandoresearch/fashion-mnist).\n",
        "\n",
        "El código utilizado para contestar tiene que quedar claramente reflejado en el Notebook. Puedes crear nuevas celdas si así lo deseas para estructurar tu código y sus salidas. A la hora de entregar el notebook, **asegúrate de que los resultados de ejecutar tu código han quedado guardados**. Por ejemplo, a la hora de entrenar una red neuronal tiene que verse claramente un log de los resultados de cada epoch."
      ]
    },
    {
      "cell_type": "code",
      "execution_count": 1,
      "metadata": {
        "id": "gSHr268SwmMa"
      },
      "outputs": [],
      "source": [
        "import keras\n",
        "from keras.datasets import fashion_mnist\n",
        "from keras.models import Sequential\n",
        "from keras.layers import Dense\n",
        "import tensorflow as tf\n",
        "import numpy as np\n",
        "\n",
        "import matplotlib.pyplot as plt"
      ]
    },
    {
      "cell_type": "markdown",
      "metadata": {
        "id": "zScMKU2OKSPD"
      },
      "source": [
        "En primer lugar vamos a importar el dataset Fashion MNIST (recordad que este es uno de los dataset de entranamiento que estan guardados en keras) que es el que vamos a utilizar en esta actividad:"
      ]
    },
    {
      "cell_type": "code",
      "execution_count": 2,
      "metadata": {
        "id": "4voG2hxxG4h3"
      },
      "outputs": [],
      "source": [
        "mnist = tf.keras.datasets.fashion_mnist"
      ]
    },
    {
      "cell_type": "markdown",
      "metadata": {
        "id": "JphLsCvgKrzb"
      },
      "source": [
        "Llamar a **load_data** en este dataset nos dará dos conjuntos de dos listas, estos serán los valores de entrenamiento y prueba para los gráficos que contienen las prendas de vestir y sus etiquetas.\n",
        "\n",
        "Nota: Aunque en esta actividad lo veis de esta forma, también lo vais a poder encontrar como 4 variables de esta forma: training_images, training_labels, test_images, test_labels = mnist.load_data()"
      ]
    },
    {
      "cell_type": "code",
      "execution_count": 3,
      "metadata": {
        "id": "1muD4PHEG4h6",
        "colab": {
          "base_uri": "https://localhost:8080/"
        },
        "outputId": "f20455ac-6a20-4303-83a2-7d698c27d65c"
      },
      "outputs": [
        {
          "output_type": "stream",
          "name": "stdout",
          "text": [
            "Downloading data from https://storage.googleapis.com/tensorflow/tf-keras-datasets/train-labels-idx1-ubyte.gz\n",
            "32768/29515 [=================================] - 0s 0us/step\n",
            "40960/29515 [=========================================] - 0s 0us/step\n",
            "Downloading data from https://storage.googleapis.com/tensorflow/tf-keras-datasets/train-images-idx3-ubyte.gz\n",
            "26427392/26421880 [==============================] - 0s 0us/step\n",
            "26435584/26421880 [==============================] - 0s 0us/step\n",
            "Downloading data from https://storage.googleapis.com/tensorflow/tf-keras-datasets/t10k-labels-idx1-ubyte.gz\n",
            "16384/5148 [===============================================================================================] - 0s 0us/step\n",
            "Downloading data from https://storage.googleapis.com/tensorflow/tf-keras-datasets/t10k-images-idx3-ubyte.gz\n",
            "4423680/4422102 [==============================] - 0s 0us/step\n",
            "4431872/4422102 [==============================] - 0s 0us/step\n"
          ]
        }
      ],
      "source": [
        "(training_images, training_labels), (test_images, test_labels) = mnist.load_data()"
      ]
    },
    {
      "cell_type": "markdown",
      "metadata": {
        "id": "ZWGpJqVVLT3Y"
      },
      "source": [
        "Antes de continuar vamos a dar un vistazo a nuestro dataset, para ello vamos a ver una imagen de entrenamiento y su etiqueta o clase."
      ]
    },
    {
      "cell_type": "code",
      "execution_count": 4,
      "metadata": {
        "colab": {
          "base_uri": "https://localhost:8080/"
        },
        "id": "rolRMdgInZOf",
        "outputId": "3dbb9ddc-9f29-40bc-a269-84c09d7ed0e3"
      },
      "outputs": [
        {
          "output_type": "stream",
          "name": "stdout",
          "text": [
            "9\n",
            "Ankle boot\n"
          ]
        }
      ],
      "source": [
        "class_names = [\"T-shirt/top\", \"Trouser\", \"Pullover\", \"Dress\", \"Coat\", \"Sandal\", \"Shirt\", \"Sneaker\", \"Bag\", \"Ankle boot\"]\n",
        "print(training_labels[0])\n",
        "print(class_names[training_labels[0]])"
      ]
    },
    {
      "cell_type": "code",
      "execution_count": 5,
      "metadata": {
        "colab": {
          "base_uri": "https://localhost:8080/",
          "height": 768
        },
        "id": "t5a5PlswG4h8",
        "outputId": "7d0e02e8-65db-4d62-c85a-24f3742aedee"
      },
      "outputs": [
        {
          "output_type": "stream",
          "name": "stdout",
          "text": [
            "9\n",
            "[[  0   0   0   0   0   0   0   0   0   0   0   0   0   0   0   0   0   0   0   0   0   0   0   0   0   0   0   0]\n",
            " [  0   0   0   0   0   0   0   0   0   0   0   0   0   0   0   0   0   0   0   0   0   0   0   0   0   0   0   0]\n",
            " [  0   0   0   0   0   0   0   0   0   0   0   0   0   0   0   0   0   0   0   0   0   0   0   0   0   0   0   0]\n",
            " [  0   0   0   0   0   0   0   0   0   0   0   0   1   0   0  13  73   0   0   1   4   0   0   0   0   1   1   0]\n",
            " [  0   0   0   0   0   0   0   0   0   0   0   0   3   0  36 136 127  62  54   0   0   0   1   3   4   0   0   3]\n",
            " [  0   0   0   0   0   0   0   0   0   0   0   0   6   0 102 204 176 134 144 123  23   0   0   0   0  12  10   0]\n",
            " [  0   0   0   0   0   0   0   0   0   0   0   0   0   0 155 236 207 178 107 156 161 109  64  23  77 130  72  15]\n",
            " [  0   0   0   0   0   0   0   0   0   0   0   1   0  69 207 223 218 216 216 163 127 121 122 146 141  88 172  66]\n",
            " [  0   0   0   0   0   0   0   0   0   1   1   1   0 200 232 232 233 229 223 223 215 213 164 127 123 196 229   0]\n",
            " [  0   0   0   0   0   0   0   0   0   0   0   0   0 183 225 216 223 228 235 227 224 222 224 221 223 245 173   0]\n",
            " [  0   0   0   0   0   0   0   0   0   0   0   0   0 193 228 218 213 198 180 212 210 211 213 223 220 243 202   0]\n",
            " [  0   0   0   0   0   0   0   0   0   1   3   0  12 219 220 212 218 192 169 227 208 218 224 212 226 197 209  52]\n",
            " [  0   0   0   0   0   0   0   0   0   0   6   0  99 244 222 220 218 203 198 221 215 213 222 220 245 119 167  56]\n",
            " [  0   0   0   0   0   0   0   0   0   4   0   0  55 236 228 230 228 240 232 213 218 223 234 217 217 209  92   0]\n",
            " [  0   0   1   4   6   7   2   0   0   0   0   0 237 226 217 223 222 219 222 221 216 223 229 215 218 255  77   0]\n",
            " [  0   3   0   0   0   0   0   0   0  62 145 204 228 207 213 221 218 208 211 218 224 223 219 215 224 244 159   0]\n",
            " [  0   0   0   0  18  44  82 107 189 228 220 222 217 226 200 205 211 230 224 234 176 188 250 248 233 238 215   0]\n",
            " [  0  57 187 208 224 221 224 208 204 214 208 209 200 159 245 193 206 223 255 255 221 234 221 211 220 232 246   0]\n",
            " [  3 202 228 224 221 211 211 214 205 205 205 220 240  80 150 255 229 221 188 154 191 210 204 209 222 228 225   0]\n",
            " [ 98 233 198 210 222 229 229 234 249 220 194 215 217 241  65  73 106 117 168 219 221 215 217 223 223 224 229  29]\n",
            " [ 75 204 212 204 193 205 211 225 216 185 197 206 198 213 240 195 227 245 239 223 218 212 209 222 220 221 230  67]\n",
            " [ 48 203 183 194 213 197 185 190 194 192 202 214 219 221 220 236 225 216 199 206 186 181 177 172 181 205 206 115]\n",
            " [  0 122 219 193 179 171 183 196 204 210 213 207 211 210 200 196 194 191 195 191 198 192 176 156 167 177 210  92]\n",
            " [  0   0  74 189 212 191 175 172 175 181 185 188 189 188 193 198 204 209 210 210 211 188 188 194 192 216 170   0]\n",
            " [  2   0   0   0  66 200 222 237 239 242 246 243 244 221 220 193 191 179 182 182 181 176 166 168  99  58   0   0]\n",
            " [  0   0   0   0   0   0   0  40  61  44  72  41  35   0   0   0   0   0   0   0   0   0   0   0   0   0   0   0]\n",
            " [  0   0   0   0   0   0   0   0   0   0   0   0   0   0   0   0   0   0   0   0   0   0   0   0   0   0   0   0]\n",
            " [  0   0   0   0   0   0   0   0   0   0   0   0   0   0   0   0   0   0   0   0   0   0   0   0   0   0   0   0]]\n"
          ]
        },
        {
          "output_type": "display_data",
          "data": {
            "text/plain": [
              "<Figure size 432x288 with 1 Axes>"
            ],
            "image/png": "[encoded data removed]"
          },
          "metadata": {
            "needs_background": "light"
          }
        }
      ],
      "source": [
        "import numpy as np\n",
        "np.set_printoptions(linewidth=200)\n",
        "import matplotlib.pyplot as plt\n",
        "plt.imshow(training_images[0], cmap=\"gray\") # recordad que siempre es preferible trabajar en blanco y negro\n",
        "#\n",
        "print(training_labels[0])\n",
        "print(training_images[0])"
      ]
    },
    {
      "cell_type": "markdown",
      "metadata": {
        "id": "WCJvZx3MLucY"
      },
      "source": [
        "Habreis notado que todos los valores numericos están entre 0 y 255. Si estamos entrenando una red neuronal, una buena practica es transformar todos los valores entre 0 y 1, un proceso llamado \"normalización\" y afortunadamente en Python es fácil normalizar una lista. Lo puedes hacer de esta manera:"
      ]
    },
    {
      "cell_type": "code",
      "execution_count": 6,
      "metadata": {
        "id": "tojL1BmjG4h_"
      },
      "outputs": [],
      "source": [
        "training_images  = training_images / 255.0\n",
        "test_images = test_images / 255.0"
      ]
    },
    {
      "cell_type": "markdown",
      "metadata": {
        "id": "BaqXlSMBwmMg"
      },
      "source": [
        "## 1. Información sobre el dataset"
      ]
    },
    {
      "cell_type": "markdown",
      "metadata": {
        "id": "e0aer8ZZwmMh"
      },
      "source": [
        "Una vez tenemos los datos cargados en memoria, vamos a obtener información sobre los mismos."
      ]
    },
    {
      "cell_type": "markdown",
      "metadata": {
        "id": "E-im9PnEwmMh"
      },
      "source": [
        "**Pregunta 1.1 *(0.25 puntos)*** ¿Cuántas imágenes hay de *training* y de *test*? ¿Qué tamaño tienen las imágenes?"
      ]
    },
    {
      "cell_type": "code",
      "execution_count": 7,
      "metadata": {
        "colab": {
          "base_uri": "https://localhost:8080/"
        },
        "id": "lvP0Y4SCwmMi",
        "outputId": "18ded691-94a9-462d-82d1-a5f957e0d997"
      },
      "outputs": [
        {
          "output_type": "stream",
          "name": "stdout",
          "text": [
            "(60000, 28, 28)\n",
            "(10000, 28, 28)\n"
          ]
        }
      ],
      "source": [
        "### Tu código aquí ###\n",
        "print(training_images.shape)\n",
        "print(test_images.shape)"
      ]
    },
    {
      "cell_type": "markdown",
      "metadata": {
        "id": "Xwp5ljFKwmMj"
      },
      "source": [
        "*Tu respuesta aquí:* \n",
        "<font color='green'>Hay 60.000 imágenes de entrenamiento y 10.000 imágenes de test. El tamaño de las imágenes es 28x28 </font>\n",
        "\n",
        "\n",
        "\n",
        "\n",
        "\n",
        "\n",
        "\n"
      ]
    },
    {
      "cell_type": "markdown",
      "source": [
        "<font color='orange'>Esta pregunta es muy sencilla, por tanto, para darla por buena tiene que indicarse los datos exactos para obtener la calificación </font>"
      ],
      "metadata": {
        "id": "U-HYXFRB4UaJ"
      }
    },
    {
      "cell_type": "markdown",
      "metadata": {
        "id": "F2LsvfHOwmMk"
      },
      "source": [
        "**Pregunta 1.2 *(0.25 puntos)*** Realizar una exploración de las variables que contienen los datos. Describir en qué consiste un example del dataset (qué información se guarda en cada imagen) y describir qué contiene la información en y."
      ]
    },
    {
      "cell_type": "code",
      "execution_count": 8,
      "metadata": {
        "colab": {
          "base_uri": "https://localhost:8080/"
        },
        "id": "3W5rzaGxwmMk",
        "outputId": "d00dbd1e-7b7b-4fdf-fd1e-8620d758cac8"
      },
      "outputs": [
        {
          "output_type": "stream",
          "name": "stdout",
          "text": [
            "9\n",
            "[[0.         0.         0.         0.         0.         0.         0.         0.         0.         0.         0.         0.         0.         0.         0.         0.         0.\n",
            "  0.         0.         0.         0.         0.         0.         0.         0.         0.         0.         0.        ]\n",
            " [0.         0.         0.         0.         0.         0.         0.         0.         0.         0.         0.         0.         0.         0.         0.         0.         0.\n",
            "  0.         0.         0.         0.         0.         0.         0.         0.         0.         0.         0.        ]\n",
            " [0.         0.         0.         0.         0.         0.         0.         0.         0.         0.         0.         0.         0.         0.         0.         0.         0.\n",
            "  0.         0.         0.         0.         0.         0.         0.         0.         0.         0.         0.        ]\n",
            " [0.         0.         0.         0.         0.         0.         0.         0.         0.         0.         0.         0.         0.00392157 0.         0.         0.05098039 0.28627451\n",
            "  0.         0.         0.00392157 0.01568627 0.         0.         0.         0.         0.00392157 0.00392157 0.        ]\n",
            " [0.         0.         0.         0.         0.         0.         0.         0.         0.         0.         0.         0.         0.01176471 0.         0.14117647 0.53333333 0.49803922\n",
            "  0.24313725 0.21176471 0.         0.         0.         0.00392157 0.01176471 0.01568627 0.         0.         0.01176471]\n",
            " [0.         0.         0.         0.         0.         0.         0.         0.         0.         0.         0.         0.         0.02352941 0.         0.4        0.8        0.69019608\n",
            "  0.5254902  0.56470588 0.48235294 0.09019608 0.         0.         0.         0.         0.04705882 0.03921569 0.        ]\n",
            " [0.         0.         0.         0.         0.         0.         0.         0.         0.         0.         0.         0.         0.         0.         0.60784314 0.9254902  0.81176471\n",
            "  0.69803922 0.41960784 0.61176471 0.63137255 0.42745098 0.25098039 0.09019608 0.30196078 0.50980392 0.28235294 0.05882353]\n",
            " [0.         0.         0.         0.         0.         0.         0.         0.         0.         0.         0.         0.00392157 0.         0.27058824 0.81176471 0.8745098  0.85490196\n",
            "  0.84705882 0.84705882 0.63921569 0.49803922 0.4745098  0.47843137 0.57254902 0.55294118 0.34509804 0.6745098  0.25882353]\n",
            " [0.         0.         0.         0.         0.         0.         0.         0.         0.         0.00392157 0.00392157 0.00392157 0.         0.78431373 0.90980392 0.90980392 0.91372549\n",
            "  0.89803922 0.8745098  0.8745098  0.84313725 0.83529412 0.64313725 0.49803922 0.48235294 0.76862745 0.89803922 0.        ]\n",
            " [0.         0.         0.         0.         0.         0.         0.         0.         0.         0.         0.         0.         0.         0.71764706 0.88235294 0.84705882 0.8745098\n",
            "  0.89411765 0.92156863 0.89019608 0.87843137 0.87058824 0.87843137 0.86666667 0.8745098  0.96078431 0.67843137 0.        ]\n",
            " [0.         0.         0.         0.         0.         0.         0.         0.         0.         0.         0.         0.         0.         0.75686275 0.89411765 0.85490196 0.83529412\n",
            "  0.77647059 0.70588235 0.83137255 0.82352941 0.82745098 0.83529412 0.8745098  0.8627451  0.95294118 0.79215686 0.        ]\n",
            " [0.         0.         0.         0.         0.         0.         0.         0.         0.         0.00392157 0.01176471 0.         0.04705882 0.85882353 0.8627451  0.83137255 0.85490196\n",
            "  0.75294118 0.6627451  0.89019608 0.81568627 0.85490196 0.87843137 0.83137255 0.88627451 0.77254902 0.81960784 0.20392157]\n",
            " [0.         0.         0.         0.         0.         0.         0.         0.         0.         0.         0.02352941 0.         0.38823529 0.95686275 0.87058824 0.8627451  0.85490196\n",
            "  0.79607843 0.77647059 0.86666667 0.84313725 0.83529412 0.87058824 0.8627451  0.96078431 0.46666667 0.65490196 0.21960784]\n",
            " [0.         0.         0.         0.         0.         0.         0.         0.         0.         0.01568627 0.         0.         0.21568627 0.9254902  0.89411765 0.90196078 0.89411765\n",
            "  0.94117647 0.90980392 0.83529412 0.85490196 0.8745098  0.91764706 0.85098039 0.85098039 0.81960784 0.36078431 0.        ]\n",
            " [0.         0.         0.00392157 0.01568627 0.02352941 0.02745098 0.00784314 0.         0.         0.         0.         0.         0.92941176 0.88627451 0.85098039 0.8745098  0.87058824\n",
            "  0.85882353 0.87058824 0.86666667 0.84705882 0.8745098  0.89803922 0.84313725 0.85490196 1.         0.30196078 0.        ]\n",
            " [0.         0.01176471 0.         0.         0.         0.         0.         0.         0.         0.24313725 0.56862745 0.8        0.89411765 0.81176471 0.83529412 0.86666667 0.85490196\n",
            "  0.81568627 0.82745098 0.85490196 0.87843137 0.8745098  0.85882353 0.84313725 0.87843137 0.95686275 0.62352941 0.        ]\n",
            " [0.         0.         0.         0.         0.07058824 0.17254902 0.32156863 0.41960784 0.74117647 0.89411765 0.8627451  0.87058824 0.85098039 0.88627451 0.78431373 0.80392157 0.82745098\n",
            "  0.90196078 0.87843137 0.91764706 0.69019608 0.7372549  0.98039216 0.97254902 0.91372549 0.93333333 0.84313725 0.        ]\n",
            " [0.         0.22352941 0.73333333 0.81568627 0.87843137 0.86666667 0.87843137 0.81568627 0.8        0.83921569 0.81568627 0.81960784 0.78431373 0.62352941 0.96078431 0.75686275 0.80784314\n",
            "  0.8745098  1.         1.         0.86666667 0.91764706 0.86666667 0.82745098 0.8627451  0.90980392 0.96470588 0.        ]\n",
            " [0.01176471 0.79215686 0.89411765 0.87843137 0.86666667 0.82745098 0.82745098 0.83921569 0.80392157 0.80392157 0.80392157 0.8627451  0.94117647 0.31372549 0.58823529 1.         0.89803922\n",
            "  0.86666667 0.7372549  0.60392157 0.74901961 0.82352941 0.8        0.81960784 0.87058824 0.89411765 0.88235294 0.        ]\n",
            " [0.38431373 0.91372549 0.77647059 0.82352941 0.87058824 0.89803922 0.89803922 0.91764706 0.97647059 0.8627451  0.76078431 0.84313725 0.85098039 0.94509804 0.25490196 0.28627451 0.41568627\n",
            "  0.45882353 0.65882353 0.85882353 0.86666667 0.84313725 0.85098039 0.8745098  0.8745098  0.87843137 0.89803922 0.11372549]\n",
            " [0.29411765 0.8        0.83137255 0.8        0.75686275 0.80392157 0.82745098 0.88235294 0.84705882 0.7254902  0.77254902 0.80784314 0.77647059 0.83529412 0.94117647 0.76470588 0.89019608\n",
            "  0.96078431 0.9372549  0.8745098  0.85490196 0.83137255 0.81960784 0.87058824 0.8627451  0.86666667 0.90196078 0.2627451 ]\n",
            " [0.18823529 0.79607843 0.71764706 0.76078431 0.83529412 0.77254902 0.7254902  0.74509804 0.76078431 0.75294118 0.79215686 0.83921569 0.85882353 0.86666667 0.8627451  0.9254902  0.88235294\n",
            "  0.84705882 0.78039216 0.80784314 0.72941176 0.70980392 0.69411765 0.6745098  0.70980392 0.80392157 0.80784314 0.45098039]\n",
            " [0.         0.47843137 0.85882353 0.75686275 0.70196078 0.67058824 0.71764706 0.76862745 0.8        0.82352941 0.83529412 0.81176471 0.82745098 0.82352941 0.78431373 0.76862745 0.76078431\n",
            "  0.74901961 0.76470588 0.74901961 0.77647059 0.75294118 0.69019608 0.61176471 0.65490196 0.69411765 0.82352941 0.36078431]\n",
            " [0.         0.         0.29019608 0.74117647 0.83137255 0.74901961 0.68627451 0.6745098  0.68627451 0.70980392 0.7254902  0.7372549  0.74117647 0.7372549  0.75686275 0.77647059 0.8\n",
            "  0.81960784 0.82352941 0.82352941 0.82745098 0.7372549  0.7372549  0.76078431 0.75294118 0.84705882 0.66666667 0.        ]\n",
            " [0.00784314 0.         0.         0.         0.25882353 0.78431373 0.87058824 0.92941176 0.9372549  0.94901961 0.96470588 0.95294118 0.95686275 0.86666667 0.8627451  0.75686275 0.74901961\n",
            "  0.70196078 0.71372549 0.71372549 0.70980392 0.69019608 0.65098039 0.65882353 0.38823529 0.22745098 0.         0.        ]\n",
            " [0.         0.         0.         0.         0.         0.         0.         0.15686275 0.23921569 0.17254902 0.28235294 0.16078431 0.1372549  0.         0.         0.         0.\n",
            "  0.         0.         0.         0.         0.         0.         0.         0.         0.         0.         0.        ]\n",
            " [0.         0.         0.         0.         0.         0.         0.         0.         0.         0.         0.         0.         0.         0.         0.         0.         0.\n",
            "  0.         0.         0.         0.         0.         0.         0.         0.         0.         0.         0.        ]\n",
            " [0.         0.         0.         0.         0.         0.         0.         0.         0.         0.         0.         0.         0.         0.         0.         0.         0.\n",
            "  0.         0.         0.         0.         0.         0.         0.         0.         0.         0.         0.        ]]\n"
          ]
        }
      ],
      "source": [
        "### Tu código aquí ###\n",
        "print(training_labels[0])\n",
        "print(training_images[0])"
      ]
    },
    {
      "cell_type": "markdown",
      "metadata": {
        "id": "zaEWKFyvwmMm"
      },
      "source": [
        "*Tu respuesta aquí:*\n",
        "\n",
        "<font color='green'>\n",
        "Una imagen consiste en una matrix de 28x28 puntos donde cada uno de los puntos corresponde con un píxel e indica la intensidad del gris en ese píxel  </font>\n",
        "\n",
        "<br>\n",
        "\n",
        "<font color='green'>\n",
        "La etiqueta consiste en un valor numérico entre 0 y 9 en el cual se indica que tipo de prenda de vestir representa la imagen a la que hace referencia. Además, como se puede ver en la siguente instrucción, en el caso de las imágenes de entrenamiento, están perfectamente balanceadas al haber 6.000 ejemplos de cada una de las clases. </font>"
      ]
    },
    {
      "cell_type": "markdown",
      "source": [
        "<font color='orange'>Simplemente con decir que cada instancia es una matrix (imagen) de 28x28 e indicar que en y tenemos 10 clases es suficiente </font>"
      ],
      "metadata": {
        "id": "9oqZv6wp4qRG"
      }
    },
    {
      "cell_type": "code",
      "execution_count": 9,
      "metadata": {
        "colab": {
          "base_uri": "https://localhost:8080/"
        },
        "id": "4_eP3q0RnvMw",
        "outputId": "ab83a46e-0848-4809-80ad-9399442f907a"
      },
      "outputs": [
        {
          "output_type": "execute_result",
          "data": {
            "text/plain": [
              "array([[   0, 6000],\n",
              "       [   1, 6000],\n",
              "       [   2, 6000],\n",
              "       [   3, 6000],\n",
              "       [   4, 6000],\n",
              "       [   5, 6000],\n",
              "       [   6, 6000],\n",
              "       [   7, 6000],\n",
              "       [   8, 6000],\n",
              "       [   9, 6000]])"
            ]
          },
          "metadata": {},
          "execution_count": 9
        }
      ],
      "source": [
        "(unique, counts) = np.unique(training_labels, return_counts=True)\n",
        "frequencies = np.asarray((unique, counts)).T\n",
        "frequencies"
      ]
    },
    {
      "cell_type": "markdown",
      "metadata": {
        "id": "dI3IAhOQ8zHi"
      },
      "source": [
        "## 2. Creación del Modelo"
      ]
    },
    {
      "cell_type": "markdown",
      "metadata": {
        "id": "yYUWWsszMAKt"
      },
      "source": [
        "Ahora vamos a definir el modelo, pero antes vamos a repasar algunos comandos y conceptos muy útiles:\n",
        "* **Sequential**: Eso define una SECUENCIA de capas en la red neuronal\n",
        "* **Dense**: Añade una capa de neuronas\n",
        "* **Flatten**: ¿Recuerdas cómo eran las imágenes cuando las imprimiste para poder verlas? Un cuadrado, Flatten toma ese cuadrado y lo convierte en un vector de una dimensión.\n",
        "\n",
        "Cada capa de neuronas necesita una función de activación. Normalmente se usa la función relu en las capas intermedias y softmax en la ultima capa (en problemas de clasificación de más de dos items)\n",
        "* **Relu** significa que \"Si X>0 devuelve X, si no, devuelve 0\", así que lo que hace es pasar sólo valores 0 o mayores a la siguiente capa de la red.\n",
        "* **Softmax** toma un conjunto de valores, y escoge el más grande."
      ]
    },
    {
      "cell_type": "markdown",
      "metadata": {
        "id": "QgBW1yE2MwPp"
      },
      "source": [
        " **Pregunta 2.1 (2 puntos)**. Utilizando Keras, y preparando los datos de X e y como fuera necesario, define y entrena una red neuronal que sea capaz de clasificar imágenes de Fashion MNIST con las siguientes características:\n",
        "\n",
        "* Una hidden layer de tamaños 128 con funciones de activación sigmoid.\n",
        "* Optimizador Adam.\n",
        "* Durante el entrenamiento, la red tiene que mostrar resultados de loss y accuracy por cada epoch.\n",
        "* La red debe entrenar durante 10 epochs y batch size de 64.\n",
        "* La última capa debe de ser una capa softmax.\n",
        "* Tu red tendría que ser capaz de superar fácilmente 80% de accuracy."
      ]
    },
    {
      "cell_type": "markdown",
      "source": [
        "<font color='orange'>En este caso por cada error que se cometa quitar 0,5 puntos. Por ejemplo si tiene más de una hidden layer -0,5 puntos, si utiliza un optimizador distinto a Adam -0,5 puntos si entrena un número diferente de 10 epochs -0,5 puntos y así sucesivamente. En lo no especificado directamente puntuad siempre correctamente </font>"
      ],
      "metadata": {
        "id": "6_cmzlrz4-Ym"
      }
    },
    {
      "cell_type": "code",
      "execution_count": 10,
      "metadata": {
        "id": "aTaD2QXIORwu"
      },
      "outputs": [],
      "source": [
        "### Tu código para la red neuronal de la pregunta 2 aquí ###\n",
        "nn = tf.keras.Sequential()                                #Como necesitamos una red neuronal de tres capas (una secuencia de tres capas) utilizamos la función ‘Sequential’ de Keras para crearla.\n",
        "nn.add(tf.keras.layers.Flatten(input_shape=(28,28)))      #Ahora añadimos la capa inicial. #Como nuestro imput es una matriz, necesitamos pasarlo a un vector para que pueda ser procesado por la entrada de la red utilizando Flatten. #Cada píxel de la imágen es una entrada, al ser una red neuronal clásica #Con 'input_shape' le indicamos la forma de entrada \n",
        "nn.add(tf.keras.layers.Dense(128, activation='sigmoid'))  #Hidden layer de tamaño 128 y funcion de activación Sigmoid Añadimos una capa densamente conectada con la siguiente capa con Dense \n",
        "nn.add(tf.keras.layers.Dense(10, activation='softmax'))   #Ultima capa softmax, conviertiendo el vector de 10 en probabilidades de cada clase"
      ]
    },
    {
      "cell_type": "code",
      "execution_count": 11,
      "metadata": {
        "id": "UwTpEU_vo9nG"
      },
      "outputs": [],
      "source": [
        "#Para configurar el modelo utilizamos la función 'compile' \n",
        "#Activamos la métrica accuracy para ver la precisión del modelos #con 'metrics' y función de perdida \"sparse_categorical_crossentropy\"  #para dos o más clases\n",
        "nn.compile(optimizer='adam', loss='sparse_categorical_crossentropy',metrics=['accuracy'])"
      ]
    },
    {
      "cell_type": "code",
      "execution_count": 12,
      "metadata": {
        "colab": {
          "base_uri": "https://localhost:8080/"
        },
        "id": "RTAQYlsPpJx7",
        "outputId": "8eb83422-4647-4468-abc8-6845499570ad"
      },
      "outputs": [
        {
          "output_type": "stream",
          "name": "stdout",
          "text": [
            "Epoch 1/10\n",
            "1875/1875 [==============================] - 10s 5ms/step - loss: 0.5445 - accuracy: 0.8133\n",
            "Epoch 2/10\n",
            "1875/1875 [==============================] - 9s 5ms/step - loss: 0.3919 - accuracy: 0.8587\n",
            "Epoch 3/10\n",
            "1875/1875 [==============================] - 4s 2ms/step - loss: 0.3546 - accuracy: 0.8713\n",
            "Epoch 4/10\n",
            "1875/1875 [==============================] - 4s 2ms/step - loss: 0.3287 - accuracy: 0.8808\n",
            "Epoch 5/10\n",
            "1875/1875 [==============================] - 5s 3ms/step - loss: 0.3100 - accuracy: 0.8859\n",
            "Epoch 6/10\n",
            "1875/1875 [==============================] - 4s 2ms/step - loss: 0.2953 - accuracy: 0.8930\n",
            "Epoch 7/10\n",
            "1875/1875 [==============================] - 4s 2ms/step - loss: 0.2847 - accuracy: 0.8952\n",
            "Epoch 8/10\n",
            "1875/1875 [==============================] - 4s 2ms/step - loss: 0.2717 - accuracy: 0.9005\n",
            "Epoch 9/10\n",
            "1875/1875 [==============================] - 5s 2ms/step - loss: 0.2619 - accuracy: 0.9029\n",
            "Epoch 10/10\n",
            "1875/1875 [==============================] - 5s 2ms/step - loss: 0.2535 - accuracy: 0.9062\n"
          ]
        },
        {
          "output_type": "execute_result",
          "data": {
            "text/plain": [
              "<keras.callbacks.History at 0x7f91faab08d0>"
            ]
          },
          "metadata": {},
          "execution_count": 12
        }
      ],
      "source": [
        "nn.fit(training_images, training_labels, epochs=10)\n",
        "#En mi caso, no he puesto datos de validación, pero podría hacerlo usando la siguiente instrucción:\n",
        "#nn.fit(training_images, training_labels, epochs=10, validation_data=(test_images, test_labels))"
      ]
    },
    {
      "cell_type": "markdown",
      "metadata": {
        "id": "Bxr5hTKYOQnK"
      },
      "source": [
        "Para concluir el entrenamiento de la red neuronal, una buena practica es evaluar el modelo para ver si la precisión de entrenamiento es real\n",
        "\n",
        "**pregunta 2.2 (0.5 puntos)**: evalua el modelo con las imagenes y etiquetas test."
      ]
    },
    {
      "cell_type": "code",
      "execution_count": 13,
      "metadata": {
        "colab": {
          "base_uri": "https://localhost:8080/"
        },
        "id": "VNjQEtUUG4iI",
        "outputId": "7cd8ae2e-f223-47ae-822a-a8415ad400e4"
      },
      "outputs": [
        {
          "output_type": "stream",
          "name": "stdout",
          "text": [
            "313/313 - 1s - loss: 0.3314 - accuracy: 0.8821 - 533ms/epoch - 2ms/step\n",
            "Precisión del modelo: 0.882099986076355\n"
          ]
        }
      ],
      "source": [
        "### Tu código para la evaluación de la red neuronal de la pregunta 2 aquí ###\n",
        "test_loss, test_accuracy = nn.evaluate(test_images,  test_labels, verbose=2)\n",
        "print('Precisión del modelo:', test_accuracy)"
      ]
    },
    {
      "cell_type": "markdown",
      "source": [
        "<font color='orange'>Esta pregunta está pensada para utilizar el método model.evaluate pero si se utiliza en el método .fit el parámetro validation_data y aqui se indican los valores de val_loss y val_accuracy lo podéis dar también por bueno. Además (y esto aplica en general) los resultados se deben dar por buenos a no ser que haya una diferencia importante con lo que se muestra aquí</font>"
      ],
      "metadata": {
        "id": "JmN6dUDR5Ufh"
      }
    },
    {
      "cell_type": "markdown",
      "metadata": {
        "id": "ygMVnmSYO83U"
      },
      "source": [
        "Ahora vamos a explorar el código con una serie de ejercicios para alcanzar un grado de comprensión mayor sobre las redes neuronales y su entrenamiento.\n",
        "\n",
        "## 3: Funcionamiento de las predicción de la red neuronal\n",
        "\n",
        "Sigue los siguientes pasos: \n",
        "\n",
        "* Crea una variable llamada **classifications** para construir un clasificador con las imágenes de prueba, para ello puedes utilizar la función predict sobre el conjunto de test\n",
        "* Imprime con la función print la primera entrada en las clasificaciones. \n",
        "\n",
        "**pregunta 3.1 (0.25 puntos)**, el resultado al imprimirlo es un vector de números, \n",
        "* ¿Por qué crees que ocurre esto, y qué representa este vector de números?\n",
        "\n",
        "**pregunta 3.2 (0.25 puntos)**\n",
        "* ¿Cúal es la clase de la primera entrada de la variable **classifications**? La respuesta puede ser un número o su etiqueta/clase equivalente."
      ]
    },
    {
      "cell_type": "code",
      "execution_count": 14,
      "metadata": {
        "id": "b-mL-h4xQhCm"
      },
      "outputs": [],
      "source": [
        "### Tu código del clasificador de la pregunta 3 aquí ###\n",
        "clasificador = nn.predict(test_images)"
      ]
    },
    {
      "cell_type": "code",
      "execution_count": 15,
      "metadata": {
        "colab": {
          "base_uri": "https://localhost:8080/"
        },
        "id": "mQbLC_tKqPuj",
        "outputId": "95fa62e2-3401-4a99-e53d-8e60bb295e79"
      },
      "outputs": [
        {
          "output_type": "execute_result",
          "data": {
            "text/plain": [
              "array([[2.10242001e-06, 3.37853692e-08, 2.36501961e-07, ..., 5.18648932e-03, 2.28917543e-05, 9.91182804e-01],\n",
              "       [5.64415182e-04, 9.83779728e-07, 9.88079727e-01, ..., 1.48251445e-07, 2.41221642e-06, 1.49770571e-07],\n",
              "       [4.75332272e-05, 9.99928474e-01, 4.82881887e-06, ..., 1.72153122e-07, 3.35186144e-07, 3.01512637e-09],\n",
              "       ...,\n",
              "       [6.94740156e-04, 7.49910782e-07, 1.72171945e-04, ..., 1.11937654e-04, 9.92907047e-01, 3.07409607e-07],\n",
              "       [1.20858625e-04, 9.99064147e-01, 3.95081879e-05, ..., 3.52691882e-06, 2.95537598e-06, 2.23402822e-06],\n",
              "       [2.84249126e-07, 1.09613921e-07, 1.09685720e-06, ..., 1.38420390e-03, 2.57376814e-05, 1.48692925e-06]], dtype=float32)"
            ]
          },
          "metadata": {},
          "execution_count": 15
        }
      ],
      "source": [
        "clasificador"
      ]
    },
    {
      "cell_type": "code",
      "execution_count": 16,
      "metadata": {
        "colab": {
          "base_uri": "https://localhost:8080/"
        },
        "id": "W55wVVrPqQ8W",
        "outputId": "bb82315b-1877-4f0c-d0c1-852305c8e53e"
      },
      "outputs": [
        {
          "output_type": "execute_result",
          "data": {
            "text/plain": [
              "array([2.1024200e-06, 3.3785369e-08, 2.3650196e-07, 2.7066289e-08, 2.9963067e-07, 3.6026100e-03, 2.4376523e-06, 5.1864893e-03, 2.2891754e-05, 9.9118280e-01], dtype=float32)"
            ]
          },
          "metadata": {},
          "execution_count": 16
        }
      ],
      "source": [
        "clasificador[0]"
      ]
    },
    {
      "cell_type": "markdown",
      "metadata": {
        "id": "pvbVC9gaQhMY"
      },
      "source": [
        "Tu respuesta a la pregunta 3.1 aquí:\n",
        "\n",
        "<font color='green'>\n",
        "Este vector de números corresponde con la salida de la red neuronal. Hay 10 neuronas de salida y cada vector tiene 10 valores, uno con la salida de cada neurona. La capa de salida tiene una funcion de activación softmax. Esta funcion es muy usada en problemas de clasificación porque normaliza las salidas de las neuronas de la última capa en el sentido que convierte todos los valores de forma que la suma de todos ellos suma 1. De esta forma, la posicion del valor más alto corresponde con la salida del problema de clasificación y cuanto más alto sea más seguro está el modelo de la predicción.</font>"
      ]
    },
    {
      "cell_type": "markdown",
      "source": [
        "<font color='orange'>Hay que decir que la salida es un vector y para cada instancia clasificada hay 10 valores donde cada uno es una prenda de vestir (por eso hay 10 neuronas de salida) </font>"
      ],
      "metadata": {
        "id": "CrKDU6oG6BBs"
      }
    },
    {
      "cell_type": "markdown",
      "metadata": {
        "id": "oRWo-75tdgv0"
      },
      "source": [
        "Tu respuesta a la pregunta 3.2 aquí:"
      ]
    },
    {
      "cell_type": "code",
      "execution_count": 17,
      "metadata": {
        "colab": {
          "base_uri": "https://localhost:8080/"
        },
        "id": "yUd82Y6isp5k",
        "outputId": "2c899e8a-5d7d-48d0-e57e-69b75190e596"
      },
      "outputs": [
        {
          "output_type": "stream",
          "name": "stdout",
          "text": [
            "Vector de salida de la primera entrada: [2.1024200e-06 3.3785369e-08 2.3650196e-07 2.7066289e-08 2.9963067e-07 3.6026100e-03 2.4376523e-06 5.1864893e-03 2.2891754e-05 9.9118280e-01]\n",
            "Valor más alto del vector 0.9911828\n",
            "Posición del valor más alto: 9\n",
            "Etiqueta de la imagen de la primera posición: 9\n",
            "Nombre de la clase: Ankle boot\n"
          ]
        }
      ],
      "source": [
        "print('Vector de salida de la primera entrada:', clasificador[0])\n",
        "print('Valor más alto del vector', max(clasificador[0]))\n",
        "print('Posición del valor más alto:', np.argmax(clasificador[0]))\n",
        "print('Etiqueta de la imagen de la primera posición:', test_labels[0])\n",
        "print('Nombre de la clase:', class_names[test_labels[0]])"
      ]
    },
    {
      "cell_type": "markdown",
      "source": [
        "<font color='orange'>Diciendo el nombre de la prenda vestir o la posición del valor más alto es suficiente </font>"
      ],
      "metadata": {
        "id": "4ZciTyrl6V36"
      }
    },
    {
      "cell_type": "markdown",
      "metadata": {
        "id": "hiQ8qAzhRQ4L"
      },
      "source": [
        "# **4: Impacto variar el número de neuronas en las capas ocultas**\n",
        "\n",
        "En este ejercicio vamos a experimentar con nuestra red neuronal cambiando el numero de neuronas por 512 y por 1024. Para ello, utiliza la red neuronal de la pregunta 1, y en su capa oculta cambia las 128 neuronas por:\n",
        "\n",
        "* **512 neuronas en la capa oculta\n",
        "* **1024 neuronas en la capa oculta\n",
        "\n",
        "Entrena la red en ambos casos.\n",
        "\n"
      ]
    },
    {
      "cell_type": "code",
      "execution_count": 18,
      "metadata": {
        "colab": {
          "base_uri": "https://localhost:8080/"
        },
        "id": "cdP8ZwuaUV93",
        "outputId": "e7519494-fe5b-4a7f-de1a-1f7fc5eed49b"
      },
      "outputs": [
        {
          "output_type": "stream",
          "name": "stdout",
          "text": [
            "Epoch 1/10\n",
            "1875/1875 [==============================] - 10s 5ms/step - loss: 0.5052 - accuracy: 0.8213\n",
            "Epoch 2/10\n",
            "1875/1875 [==============================] - 10s 5ms/step - loss: 0.3847 - accuracy: 0.8591\n",
            "Epoch 3/10\n",
            "1875/1875 [==============================] - 9s 5ms/step - loss: 0.3442 - accuracy: 0.8739\n",
            "Epoch 4/10\n",
            "1875/1875 [==============================] - 10s 5ms/step - loss: 0.3131 - accuracy: 0.8840\n",
            "Epoch 5/10\n",
            "1875/1875 [==============================] - 9s 5ms/step - loss: 0.2933 - accuracy: 0.8903\n",
            "Epoch 6/10\n",
            "1875/1875 [==============================] - 9s 5ms/step - loss: 0.2751 - accuracy: 0.8980\n",
            "Epoch 7/10\n",
            "1875/1875 [==============================] - 9s 5ms/step - loss: 0.2584 - accuracy: 0.9035\n",
            "Epoch 8/10\n",
            "1875/1875 [==============================] - 9s 5ms/step - loss: 0.2460 - accuracy: 0.9075\n",
            "Epoch 9/10\n",
            "1875/1875 [==============================] - 9s 5ms/step - loss: 0.2324 - accuracy: 0.9136\n",
            "Epoch 10/10\n",
            "1875/1875 [==============================] - 9s 5ms/step - loss: 0.2223 - accuracy: 0.9162\n"
          ]
        },
        {
          "output_type": "execute_result",
          "data": {
            "text/plain": [
              "<keras.callbacks.History at 0x7f91fa941a50>"
            ]
          },
          "metadata": {},
          "execution_count": 18
        }
      ],
      "source": [
        "### Tu código para 512 neuronas aquí ###\n",
        "nn512 = tf.keras.Sequential()                                \n",
        "nn512.add(tf.keras.layers.Flatten(input_shape=(28,28)))      \n",
        "nn512.add(tf.keras.layers.Dense(512, activation='sigmoid'))  \n",
        "nn512.add(tf.keras.layers.Dense(10, activation='softmax'))   \n",
        "\n",
        "nn512.compile(optimizer='adam', loss='sparse_categorical_crossentropy',metrics=['accuracy'])\n",
        "\n",
        "nn512.fit(training_images, training_labels, epochs=10)\n"
      ]
    },
    {
      "cell_type": "code",
      "execution_count": 19,
      "metadata": {
        "colab": {
          "base_uri": "https://localhost:8080/"
        },
        "id": "YXBlbbfuUaPa",
        "outputId": "edf7f283-c387-4e00-b4f1-b390963cfa64"
      },
      "outputs": [
        {
          "output_type": "stream",
          "name": "stdout",
          "text": [
            "Epoch 1/10\n",
            "1875/1875 [==============================] - 16s 8ms/step - loss: 0.5002 - accuracy: 0.8188\n",
            "Epoch 2/10\n",
            "1875/1875 [==============================] - 15s 8ms/step - loss: 0.3852 - accuracy: 0.8587\n",
            "Epoch 3/10\n",
            "1875/1875 [==============================] - 16s 8ms/step - loss: 0.3428 - accuracy: 0.8752\n",
            "Epoch 4/10\n",
            "1875/1875 [==============================] - 15s 8ms/step - loss: 0.3125 - accuracy: 0.8840\n",
            "Epoch 5/10\n",
            "1875/1875 [==============================] - 15s 8ms/step - loss: 0.2882 - accuracy: 0.8934\n",
            "Epoch 6/10\n",
            "1875/1875 [==============================] - 14s 8ms/step - loss: 0.2699 - accuracy: 0.8992\n",
            "Epoch 7/10\n",
            "1875/1875 [==============================] - 14s 8ms/step - loss: 0.2526 - accuracy: 0.9053\n",
            "Epoch 8/10\n",
            "1875/1875 [==============================] - 15s 8ms/step - loss: 0.2379 - accuracy: 0.9101\n",
            "Epoch 9/10\n",
            "1875/1875 [==============================] - 15s 8ms/step - loss: 0.2239 - accuracy: 0.9153\n",
            "Epoch 10/10\n",
            "1875/1875 [==============================] - 15s 8ms/step - loss: 0.2116 - accuracy: 0.9193\n"
          ]
        },
        {
          "output_type": "execute_result",
          "data": {
            "text/plain": [
              "<keras.callbacks.History at 0x7f91fa941d10>"
            ]
          },
          "metadata": {},
          "execution_count": 19
        }
      ],
      "source": [
        "### Tu código para 1024 neuronas aquí ###\n",
        "nn1024 = tf.keras.Sequential()                                \n",
        "nn1024.add(tf.keras.layers.Flatten(input_shape=(28,28)))      \n",
        "nn1024.add(tf.keras.layers.Dense(1024, activation='sigmoid'))  \n",
        "nn1024.add(tf.keras.layers.Dense(10, activation='softmax'))   \n",
        "\n",
        "nn1024.compile(optimizer='adam', loss='sparse_categorical_crossentropy',metrics=['accuracy'])\n",
        "\n",
        "nn1024.fit(training_images, training_labels, epochs=10)"
      ]
    },
    {
      "cell_type": "code",
      "execution_count": 20,
      "metadata": {
        "colab": {
          "base_uri": "https://localhost:8080/"
        },
        "id": "ALBuuumbw3Ci",
        "outputId": "6cdb8f12-c247-44a0-9339-27bb1fac313f"
      },
      "outputs": [
        {
          "output_type": "stream",
          "name": "stdout",
          "text": [
            "313/313 - 0s - loss: 0.3314 - accuracy: 0.8821 - 417ms/epoch - 1ms/step\n",
            "Precisión del modelo: 0.882099986076355\n",
            "313/313 - 1s - loss: 0.3154 - accuracy: 0.8888 - 785ms/epoch - 3ms/step\n",
            "Precisión del modelo 512: 0.8888000249862671\n",
            "313/313 - 1s - loss: 0.3479 - accuracy: 0.8759 - 1s/epoch - 3ms/step\n",
            "Precisión del modelo 1024: 0.8758999705314636\n"
          ]
        }
      ],
      "source": [
        "test_loss, test_accuracy = nn.evaluate(test_images,  test_labels, verbose=2)\n",
        "print('Precisión del modelo:', test_accuracy)\n",
        "test_loss512, test_accuracy512 = nn512.evaluate(test_images,  test_labels, verbose=2)\n",
        "print('Precisión del modelo 512:', test_accuracy512)\n",
        "test_loss1024, test_accuracy1024 = nn1024.evaluate(test_images,  test_labels, verbose=2)\n",
        "print('Precisión del modelo 1024:', test_accuracy1024)"
      ]
    },
    {
      "cell_type": "markdown",
      "metadata": {
        "id": "wG0h2HL-Uj93"
      },
      "source": [
        "**pregunta 4.1 (0.5 puntos)**: ¿Cual es el impacto que tiene la red neuronal? "
      ]
    },
    {
      "cell_type": "markdown",
      "metadata": {
        "id": "0P3hXHPllH4L"
      },
      "source": [
        "Tu respuesta a la pregunta 4.1 aquí: <font color='green'> Se puede decir que el impacto es prácticamente nulo </font>"
      ]
    },
    {
      "cell_type": "markdown",
      "source": [
        "<font color='orange'>Esta es la respuesta correcta y hay que indicarlo. En el caso que diga una respuesta diferente verificar si veis algún error en el código con respecto al que pongo de ejemplo, en ese caso quitar solo la mitad de la puntuación </font>"
      ],
      "metadata": {
        "id": "yemPZW3O6miC"
      }
    },
    {
      "cell_type": "markdown",
      "metadata": {
        "id": "b-NpUI9EVkVz"
      },
      "source": [
        "Después de entrenar el modelo de esta forma (con 512 y 1024 neuronas en la capa oculta) volvéis a ejecutar el predictor guardado en la variable **classifications**, escribir el código del clasificador del ejercicio 1 de nuevo e imprimid el primer objeto guardado en la variable classifications.\n",
        "\n",
        "**pregunta 4.2 (0.25 puntos)**: \n",
        "\n",
        "* ¿En qué clase esta clasificado ahora la primera prenda de vestir de la variable classifications?\n",
        "\n",
        "**pregunta 4.3 (0.25 puntos)**: \n",
        "\n",
        "* ¿Por qué crees que ha ocurrido esto?"
      ]
    },
    {
      "cell_type": "code",
      "execution_count": 21,
      "metadata": {
        "id": "RdJHl3V-G4iS"
      },
      "outputs": [],
      "source": [
        "### Tu código del clasificador de la pregunta 4 aquí ###"
      ]
    },
    {
      "cell_type": "code",
      "execution_count": 22,
      "metadata": {
        "colab": {
          "base_uri": "https://localhost:8080/"
        },
        "id": "Aj5qL2RmvLgE",
        "outputId": "c5deccd2-8922-47ab-8a67-7ecc215b917f"
      },
      "outputs": [
        {
          "output_type": "stream",
          "name": "stdout",
          "text": [
            "Vector de salida de la primera entrada del clasificador 512: [4.4149633e-07 7.5379463e-09 3.6636550e-08 1.5627496e-08 1.0718942e-07 1.1770598e-03 3.3735293e-07 7.4629560e-03 3.4592131e-07 9.9135876e-01]\n",
            "Vector de salida de la primera entrada del clasificador 1024: [4.4149633e-07 7.5379463e-09 3.6636550e-08 1.5627496e-08 1.0718942e-07 1.1770598e-03 3.3735293e-07 7.4629560e-03 3.4592131e-07 9.9135876e-01]\n",
            "Valor más alto del vector del clasificador 512: 0.99135876\n",
            "Valor más alto del vector del clasificador 1024: 0.99135876\n",
            "Posición del valor más alto del clasificador 512: 9\n",
            "Posición del valor más alto del clasificador 1024: 9\n"
          ]
        }
      ],
      "source": [
        "clasificador512 = nn512.predict(test_images)\n",
        "clasificador1024 = nn1024.predict(test_images)\n",
        "\n",
        "print('Vector de salida de la primera entrada del clasificador 512:', clasificador512[0])\n",
        "print('Vector de salida de la primera entrada del clasificador 1024:', clasificador512[0])\n",
        "\n",
        "print('Valor más alto del vector del clasificador 512:', max(clasificador512[0]))\n",
        "print('Valor más alto del vector del clasificador 1024:', max(clasificador512[0]))\n",
        "\n",
        "print('Posición del valor más alto del clasificador 512:', np.argmax(clasificador512[0]))\n",
        "print('Posición del valor más alto del clasificador 1024:', np.argmax(clasificador512[0]))"
      ]
    },
    {
      "cell_type": "markdown",
      "metadata": {
        "id": "P3NfwdOGZcAa"
      },
      "source": [
        "Tu respuesta a la pregunta 4.2 aquí:"
      ]
    },
    {
      "cell_type": "markdown",
      "metadata": {
        "id": "yk-xy3sdwcTq"
      },
      "source": [
        "<font color='green'>Predice la clase 9 en ambos casos, exactamente igual que el modelo anterior con 128 neuronas. </font>"
      ]
    },
    {
      "cell_type": "markdown",
      "source": [
        "<font color='orange'>Tiene que verse en la respuesta que la clasificación coincide en ámbos modelos </font>"
      ],
      "metadata": {
        "id": "Zn5ZzrkE639c"
      }
    },
    {
      "cell_type": "markdown",
      "metadata": {
        "id": "nFmfpxE1ZcJx"
      },
      "source": [
        "Tu respuesta a la pregunta 4.3 aquí:"
      ]
    },
    {
      "cell_type": "markdown",
      "metadata": {
        "id": "FwTT87S0wiPK"
      },
      "source": [
        "<font color='green'>Esto nos quiere decir que tener un menor número de neuronas no tiene por qué significar siempre peor precisión (y viceversa).</font>"
      ]
    },
    {
      "cell_type": "markdown",
      "source": [
        "<font color='orange'>Cualquier respuesta similar a esta en la que se ponga de manifiesto que a veces no por más neuronas se consigue mejor resultado es válida </font>"
      ],
      "metadata": {
        "id": "cIpHjIaF7Cxy"
      }
    },
    {
      "cell_type": "markdown",
      "metadata": {
        "id": "59eM76O1YekZ"
      },
      "source": [
        "# **5: Capa Flatten**\n",
        "\n",
        "En este ejercicio vamos a ver que ocurre cuando quitamos la capa flatten, para ello, escribe la red neuronal de la pregunta 1 y no pongas la capa Flatten.\n",
        "\n",
        "**pregunta 5 (0.5 puntos):** ¿Puedes explicar por qué da el error que da?\n",
        "\n"
      ]
    },
    {
      "cell_type": "code",
      "execution_count": 23,
      "metadata": {
        "colab": {
          "base_uri": "https://localhost:8080/",
          "height": 780
        },
        "id": "ecfEVKEuG4iU",
        "outputId": "83410bfd-2028-4d68-b0d1-fdca7427ab5a"
      },
      "outputs": [
        {
          "output_type": "stream",
          "name": "stdout",
          "text": [
            "Epoch 1/10\n"
          ]
        },
        {
          "output_type": "error",
          "ename": "ValueError",
          "evalue": "ignored",
          "traceback": [
            "\u001b[0;31m---------------------------------------------------------------------------\u001b[0m",
            "\u001b[0;31mValueError\u001b[0m                                Traceback (most recent call last)",
            "\u001b[0;32m<ipython-input-23-94061acaa47d>\u001b[0m in \u001b[0;36m<module>\u001b[0;34m()\u001b[0m\n\u001b[1;32m      6\u001b[0m \u001b[0mnn_no_flatten\u001b[0m\u001b[0;34m.\u001b[0m\u001b[0mcompile\u001b[0m\u001b[0;34m(\u001b[0m\u001b[0moptimizer\u001b[0m\u001b[0;34m=\u001b[0m\u001b[0;34m'adam'\u001b[0m\u001b[0;34m,\u001b[0m \u001b[0mloss\u001b[0m\u001b[0;34m=\u001b[0m\u001b[0;34m'sparse_categorical_crossentropy'\u001b[0m\u001b[0;34m,\u001b[0m\u001b[0mmetrics\u001b[0m\u001b[0;34m=\u001b[0m\u001b[0;34m[\u001b[0m\u001b[0;34m'accuracy'\u001b[0m\u001b[0;34m]\u001b[0m\u001b[0;34m)\u001b[0m\u001b[0;34m\u001b[0m\u001b[0;34m\u001b[0m\u001b[0m\n\u001b[1;32m      7\u001b[0m \u001b[0;34m\u001b[0m\u001b[0m\n\u001b[0;32m----> 8\u001b[0;31m \u001b[0mnn_no_flatten\u001b[0m\u001b[0;34m.\u001b[0m\u001b[0mfit\u001b[0m\u001b[0;34m(\u001b[0m\u001b[0mtraining_images\u001b[0m\u001b[0;34m,\u001b[0m \u001b[0mtraining_labels\u001b[0m\u001b[0;34m,\u001b[0m \u001b[0mepochs\u001b[0m\u001b[0;34m=\u001b[0m\u001b[0;36m10\u001b[0m\u001b[0;34m)\u001b[0m\u001b[0;34m\u001b[0m\u001b[0;34m\u001b[0m\u001b[0m\n\u001b[0m",
            "\u001b[0;32m/usr/local/lib/python3.7/dist-packages/keras/utils/traceback_utils.py\u001b[0m in \u001b[0;36merror_handler\u001b[0;34m(*args, **kwargs)\u001b[0m\n\u001b[1;32m     65\u001b[0m     \u001b[0;32mexcept\u001b[0m \u001b[0mException\u001b[0m \u001b[0;32mas\u001b[0m \u001b[0me\u001b[0m\u001b[0;34m:\u001b[0m  \u001b[0;31m# pylint: disable=broad-except\u001b[0m\u001b[0;34m\u001b[0m\u001b[0;34m\u001b[0m\u001b[0m\n\u001b[1;32m     66\u001b[0m       \u001b[0mfiltered_tb\u001b[0m \u001b[0;34m=\u001b[0m \u001b[0m_process_traceback_frames\u001b[0m\u001b[0;34m(\u001b[0m\u001b[0me\u001b[0m\u001b[0;34m.\u001b[0m\u001b[0m__traceback__\u001b[0m\u001b[0;34m)\u001b[0m\u001b[0;34m\u001b[0m\u001b[0;34m\u001b[0m\u001b[0m\n\u001b[0;32m---> 67\u001b[0;31m       \u001b[0;32mraise\u001b[0m \u001b[0me\u001b[0m\u001b[0;34m.\u001b[0m\u001b[0mwith_traceback\u001b[0m\u001b[0;34m(\u001b[0m\u001b[0mfiltered_tb\u001b[0m\u001b[0;34m)\u001b[0m \u001b[0;32mfrom\u001b[0m \u001b[0;32mNone\u001b[0m\u001b[0;34m\u001b[0m\u001b[0;34m\u001b[0m\u001b[0m\n\u001b[0m\u001b[1;32m     68\u001b[0m     \u001b[0;32mfinally\u001b[0m\u001b[0;34m:\u001b[0m\u001b[0;34m\u001b[0m\u001b[0;34m\u001b[0m\u001b[0m\n\u001b[1;32m     69\u001b[0m       \u001b[0;32mdel\u001b[0m \u001b[0mfiltered_tb\u001b[0m\u001b[0;34m\u001b[0m\u001b[0;34m\u001b[0m\u001b[0m\n",
            "\u001b[0;32m/usr/local/lib/python3.7/dist-packages/tensorflow/python/framework/func_graph.py\u001b[0m in \u001b[0;36mautograph_handler\u001b[0;34m(*args, **kwargs)\u001b[0m\n\u001b[1;32m   1145\u001b[0m           \u001b[0;32mexcept\u001b[0m \u001b[0mException\u001b[0m \u001b[0;32mas\u001b[0m \u001b[0me\u001b[0m\u001b[0;34m:\u001b[0m  \u001b[0;31m# pylint:disable=broad-except\u001b[0m\u001b[0;34m\u001b[0m\u001b[0;34m\u001b[0m\u001b[0m\n\u001b[1;32m   1146\u001b[0m             \u001b[0;32mif\u001b[0m \u001b[0mhasattr\u001b[0m\u001b[0;34m(\u001b[0m\u001b[0me\u001b[0m\u001b[0;34m,\u001b[0m \u001b[0;34m\"ag_error_metadata\"\u001b[0m\u001b[0;34m)\u001b[0m\u001b[0;34m:\u001b[0m\u001b[0;34m\u001b[0m\u001b[0;34m\u001b[0m\u001b[0m\n\u001b[0;32m-> 1147\u001b[0;31m               \u001b[0;32mraise\u001b[0m \u001b[0me\u001b[0m\u001b[0;34m.\u001b[0m\u001b[0mag_error_metadata\u001b[0m\u001b[0;34m.\u001b[0m\u001b[0mto_exception\u001b[0m\u001b[0;34m(\u001b[0m\u001b[0me\u001b[0m\u001b[0;34m)\u001b[0m\u001b[0;34m\u001b[0m\u001b[0;34m\u001b[0m\u001b[0m\n\u001b[0m\u001b[1;32m   1148\u001b[0m             \u001b[0;32melse\u001b[0m\u001b[0;34m:\u001b[0m\u001b[0;34m\u001b[0m\u001b[0;34m\u001b[0m\u001b[0m\n\u001b[1;32m   1149\u001b[0m               \u001b[0;32mraise\u001b[0m\u001b[0;34m\u001b[0m\u001b[0;34m\u001b[0m\u001b[0m\n",
            "\u001b[0;31mValueError\u001b[0m: in user code:\n\n    File \"/usr/local/lib/python3.7/dist-packages/keras/engine/training.py\", line 1021, in train_function  *\n        return step_function(self, iterator)\n    File \"/usr/local/lib/python3.7/dist-packages/keras/engine/training.py\", line 1010, in step_function  **\n        outputs = model.distribute_strategy.run(run_step, args=(data,))\n    File \"/usr/local/lib/python3.7/dist-packages/keras/engine/training.py\", line 1000, in run_step  **\n        outputs = model.train_step(data)\n    File \"/usr/local/lib/python3.7/dist-packages/keras/engine/training.py\", line 860, in train_step\n        loss = self.compute_loss(x, y, y_pred, sample_weight)\n    File \"/usr/local/lib/python3.7/dist-packages/keras/engine/training.py\", line 919, in compute_loss\n        y, y_pred, sample_weight, regularization_losses=self.losses)\n    File \"/usr/local/lib/python3.7/dist-packages/keras/engine/compile_utils.py\", line 201, in __call__\n        loss_value = loss_obj(y_t, y_p, sample_weight=sw)\n    File \"/usr/local/lib/python3.7/dist-packages/keras/losses.py\", line 141, in __call__\n        losses = call_fn(y_true, y_pred)\n    File \"/usr/local/lib/python3.7/dist-packages/keras/losses.py\", line 245, in call  **\n        return ag_fn(y_true, y_pred, **self._fn_kwargs)\n    File \"/usr/local/lib/python3.7/dist-packages/keras/losses.py\", line 1863, in sparse_categorical_crossentropy\n        y_true, y_pred, from_logits=from_logits, axis=axis)\n    File \"/usr/local/lib/python3.7/dist-packages/keras/backend.py\", line 5203, in sparse_categorical_crossentropy\n        labels=target, logits=output)\n\n    ValueError: `labels.shape` must equal `logits.shape` except for the last dimension. Received: labels.shape=(32,) and logits.shape=(896, 10)\n"
          ]
        }
      ],
      "source": [
        "### Tu código de la red neuronal sin capa flatten de la pregunta 6 aquí ###\n",
        "nn_no_flatten = tf.keras.Sequential()                                \n",
        "nn_no_flatten.add(tf.keras.layers.Dense(128, activation='sigmoid',input_shape=(28,28)))  \n",
        "nn_no_flatten.add(tf.keras.layers.Dense(10, activation='softmax'))   \n",
        "\n",
        "nn_no_flatten.compile(optimizer='adam', loss='sparse_categorical_crossentropy',metrics=['accuracy'])\n",
        "\n",
        "nn_no_flatten.fit(training_images, training_labels, epochs=10)"
      ]
    },
    {
      "cell_type": "markdown",
      "metadata": {
        "id": "-aNmrkkOZN6D"
      },
      "source": [
        "Tu respuesta a la pregunta 5 aquí:"
      ]
    },
    {
      "cell_type": "markdown",
      "metadata": {
        "id": "Za8rpndf01tN"
      },
      "source": [
        "<font color='green'>Esto se debe al formato de las muestras de entrenamiento. En este caso son matrices de 28x28, para entrenar la red necesitamos pasar la matriz a un vector. Cada pixel tiene que ser una entrada a la red. Flatten es el que se encarga de convertir la matriz en un vector.</font>"
      ]
    },
    {
      "cell_type": "markdown",
      "source": [
        "<font color='orange'>Con decir que entra una matriz de dos simensiones en lugar de un vector es suficiente </font>"
      ],
      "metadata": {
        "id": "UMSm99KM7PpP"
      }
    },
    {
      "cell_type": "markdown",
      "metadata": {
        "id": "f37cIr81ZYJj"
      },
      "source": [
        "# **6: Número de neuronas de la capa de salida**\n",
        "Considerad la capa final, la de salida de la red neuronal de la pregunta 1.\n",
        "\n",
        "**pregunta 6.1 (0.25 puntos)**: ¿Por qué son 10 las neuronas de la última capa?\n",
        "\n",
        "**pregunta 6.2 (0.25 puntos)**: ¿Qué pasaría si tuvieras una cantidad diferente a 10? \n",
        "\n",
        "Por ejemplo, intenta entrenar la red con 5, para ello utiliza la red neuronal de la pregunta 1 y cambia a 5 el número de neuronas en la última capa."
      ]
    },
    {
      "cell_type": "code",
      "execution_count": 25,
      "metadata": {
        "colab": {
          "base_uri": "https://localhost:8080/",
          "height": 1000
        },
        "id": "FhbZkppYZOCS",
        "outputId": "e0d8fde7-11d7-45da-8e97-fc99fed58712"
      },
      "outputs": [
        {
          "output_type": "stream",
          "name": "stdout",
          "text": [
            "Epoch 1/10\n"
          ]
        },
        {
          "output_type": "error",
          "ename": "InvalidArgumentError",
          "evalue": "ignored",
          "traceback": [
            "\u001b[0;31m---------------------------------------------------------------------------\u001b[0m",
            "\u001b[0;31mInvalidArgumentError\u001b[0m                      Traceback (most recent call last)",
            "\u001b[0;32m<ipython-input-25-27adc30cfb4b>\u001b[0m in \u001b[0;36m<module>\u001b[0;34m()\u001b[0m\n\u001b[1;32m      5\u001b[0m \u001b[0mnn\u001b[0m\u001b[0;34m.\u001b[0m\u001b[0madd\u001b[0m\u001b[0;34m(\u001b[0m\u001b[0mtf\u001b[0m\u001b[0;34m.\u001b[0m\u001b[0mkeras\u001b[0m\u001b[0;34m.\u001b[0m\u001b[0mlayers\u001b[0m\u001b[0;34m.\u001b[0m\u001b[0mDense\u001b[0m\u001b[0;34m(\u001b[0m\u001b[0;36m5\u001b[0m\u001b[0;34m,\u001b[0m \u001b[0mactivation\u001b[0m\u001b[0;34m=\u001b[0m\u001b[0;34m'softmax'\u001b[0m\u001b[0;34m)\u001b[0m\u001b[0;34m)\u001b[0m\u001b[0;34m\u001b[0m\u001b[0;34m\u001b[0m\u001b[0m\n\u001b[1;32m      6\u001b[0m \u001b[0mnn\u001b[0m\u001b[0;34m.\u001b[0m\u001b[0mcompile\u001b[0m\u001b[0;34m(\u001b[0m\u001b[0moptimizer\u001b[0m\u001b[0;34m=\u001b[0m\u001b[0;34m'adam'\u001b[0m\u001b[0;34m,\u001b[0m \u001b[0mloss\u001b[0m\u001b[0;34m=\u001b[0m\u001b[0;34m'sparse_categorical_crossentropy'\u001b[0m\u001b[0;34m,\u001b[0m\u001b[0mmetrics\u001b[0m\u001b[0;34m=\u001b[0m\u001b[0;34m[\u001b[0m\u001b[0;34m'accuracy'\u001b[0m\u001b[0;34m]\u001b[0m\u001b[0;34m)\u001b[0m\u001b[0;34m\u001b[0m\u001b[0;34m\u001b[0m\u001b[0m\n\u001b[0;32m----> 7\u001b[0;31m \u001b[0mnn\u001b[0m\u001b[0;34m.\u001b[0m\u001b[0mfit\u001b[0m\u001b[0;34m(\u001b[0m\u001b[0mtraining_images\u001b[0m\u001b[0;34m,\u001b[0m \u001b[0mtraining_labels\u001b[0m\u001b[0;34m,\u001b[0m \u001b[0mepochs\u001b[0m\u001b[0;34m=\u001b[0m\u001b[0;36m10\u001b[0m\u001b[0;34m)\u001b[0m\u001b[0;34m\u001b[0m\u001b[0;34m\u001b[0m\u001b[0m\n\u001b[0m",
            "\u001b[0;32m/usr/local/lib/python3.7/dist-packages/keras/utils/traceback_utils.py\u001b[0m in \u001b[0;36merror_handler\u001b[0;34m(*args, **kwargs)\u001b[0m\n\u001b[1;32m     65\u001b[0m     \u001b[0;32mexcept\u001b[0m \u001b[0mException\u001b[0m \u001b[0;32mas\u001b[0m \u001b[0me\u001b[0m\u001b[0;34m:\u001b[0m  \u001b[0;31m# pylint: disable=broad-except\u001b[0m\u001b[0;34m\u001b[0m\u001b[0;34m\u001b[0m\u001b[0m\n\u001b[1;32m     66\u001b[0m       \u001b[0mfiltered_tb\u001b[0m \u001b[0;34m=\u001b[0m \u001b[0m_process_traceback_frames\u001b[0m\u001b[0;34m(\u001b[0m\u001b[0me\u001b[0m\u001b[0;34m.\u001b[0m\u001b[0m__traceback__\u001b[0m\u001b[0;34m)\u001b[0m\u001b[0;34m\u001b[0m\u001b[0;34m\u001b[0m\u001b[0m\n\u001b[0;32m---> 67\u001b[0;31m       \u001b[0;32mraise\u001b[0m \u001b[0me\u001b[0m\u001b[0;34m.\u001b[0m\u001b[0mwith_traceback\u001b[0m\u001b[0;34m(\u001b[0m\u001b[0mfiltered_tb\u001b[0m\u001b[0;34m)\u001b[0m \u001b[0;32mfrom\u001b[0m \u001b[0;32mNone\u001b[0m\u001b[0;34m\u001b[0m\u001b[0;34m\u001b[0m\u001b[0m\n\u001b[0m\u001b[1;32m     68\u001b[0m     \u001b[0;32mfinally\u001b[0m\u001b[0;34m:\u001b[0m\u001b[0;34m\u001b[0m\u001b[0;34m\u001b[0m\u001b[0m\n\u001b[1;32m     69\u001b[0m       \u001b[0;32mdel\u001b[0m \u001b[0mfiltered_tb\u001b[0m\u001b[0;34m\u001b[0m\u001b[0;34m\u001b[0m\u001b[0m\n",
            "\u001b[0;32m/usr/local/lib/python3.7/dist-packages/tensorflow/python/eager/execute.py\u001b[0m in \u001b[0;36mquick_execute\u001b[0;34m(op_name, num_outputs, inputs, attrs, ctx, name)\u001b[0m\n\u001b[1;32m     53\u001b[0m     \u001b[0mctx\u001b[0m\u001b[0;34m.\u001b[0m\u001b[0mensure_initialized\u001b[0m\u001b[0;34m(\u001b[0m\u001b[0;34m)\u001b[0m\u001b[0;34m\u001b[0m\u001b[0;34m\u001b[0m\u001b[0m\n\u001b[1;32m     54\u001b[0m     tensors = pywrap_tfe.TFE_Py_Execute(ctx._handle, device_name, op_name,\n\u001b[0;32m---> 55\u001b[0;31m                                         inputs, attrs, num_outputs)\n\u001b[0m\u001b[1;32m     56\u001b[0m   \u001b[0;32mexcept\u001b[0m \u001b[0mcore\u001b[0m\u001b[0;34m.\u001b[0m\u001b[0m_NotOkStatusException\u001b[0m \u001b[0;32mas\u001b[0m \u001b[0me\u001b[0m\u001b[0;34m:\u001b[0m\u001b[0;34m\u001b[0m\u001b[0;34m\u001b[0m\u001b[0m\n\u001b[1;32m     57\u001b[0m     \u001b[0;32mif\u001b[0m \u001b[0mname\u001b[0m \u001b[0;32mis\u001b[0m \u001b[0;32mnot\u001b[0m \u001b[0;32mNone\u001b[0m\u001b[0;34m:\u001b[0m\u001b[0;34m\u001b[0m\u001b[0;34m\u001b[0m\u001b[0m\n",
            "\u001b[0;31mInvalidArgumentError\u001b[0m: Graph execution error:\n\nDetected at node 'sparse_categorical_crossentropy/SparseSoftmaxCrossEntropyWithLogits/SparseSoftmaxCrossEntropyWithLogits' defined at (most recent call last):\n    File \"/usr/lib/python3.7/runpy.py\", line 193, in _run_module_as_main\n      \"__main__\", mod_spec)\n    File \"/usr/lib/python3.7/runpy.py\", line 85, in _run_code\n      exec(code, run_globals)\n    File \"/usr/local/lib/python3.7/dist-packages/ipykernel_launcher.py\", line 16, in <module>\n      app.launch_new_instance()\n    File \"/usr/local/lib/python3.7/dist-packages/traitlets/config/application.py\", line 846, in launch_instance\n      app.start()\n    File \"/usr/local/lib/python3.7/dist-packages/ipykernel/kernelapp.py\", line 499, in start\n      self.io_loop.start()\n    File \"/usr/local/lib/python3.7/dist-packages/tornado/platform/asyncio.py\", line 132, in start\n      self.asyncio_loop.run_forever()\n    File \"/usr/lib/python3.7/asyncio/base_events.py\", line 541, in run_forever\n      self._run_once()\n    File \"/usr/lib/python3.7/asyncio/base_events.py\", line 1786, in _run_once\n      handle._run()\n    File \"/usr/lib/python3.7/asyncio/events.py\", line 88, in _run\n      self._context.run(self._callback, *self._args)\n    File \"/usr/local/lib/python3.7/dist-packages/tornado/platform/asyncio.py\", line 122, in _handle_events\n      handler_func(fileobj, events)\n    File \"/usr/local/lib/python3.7/dist-packages/tornado/stack_context.py\", line 300, in null_wrapper\n      return fn(*args, **kwargs)\n    File \"/usr/local/lib/python3.7/dist-packages/zmq/eventloop/zmqstream.py\", line 452, in _handle_events\n      self._handle_recv()\n    File \"/usr/local/lib/python3.7/dist-packages/zmq/eventloop/zmqstream.py\", line 481, in _handle_recv\n      self._run_callback(callback, msg)\n    File \"/usr/local/lib/python3.7/dist-packages/zmq/eventloop/zmqstream.py\", line 431, in _run_callback\n      callback(*args, **kwargs)\n    File \"/usr/local/lib/python3.7/dist-packages/tornado/stack_context.py\", line 300, in null_wrapper\n      return fn(*args, **kwargs)\n    File \"/usr/local/lib/python3.7/dist-packages/ipykernel/kernelbase.py\", line 283, in dispatcher\n      return self.dispatch_shell(stream, msg)\n    File \"/usr/local/lib/python3.7/dist-packages/ipykernel/kernelbase.py\", line 233, in dispatch_shell\n      handler(stream, idents, msg)\n    File \"/usr/local/lib/python3.7/dist-packages/ipykernel/kernelbase.py\", line 399, in execute_request\n      user_expressions, allow_stdin)\n    File \"/usr/local/lib/python3.7/dist-packages/ipykernel/ipkernel.py\", line 208, in do_execute\n      res = shell.run_cell(code, store_history=store_history, silent=silent)\n    File \"/usr/local/lib/python3.7/dist-packages/ipykernel/zmqshell.py\", line 537, in run_cell\n      return super(ZMQInteractiveShell, self).run_cell(*args, **kwargs)\n    File \"/usr/local/lib/python3.7/dist-packages/IPython/core/interactiveshell.py\", line 2718, in run_cell\n      interactivity=interactivity, compiler=compiler, result=result)\n    File \"/usr/local/lib/python3.7/dist-packages/IPython/core/interactiveshell.py\", line 2828, in run_ast_nodes\n      if self.run_code(code, result):\n    File \"/usr/local/lib/python3.7/dist-packages/IPython/core/interactiveshell.py\", line 2882, in run_code\n      exec(code_obj, self.user_global_ns, self.user_ns)\n    File \"<ipython-input-25-27adc30cfb4b>\", line 7, in <module>\n      nn.fit(training_images, training_labels, epochs=10)\n    File \"/usr/local/lib/python3.7/dist-packages/keras/utils/traceback_utils.py\", line 64, in error_handler\n      return fn(*args, **kwargs)\n    File \"/usr/local/lib/python3.7/dist-packages/keras/engine/training.py\", line 1384, in fit\n      tmp_logs = self.train_function(iterator)\n    File \"/usr/local/lib/python3.7/dist-packages/keras/engine/training.py\", line 1021, in train_function\n      return step_function(self, iterator)\n    File \"/usr/local/lib/python3.7/dist-packages/keras/engine/training.py\", line 1010, in step_function\n      outputs = model.distribute_strategy.run(run_step, args=(data,))\n    File \"/usr/local/lib/python3.7/dist-packages/keras/engine/training.py\", line 1000, in run_step\n      outputs = model.train_step(data)\n    File \"/usr/local/lib/python3.7/dist-packages/keras/engine/training.py\", line 860, in train_step\n      loss = self.compute_loss(x, y, y_pred, sample_weight)\n    File \"/usr/local/lib/python3.7/dist-packages/keras/engine/training.py\", line 919, in compute_loss\n      y, y_pred, sample_weight, regularization_losses=self.losses)\n    File \"/usr/local/lib/python3.7/dist-packages/keras/engine/compile_utils.py\", line 201, in __call__\n      loss_value = loss_obj(y_t, y_p, sample_weight=sw)\n    File \"/usr/local/lib/python3.7/dist-packages/keras/losses.py\", line 141, in __call__\n      losses = call_fn(y_true, y_pred)\n    File \"/usr/local/lib/python3.7/dist-packages/keras/losses.py\", line 245, in call\n      return ag_fn(y_true, y_pred, **self._fn_kwargs)\n    File \"/usr/local/lib/python3.7/dist-packages/keras/losses.py\", line 1863, in sparse_categorical_crossentropy\n      y_true, y_pred, from_logits=from_logits, axis=axis)\n    File \"/usr/local/lib/python3.7/dist-packages/keras/backend.py\", line 5203, in sparse_categorical_crossentropy\n      labels=target, logits=output)\nNode: 'sparse_categorical_crossentropy/SparseSoftmaxCrossEntropyWithLogits/SparseSoftmaxCrossEntropyWithLogits'\nReceived a label value of 9 which is outside the valid range of [0, 5).  Label values: 6 0 4 5 0 5 5 0 6 0 2 8 4 7 3 7 9 2 5 8 0 4 5 4 8 6 1 4 6 8 7 8\n\t [[{{node sparse_categorical_crossentropy/SparseSoftmaxCrossEntropyWithLogits/SparseSoftmaxCrossEntropyWithLogits}}]] [Op:__inference_train_function_236843]"
          ]
        }
      ],
      "source": [
        "### Tu código de la red neuronal con 5 neuronas en la capa de salida de la pregunta 7 aquí ###\n",
        "nn = tf.keras.Sequential()                                \n",
        "nn.add(tf.keras.layers.Flatten(input_shape=(28,28)))      \n",
        "nn.add(tf.keras.layers.Dense(128, activation='sigmoid')) \n",
        "nn.add(tf.keras.layers.Dense(5, activation='softmax'))\n",
        "nn.compile(optimizer='adam', loss='sparse_categorical_crossentropy',metrics=['accuracy'])\n",
        "nn.fit(training_images, training_labels, epochs=10)\n"
      ]
    },
    {
      "cell_type": "markdown",
      "metadata": {
        "id": "SLsQcq-6aUoD"
      },
      "source": [
        "Tu respuestas a la pregunta 6.1 aquí:"
      ]
    },
    {
      "cell_type": "markdown",
      "metadata": {
        "id": "0yoMkTWB1Rdn"
      },
      "source": [
        "<font color='green'> La salida son 10 neuronas porque hay exactamente 10 clases diferentes, en este caso prendas de vestir, que tenemos que clasifiar.  </font>"
      ]
    },
    {
      "cell_type": "markdown",
      "source": [
        "<font color='orange'>Hay que indicar que son 10 neuronas por las 10 prendas de ropa</font>"
      ],
      "metadata": {
        "id": "7VF7FvkA7YQS"
      }
    },
    {
      "cell_type": "markdown",
      "metadata": {
        "id": "J1f_7ZFeaUu6"
      },
      "source": [
        "Tu respuestas a la pregunta 6.2 aquí:"
      ]
    },
    {
      "cell_type": "markdown",
      "metadata": {
        "id": "7S7gy9jF2UKg"
      },
      "source": [
        "<font color='green'> La red neuronal maneja instancias cuya etiqueta (label) está comprendida en el rango 0-9 sin embargo el rango válido es 0-5 ya que solo hay 5 neuronas de salida y por tanto, no es válido. </font>"
      ]
    },
    {
      "cell_type": "markdown",
      "source": [
        "<font color='orange'>Es necesario explicar esto tal cual se dice aqui (o similar pero con el mismo sentido) </font>"
      ],
      "metadata": {
        "id": "OW2blBRi7fLo"
      }
    },
    {
      "cell_type": "markdown",
      "metadata": {
        "id": "HNIBCkshaf2y"
      },
      "source": [
        "# 7: Aumento de epoch y su efecto en la red neuronal\n",
        "En este ejercicio vamos a ver el impacto de aumentar los epoch en el entrenamiento. Usando la red neuronal de la pregunta 1:\n",
        "\n",
        "**pregunta 7.1 (0.15 puntos)**\n",
        "* Intentad 15 epoch para su entrenamiento, probablemente obtendras un modelo con una pérdida mucho mejor que el que tiene 5.\n",
        "\n",
        "**pregunta 7.2 (0.15 puntos)**\n",
        "* Intenta ahora con 30 epoch para su entrenamiento, podrás ver que el valor de la pérdida deja de disminuir, y a veces aumenta.\n",
        "\n",
        "**pregunta 7.3 (0.30 puntos)**\n",
        "* ¿Porque que piensas que ocurre esto? Explica tu respuesta y da el nombre de este efecto si lo conoces."
      ]
    },
    {
      "cell_type": "code",
      "execution_count": 26,
      "metadata": {
        "colab": {
          "base_uri": "https://localhost:8080/"
        },
        "id": "Cb5vk_imG4iZ",
        "outputId": "66d80626-955b-4cdd-9c1c-e3a9699724a7"
      },
      "outputs": [
        {
          "output_type": "stream",
          "name": "stdout",
          "text": [
            "Epoch 1/15\n",
            "1875/1875 [==============================] - 8s 4ms/step - loss: 0.5400 - accuracy: 0.8173 - val_loss: 0.4383 - val_accuracy: 0.8437\n",
            "Epoch 2/15\n",
            "1875/1875 [==============================] - 5s 3ms/step - loss: 0.3910 - accuracy: 0.8594 - val_loss: 0.4106 - val_accuracy: 0.8492\n",
            "Epoch 3/15\n",
            "1875/1875 [==============================] - 5s 3ms/step - loss: 0.3535 - accuracy: 0.8730 - val_loss: 0.3819 - val_accuracy: 0.8636\n",
            "Epoch 4/15\n",
            "1875/1875 [==============================] - 5s 2ms/step - loss: 0.3306 - accuracy: 0.8807 - val_loss: 0.3667 - val_accuracy: 0.8686\n",
            "Epoch 5/15\n",
            "1875/1875 [==============================] - 4s 2ms/step - loss: 0.3099 - accuracy: 0.8873 - val_loss: 0.3550 - val_accuracy: 0.8716\n",
            "Epoch 6/15\n",
            "1875/1875 [==============================] - 4s 2ms/step - loss: 0.2951 - accuracy: 0.8925 - val_loss: 0.3475 - val_accuracy: 0.8747\n",
            "Epoch 7/15\n",
            "1875/1875 [==============================] - 4s 2ms/step - loss: 0.2825 - accuracy: 0.8967 - val_loss: 0.3483 - val_accuracy: 0.8766\n",
            "Epoch 8/15\n",
            "1875/1875 [==============================] - 4s 2ms/step - loss: 0.2711 - accuracy: 0.9003 - val_loss: 0.3370 - val_accuracy: 0.8792\n",
            "Epoch 9/15\n",
            "1875/1875 [==============================] - 5s 2ms/step - loss: 0.2617 - accuracy: 0.9027 - val_loss: 0.3386 - val_accuracy: 0.8770\n",
            "Epoch 10/15\n",
            "1875/1875 [==============================] - 4s 2ms/step - loss: 0.2510 - accuracy: 0.9084 - val_loss: 0.3250 - val_accuracy: 0.8813\n",
            "Epoch 11/15\n",
            "1875/1875 [==============================] - 5s 2ms/step - loss: 0.2426 - accuracy: 0.9106 - val_loss: 0.3315 - val_accuracy: 0.8824\n",
            "Epoch 12/15\n",
            "1875/1875 [==============================] - 4s 2ms/step - loss: 0.2355 - accuracy: 0.9128 - val_loss: 0.3193 - val_accuracy: 0.8858\n",
            "Epoch 13/15\n",
            "1875/1875 [==============================] - 4s 2ms/step - loss: 0.2277 - accuracy: 0.9148 - val_loss: 0.3343 - val_accuracy: 0.8824\n",
            "Epoch 14/15\n",
            "1875/1875 [==============================] - 5s 3ms/step - loss: 0.2197 - accuracy: 0.9194 - val_loss: 0.3224 - val_accuracy: 0.8859\n",
            "Epoch 15/15\n",
            "1875/1875 [==============================] - 4s 2ms/step - loss: 0.2148 - accuracy: 0.9206 - val_loss: 0.3315 - val_accuracy: 0.8807\n"
          ]
        }
      ],
      "source": [
        "### Tu código para 15 epoch aquí ###\n",
        "nn15 = tf.keras.Sequential()                                \n",
        "nn15.add(tf.keras.layers.Flatten(input_shape=(28,28)))      \n",
        "nn15.add(tf.keras.layers.Dense(128, activation='sigmoid'))  \n",
        "nn15.add(tf.keras.layers.Dense(10, activation='softmax'))   \n",
        "\n",
        "nn15.compile(optimizer='adam', loss='sparse_categorical_crossentropy',metrics=['accuracy'])\n",
        "\n",
        "h15=nn15.fit(training_images, training_labels, epochs=15, validation_data=(test_images, test_labels))"
      ]
    },
    {
      "cell_type": "code",
      "execution_count": 27,
      "metadata": {
        "colab": {
          "base_uri": "https://localhost:8080/",
          "height": 590
        },
        "id": "kb_FuQNL3c4C",
        "outputId": "2f0da965-23d6-49e4-c614-de852b03fd3d"
      },
      "outputs": [
        {
          "output_type": "stream",
          "name": "stdout",
          "text": [
            "dict_keys(['loss', 'accuracy', 'val_loss', 'val_accuracy'])\n"
          ]
        },
        {
          "output_type": "display_data",
          "data": {
            "text/plain": [
              "<Figure size 432x288 with 1 Axes>"
            ],
            "image/png": "[encoded data removed]"
          },
          "metadata": {
            "needs_background": "light"
          }
        },
        {
          "output_type": "display_data",
          "data": {
            "text/plain": [
              "<Figure size 432x288 with 1 Axes>"
            ],
            "image/png": "[encoded data removed]"
          },
          "metadata": {
            "needs_background": "light"
          }
        }
      ],
      "source": [
        "# list all data in history\n",
        "print(h15.history.keys())\n",
        "# summarize history for accuracy\n",
        "plt.plot(h15.history['accuracy'])\n",
        "plt.plot(h15.history['val_accuracy'])\n",
        "plt.title('model accuracy')\n",
        "plt.ylabel('accuracy')\n",
        "plt.xlabel('epoch')\n",
        "plt.legend(['train', 'test'], loc='upper left')\n",
        "plt.show()\n",
        "# summarize history for loss\n",
        "plt.plot(h15.history['loss'])\n",
        "plt.plot(h15.history['val_loss'])\n",
        "plt.title('model loss')\n",
        "plt.ylabel('loss')\n",
        "plt.xlabel('epoch')\n",
        "plt.legend(['train', 'test'], loc='upper left')\n",
        "plt.show()"
      ]
    },
    {
      "cell_type": "code",
      "execution_count": 28,
      "metadata": {
        "colab": {
          "base_uri": "https://localhost:8080/"
        },
        "id": "I9jQ26Gda5cv",
        "outputId": "74f996e2-ad33-4c52-b226-a1420a2527f0"
      },
      "outputs": [
        {
          "output_type": "stream",
          "name": "stdout",
          "text": [
            "Epoch 1/30\n",
            "1875/1875 [==============================] - 5s 3ms/step - loss: 0.5488 - accuracy: 0.8118 - val_loss: 0.4501 - val_accuracy: 0.8364\n",
            "Epoch 2/30\n",
            "1875/1875 [==============================] - 5s 3ms/step - loss: 0.3935 - accuracy: 0.8572 - val_loss: 0.4249 - val_accuracy: 0.8449\n",
            "Epoch 3/30\n",
            "1875/1875 [==============================] - 5s 2ms/step - loss: 0.3560 - accuracy: 0.8705 - val_loss: 0.3847 - val_accuracy: 0.8566\n",
            "Epoch 4/30\n",
            "1875/1875 [==============================] - 9s 5ms/step - loss: 0.3303 - accuracy: 0.8795 - val_loss: 0.3818 - val_accuracy: 0.8617\n",
            "Epoch 5/30\n",
            "1875/1875 [==============================] - 4s 2ms/step - loss: 0.3109 - accuracy: 0.8868 - val_loss: 0.3535 - val_accuracy: 0.8749\n",
            "Epoch 6/30\n",
            "1875/1875 [==============================] - 4s 2ms/step - loss: 0.2956 - accuracy: 0.8913 - val_loss: 0.3612 - val_accuracy: 0.8700\n",
            "Epoch 7/30\n",
            "1875/1875 [==============================] - 5s 2ms/step - loss: 0.2821 - accuracy: 0.8958 - val_loss: 0.3538 - val_accuracy: 0.8703\n",
            "Epoch 8/30\n",
            "1875/1875 [==============================] - 5s 2ms/step - loss: 0.2703 - accuracy: 0.9012 - val_loss: 0.3445 - val_accuracy: 0.8751\n",
            "Epoch 9/30\n",
            "1875/1875 [==============================] - 5s 3ms/step - loss: 0.2595 - accuracy: 0.9044 - val_loss: 0.3310 - val_accuracy: 0.8814\n",
            "Epoch 10/30\n",
            "1875/1875 [==============================] - 4s 2ms/step - loss: 0.2513 - accuracy: 0.9068 - val_loss: 0.3280 - val_accuracy: 0.8843\n",
            "Epoch 11/30\n",
            "1875/1875 [==============================] - 5s 3ms/step - loss: 0.2420 - accuracy: 0.9107 - val_loss: 0.3222 - val_accuracy: 0.8854\n",
            "Epoch 12/30\n",
            "1875/1875 [==============================] - 5s 2ms/step - loss: 0.2349 - accuracy: 0.9131 - val_loss: 0.3282 - val_accuracy: 0.8855\n",
            "Epoch 13/30\n",
            "1875/1875 [==============================] - 5s 3ms/step - loss: 0.2269 - accuracy: 0.9158 - val_loss: 0.3285 - val_accuracy: 0.8821\n",
            "Epoch 14/30\n",
            "1875/1875 [==============================] - 5s 2ms/step - loss: 0.2203 - accuracy: 0.9182 - val_loss: 0.3380 - val_accuracy: 0.8769\n",
            "Epoch 15/30\n",
            "1875/1875 [==============================] - 5s 3ms/step - loss: 0.2136 - accuracy: 0.9202 - val_loss: 0.3410 - val_accuracy: 0.8781\n",
            "Epoch 16/30\n",
            "1875/1875 [==============================] - 4s 2ms/step - loss: 0.2082 - accuracy: 0.9222 - val_loss: 0.3188 - val_accuracy: 0.8872\n",
            "Epoch 17/30\n",
            "1875/1875 [==============================] - 5s 2ms/step - loss: 0.2013 - accuracy: 0.9255 - val_loss: 0.3220 - val_accuracy: 0.8831\n",
            "Epoch 18/30\n",
            "1875/1875 [==============================] - 5s 2ms/step - loss: 0.1953 - accuracy: 0.9284 - val_loss: 0.3249 - val_accuracy: 0.8853\n",
            "Epoch 19/30\n",
            "1875/1875 [==============================] - 5s 2ms/step - loss: 0.1906 - accuracy: 0.9298 - val_loss: 0.3203 - val_accuracy: 0.8900\n",
            "Epoch 20/30\n",
            "1875/1875 [==============================] - 5s 3ms/step - loss: 0.1851 - accuracy: 0.9312 - val_loss: 0.3259 - val_accuracy: 0.8880\n",
            "Epoch 21/30\n",
            "1875/1875 [==============================] - 5s 2ms/step - loss: 0.1810 - accuracy: 0.9330 - val_loss: 0.3348 - val_accuracy: 0.8843\n",
            "Epoch 22/30\n",
            "1875/1875 [==============================] - 5s 3ms/step - loss: 0.1766 - accuracy: 0.9351 - val_loss: 0.3197 - val_accuracy: 0.8891\n",
            "Epoch 23/30\n",
            "1875/1875 [==============================] - 5s 3ms/step - loss: 0.1710 - accuracy: 0.9373 - val_loss: 0.3201 - val_accuracy: 0.8892\n",
            "Epoch 24/30\n",
            "1875/1875 [==============================] - 5s 3ms/step - loss: 0.1665 - accuracy: 0.9387 - val_loss: 0.3430 - val_accuracy: 0.8841\n",
            "Epoch 25/30\n",
            "1875/1875 [==============================] - 5s 3ms/step - loss: 0.1619 - accuracy: 0.9407 - val_loss: 0.3349 - val_accuracy: 0.8887\n",
            "Epoch 26/30\n",
            "1875/1875 [==============================] - 5s 2ms/step - loss: 0.1574 - accuracy: 0.9431 - val_loss: 0.3277 - val_accuracy: 0.8887\n",
            "Epoch 27/30\n",
            "1875/1875 [==============================] - 5s 2ms/step - loss: 0.1537 - accuracy: 0.9437 - val_loss: 0.3555 - val_accuracy: 0.8836\n",
            "Epoch 28/30\n",
            "1875/1875 [==============================] - 5s 3ms/step - loss: 0.1500 - accuracy: 0.9453 - val_loss: 0.3607 - val_accuracy: 0.8787\n",
            "Epoch 29/30\n",
            "1875/1875 [==============================] - 5s 3ms/step - loss: 0.1460 - accuracy: 0.9470 - val_loss: 0.3379 - val_accuracy: 0.8908\n",
            "Epoch 30/30\n",
            "1875/1875 [==============================] - 4s 2ms/step - loss: 0.1433 - accuracy: 0.9477 - val_loss: 0.3423 - val_accuracy: 0.8867\n"
          ]
        }
      ],
      "source": [
        "### Tu código para 30 epoch aquí ###\n",
        "nn30 = tf.keras.Sequential()                                \n",
        "nn30.add(tf.keras.layers.Flatten(input_shape=(28,28)))      \n",
        "nn30.add(tf.keras.layers.Dense(128, activation='sigmoid'))  \n",
        "nn30.add(tf.keras.layers.Dense(10, activation='softmax'))   \n",
        "\n",
        "nn30.compile(optimizer='adam', loss='sparse_categorical_crossentropy',metrics=['accuracy'])\n",
        "\n",
        "h30=nn30.fit(training_images, training_labels, epochs=30, validation_data=(test_images, test_labels))"
      ]
    },
    {
      "cell_type": "code",
      "execution_count": 29,
      "metadata": {
        "colab": {
          "base_uri": "https://localhost:8080/",
          "height": 590
        },
        "id": "mD-2ReBy3kFI",
        "outputId": "27fa73c2-54a1-4883-f389-cc8aebfb7d6a"
      },
      "outputs": [
        {
          "output_type": "stream",
          "name": "stdout",
          "text": [
            "dict_keys(['loss', 'accuracy', 'val_loss', 'val_accuracy'])\n"
          ]
        },
        {
          "output_type": "display_data",
          "data": {
            "text/plain": [
              "<Figure size 432x288 with 1 Axes>"
            ],
            "image/png": "[encoded data removed]"
          },
          "metadata": {
            "needs_background": "light"
          }
        },
        {
          "output_type": "display_data",
          "data": {
            "text/plain": [
              "<Figure size 432x288 with 1 Axes>"
            ],
            "image/png": "[encoded data removed]"
          },
          "metadata": {
            "needs_background": "light"
          }
        }
      ],
      "source": [
        "# list all data in history\n",
        "print(h30.history.keys())\n",
        "# summarize history for accuracy\n",
        "plt.plot(h30.history['accuracy'])\n",
        "plt.plot(h30.history['val_accuracy'])\n",
        "plt.title('model accuracy')\n",
        "plt.ylabel('accuracy')\n",
        "plt.xlabel('epoch')\n",
        "plt.legend(['train', 'test'], loc='upper left')\n",
        "plt.show()\n",
        "# summarize history for loss\n",
        "plt.plot(h30.history['loss'])\n",
        "plt.plot(h30.history['val_loss'])\n",
        "plt.title('model loss')\n",
        "plt.ylabel('loss')\n",
        "plt.xlabel('epoch')\n",
        "plt.legend(['train', 'test'], loc='upper left')\n",
        "plt.show()"
      ]
    },
    {
      "cell_type": "markdown",
      "metadata": {
        "id": "Fs0fjzH4bmSR"
      },
      "source": [
        "Tu respuesta a la pregunta 7.3 aquí:"
      ]
    },
    {
      "cell_type": "markdown",
      "metadata": {
        "id": "hY7hdTpn5wFZ"
      },
      "source": [
        "<font color='green'>\n",
        "Se puede observar claramente como en ambos casos el loss con los datos de entrenamiento sigue descendiendo siempre, sin embargo, hay un momento en el que el loss de los datos de test se queda fijo o va oscilando haciendo picos sin llegar a descender. Esto indica, que el modelo empieza a sufrir de overfitting. \n",
        "</font>"
      ]
    },
    {
      "cell_type": "markdown",
      "source": [
        "<font color='orange'>En 7.1 y 7.2 hay que comprobar que el código está bien. En 7.3 hay que ver que el modelo ha llegado a un punto en el que empieza a haber overfitting </font>"
      ],
      "metadata": {
        "id": "ZqfvFTJ57sBT"
      }
    },
    {
      "cell_type": "markdown",
      "metadata": {
        "id": "HlIgNG4Yb_N6"
      },
      "source": [
        "# 8: Early stop\n",
        "En el ejercicio anterior, cuando entrenabas con epoch extras, tenías un problema en el que tu pérdida podía cambiar. Además, has visto como las epochs extra consumían ucho tiempo y sin embargo, no había ninguna mejora. Puede que hayas pensado \"¿No estaría bien si pudiera parar el entrenamiento cuando alcance un valor deseado?\". Por ejemplo, una precisión del 85% podría ser suficiente para ti, y si alcanzas eso después de 3 epoch, ¿Por qué seguir esperando a que terminen muchas más épocas? Existen formas de parar la ejecución. A partir del código de ejemplo, hacer una nueva función que tenga en cuenta la perdida (loss) para parar la ejecución."
      ]
    },
    {
      "cell_type": "code",
      "execution_count": 30,
      "metadata": {
        "id": "b5UwceFUG4ic"
      },
      "outputs": [],
      "source": [
        "### Ejemplo de código\n",
        "\n",
        "class myCallback(tf.keras.callbacks.Callback):\n",
        "      def on_epoch_end(self, epoch, logs={}):\n",
        "        if(logs.get('accuracy')> 0.85):\n",
        "              print(\"\\nAlcanzado el 85% de precisión, se cancela el entrenamiento!!\")\n",
        "              self.model.stop_training = True"
      ]
    },
    {
      "cell_type": "markdown",
      "metadata": {
        "id": "0Bjd8wGKccrn"
      },
      "source": [
        "**Ejercicio 8 *(0.75 puntos)***: Completa el siguiente código con una clase callback que una vez alcanzado el 40% de perdida detenga el entrenamiento."
      ]
    },
    {
      "cell_type": "code",
      "execution_count": 31,
      "metadata": {
        "colab": {
          "base_uri": "https://localhost:8080/"
        },
        "id": "29LSfdOvc270",
        "outputId": "c4afe907-64d2-48cb-9d61-e88a6255e3bb"
      },
      "outputs": [
        {
          "output_type": "stream",
          "name": "stdout",
          "text": [
            "2.8.0\n",
            "Epoch 1/50\n",
            "1875/1875 [==============================] - 5s 2ms/step - loss: 0.4977 - accuracy: 0.8254\n",
            "Epoch 2/50\n",
            "1864/1875 [============================>.] - ETA: 0s - loss: 0.3791 - accuracy: 0.8639\n",
            "Alcanzada una loss <0.4, se cancela el entrenamiento!!\n",
            "1875/1875 [==============================] - 4s 2ms/step - loss: 0.3790 - accuracy: 0.8638\n"
          ]
        },
        {
          "output_type": "execute_result",
          "data": {
            "text/plain": [
              "<keras.callbacks.History at 0x7f91fa7062d0>"
            ]
          },
          "metadata": {},
          "execution_count": 31
        }
      ],
      "source": [
        "import tensorflow as tf\n",
        "print(tf.__version__)\n",
        "\n",
        "### Tu código de la función callback para parar el entrenamiento de la red neuronal al 40% de loss aqui: ###\n",
        "class myCallback(tf.keras.callbacks.Callback):\n",
        "      def on_epoch_end(self, epoch, logs={}):\n",
        "        if(logs.get('loss')< 0.4):\n",
        "              print(\"\\nAlcanzada una loss <0.4, se cancela el entrenamiento!!\")\n",
        "              self.model.stop_training = True\n",
        "\n",
        "callbacks = myCallback()\n",
        "mnist = tf.keras.datasets.fashion_mnist\n",
        "(training_images, training_labels) ,  (test_images, test_labels) = mnist.load_data()\n",
        "\n",
        "training_images = training_images/255.0\n",
        "test_images = test_images/255.0\n",
        "\n",
        "model = tf.keras.models.Sequential([tf.keras.layers.Flatten(),\n",
        "                                    tf.keras.layers.Dense(128, activation=tf.nn.relu),\n",
        "                                    tf.keras.layers.Dense(10, activation=tf.nn.softmax)])\n",
        "\n",
        "model.compile(optimizer = 'adam',\n",
        "              loss = 'sparse_categorical_crossentropy',\n",
        "              metrics=['accuracy']) \n",
        "\n",
        "model.fit(training_images, training_labels, epochs=50, callbacks=[callbacks])"
      ]
    },
    {
      "cell_type": "markdown",
      "source": [
        "<font color='green'> Como se puede ver tras la segunda iteración se alcanza el objetivo de loss y se para el entrenamiento </font>"
      ],
      "metadata": {
        "id": "iIakqV0bYxar"
      }
    },
    {
      "cell_type": "markdown",
      "source": [
        "<font color='orange'> Hay que ver si el código está bien, con respecto a la respuesta que se indica aquí. Si tiene un ligero fallo, por ejemplo, no se pone el signo comparador correcto pero el número sí, o el número se pone bien pero la métrica es la incorrecta quitar solo la mitad de la pregunta </font>"
      ],
      "metadata": {
        "id": "IRsrP5kY77mK"
      }
    },
    {
      "cell_type": "markdown",
      "metadata": {
        "id": "M_yZ9B8gTFqR"
      },
      "source": [
        "# 9. Unidades de activación"
      ]
    },
    {
      "cell_type": "markdown",
      "source": [
        "<font color='orange'> De aquí en adelante hay que tener en cuenta que no siempre pueden salir los mismos resultados y que hay mucha variabilidad en función del entorno de ejecución que utilice cada uno. Por tanto, tenéis que comprobar en primer lugar que el código está bien y que se hace lo que se pide el ejercicio. <br><br>En este ejercicio se debe entrenar un modelo con sigmoid y otro con relu como mínimo. <br><br>Cualquier respuesta se toma como buena siempre que esté soportada por las métricas de evaluación de los modelos construidos, en caso contrario por cada error de código o interpretación quitar un tercio del valor de la pregunta. Si no se dibujan gráficas no pasa nada, en el caso que se dibujen gráficas perdonar el primer error detectado en el caso de que haya y no restar el tercio del valor de la pregunta. </font>"
      ],
      "metadata": {
        "id": "WnUbTbk48SfL"
      }
    },
    {
      "cell_type": "markdown",
      "metadata": {
        "id": "MuVNxmXSTFqR"
      },
      "source": [
        "En este ejercicio, vamos a evaluar la importancia de utilizar las unidades de activación adecuadas. Como hemos visto en clase, funciones de activación como sigmoid han dejado de utilizarse en favor de otras unidades como ReLU.\n",
        "\n",
        "**Ejercicio 9 *(0.75 puntos)***: Partiendo de una red sencilla como la desarrollada en el Trabajo 1, escribir un breve análisis comparando la utilización de unidades sigmoid y ReLU (por ejemplo, se pueden comentar aspectos como velocidad de convergencia, métricas obtenidas...). Explicar por qué pueden darse estas diferencias. Opcionalmente, comparar con otras activaciones disponibles en Keras.\n",
        "\n",
        "*Pista: Usando redes más grandes se hace más sencillo apreciar las diferencias. Es mejor utilizar al menos 3 o 4 capas densas.*"
      ]
    },
    {
      "cell_type": "code",
      "execution_count": 32,
      "metadata": {
        "colab": {
          "base_uri": "https://localhost:8080/"
        },
        "id": "hoYUajTuTFqS",
        "outputId": "2c126c79-a0ee-4d63-9f9a-d3ba7d409acc"
      },
      "outputs": [
        {
          "output_type": "stream",
          "name": "stdout",
          "text": [
            "Epoch 1/10\n",
            "1875/1875 [==============================] - 42s 22ms/step - loss: 0.5596 - accuracy: 0.7933 - val_loss: 0.4550 - val_accuracy: 0.8369\n",
            "Epoch 2/10\n",
            "1875/1875 [==============================] - 41s 22ms/step - loss: 0.3896 - accuracy: 0.8564 - val_loss: 0.4167 - val_accuracy: 0.8477\n",
            "Epoch 3/10\n",
            "1875/1875 [==============================] - 40s 21ms/step - loss: 0.3465 - accuracy: 0.8727 - val_loss: 0.3838 - val_accuracy: 0.8603\n",
            "Epoch 4/10\n",
            "1875/1875 [==============================] - 41s 22ms/step - loss: 0.3186 - accuracy: 0.8814 - val_loss: 0.3531 - val_accuracy: 0.8707\n",
            "Epoch 5/10\n",
            "1875/1875 [==============================] - 41s 22ms/step - loss: 0.2976 - accuracy: 0.8897 - val_loss: 0.3353 - val_accuracy: 0.8760\n",
            "Epoch 6/10\n",
            "1875/1875 [==============================] - 42s 22ms/step - loss: 0.2794 - accuracy: 0.8951 - val_loss: 0.3749 - val_accuracy: 0.8643\n",
            "Epoch 7/10\n",
            "1875/1875 [==============================] - 44s 23ms/step - loss: 0.2641 - accuracy: 0.9005 - val_loss: 0.3351 - val_accuracy: 0.8802\n",
            "Epoch 8/10\n",
            "1875/1875 [==============================] - 42s 23ms/step - loss: 0.2502 - accuracy: 0.9057 - val_loss: 0.3352 - val_accuracy: 0.8851\n",
            "Epoch 9/10\n",
            "1875/1875 [==============================] - 40s 21ms/step - loss: 0.2383 - accuracy: 0.9099 - val_loss: 0.3453 - val_accuracy: 0.8782\n",
            "Epoch 10/10\n",
            "1875/1875 [==============================] - 40s 21ms/step - loss: 0.2292 - accuracy: 0.9128 - val_loss: 0.3512 - val_accuracy: 0.8781\n"
          ]
        }
      ],
      "source": [
        "## Tu código con funciones de activación sigmoid en la capa oculta\n",
        "\n",
        "nn = tf.keras.Sequential()                                \n",
        "nn.add(tf.keras.layers.Flatten(input_shape=(28,28)))      \n",
        "nn.add(tf.keras.layers.Dense(512, activation='sigmoid')) \n",
        "nn.add(tf.keras.layers.Dense(1024, activation='sigmoid')) \n",
        "nn.add(tf.keras.layers.Dense(512, activation='sigmoid')) \n",
        "nn.add(tf.keras.layers.Dense(10, activation='softmax'))\n",
        "nn.compile(optimizer='adam', loss='sparse_categorical_crossentropy',metrics=['accuracy'])\n",
        "history_sigmoid = nn.fit(training_images, training_labels, epochs=10, validation_data=(test_images, test_labels))"
      ]
    },
    {
      "cell_type": "code",
      "execution_count": 33,
      "metadata": {
        "colab": {
          "base_uri": "https://localhost:8080/"
        },
        "id": "QZLP8DW_8MJ8",
        "outputId": "864cb2eb-8d6f-4f41-cc78-35ef72cf7ec3"
      },
      "outputs": [
        {
          "output_type": "stream",
          "name": "stdout",
          "text": [
            "Epoch 1/10\n",
            "1875/1875 [==============================] - 45s 24ms/step - loss: 0.4768 - accuracy: 0.8281 - val_loss: 0.5108 - val_accuracy: 0.8275\n",
            "Epoch 2/10\n",
            "1875/1875 [==============================] - 41s 22ms/step - loss: 0.3703 - accuracy: 0.8648 - val_loss: 0.3843 - val_accuracy: 0.8594\n",
            "Epoch 3/10\n",
            "1875/1875 [==============================] - 42s 22ms/step - loss: 0.3289 - accuracy: 0.8802 - val_loss: 0.4219 - val_accuracy: 0.8596\n",
            "Epoch 4/10\n",
            "1875/1875 [==============================] - 45s 24ms/step - loss: 0.3087 - accuracy: 0.8863 - val_loss: 0.3562 - val_accuracy: 0.8696\n",
            "Epoch 5/10\n",
            "1875/1875 [==============================] - 40s 21ms/step - loss: 0.2884 - accuracy: 0.8939 - val_loss: 0.3529 - val_accuracy: 0.8756\n",
            "Epoch 6/10\n",
            "1875/1875 [==============================] - 41s 22ms/step - loss: 0.2727 - accuracy: 0.8972 - val_loss: 0.3349 - val_accuracy: 0.8792\n",
            "Epoch 7/10\n",
            "1875/1875 [==============================] - 40s 21ms/step - loss: 0.2650 - accuracy: 0.9003 - val_loss: 0.3434 - val_accuracy: 0.8791\n",
            "Epoch 8/10\n",
            "1875/1875 [==============================] - 42s 22ms/step - loss: 0.2521 - accuracy: 0.9046 - val_loss: 0.3473 - val_accuracy: 0.8833\n",
            "Epoch 9/10\n",
            "1875/1875 [==============================] - 41s 22ms/step - loss: 0.2394 - accuracy: 0.9093 - val_loss: 0.3396 - val_accuracy: 0.8829\n",
            "Epoch 10/10\n",
            "1875/1875 [==============================] - 41s 22ms/step - loss: 0.2327 - accuracy: 0.9128 - val_loss: 0.3323 - val_accuracy: 0.8872\n"
          ]
        }
      ],
      "source": [
        "## Tu código con funciones de activación relu en la capa oculta\n",
        "nn = tf.keras.Sequential()                                \n",
        "nn.add(tf.keras.layers.Flatten(input_shape=(28,28)))      \n",
        "nn.add(tf.keras.layers.Dense(512, activation='relu')) \n",
        "nn.add(tf.keras.layers.Dense(1024, activation='relu')) \n",
        "nn.add(tf.keras.layers.Dense(512, activation='relu')) \n",
        "nn.add(tf.keras.layers.Dense(10, activation='softmax'))\n",
        "nn.compile(optimizer='adam', loss='sparse_categorical_crossentropy',metrics=['accuracy'])\n",
        "history_relu = nn.fit(training_images, training_labels, epochs=10 , validation_data=(test_images, test_labels))"
      ]
    },
    {
      "cell_type": "code",
      "execution_count": 34,
      "metadata": {
        "id": "aWBSxgB1dd0T"
      },
      "outputs": [],
      "source": [
        "def plot_compare_losses(history1, history2, name1=\"Red 1\",\n",
        "                        name2=\"Red 2\", title=\"Graph title\"):\n",
        "    \"\"\"Compara losses de dos entrenamientos con nombres name1 y name2\"\"\"\n",
        "    plt.plot(history1.history['loss'], color=\"green\")\n",
        "    plt.plot(history1.history['val_loss'], 'r--', color=\"green\")\n",
        "    plt.plot(history2.history['loss'], color=\"blue\")\n",
        "    plt.plot(history2.history['val_loss'], 'r--', color=\"blue\")\n",
        "    plt.title(title)\n",
        "    plt.ylabel('Loss')\n",
        "    plt.xlabel('Epoch')\n",
        "    plt.legend(['Train ' + name1, 'Val ' + name1, \n",
        "                'Train ' + name2, 'Val ' + name2],\n",
        "               loc='upper right')\n",
        "    plt.show()\n",
        "    \n",
        "def plot_compare_accs(history1, history2, name1=\"Red 1\",\n",
        "                      name2=\"Red 2\", title=\"Graph title\"):\n",
        "    \"\"\"Compara accuracies de dos entrenamientos con nombres name1 y name2\"\"\"\n",
        "    plt.plot(history1.history['accuracy'], color=\"green\")\n",
        "    plt.plot(history1.history['val_accuracy'], 'r--', color=\"green\")\n",
        "    plt.plot(history2.history['accuracy'], color=\"blue\")\n",
        "    plt.plot(history2.history['val_accuracy'], 'r--', color=\"blue\")\n",
        "    plt.title(title)\n",
        "    plt.ylabel('Accuracy')\n",
        "    plt.xlabel('Epoch')\n",
        "    plt.legend(['Train ' + name1, 'Val ' + name1, \n",
        "                'Train ' + name2, 'Val ' + name2], \n",
        "               loc='lower right')\n",
        "    plt.show()"
      ]
    },
    {
      "cell_type": "code",
      "execution_count": 35,
      "metadata": {
        "id": "u-vPVJLOdfxz",
        "colab": {
          "base_uri": "https://localhost:8080/",
          "height": 295
        },
        "outputId": "1db4f408-4558-4c79-a375-ffb36027d1b6"
      },
      "outputs": [
        {
          "output_type": "display_data",
          "data": {
            "text/plain": [
              "<Figure size 432x288 with 1 Axes>"
            ],
            "image/png": "[encoded data removed]"
          },
          "metadata": {
            "needs_background": "light"
          }
        }
      ],
      "source": [
        "plot_compare_losses(history_sigmoid, history_relu, \"Sigmoid\", \"Relu\", \"Comparativa Losses\")"
      ]
    },
    {
      "cell_type": "code",
      "execution_count": 36,
      "metadata": {
        "id": "nT2ouNfIdrLU",
        "colab": {
          "base_uri": "https://localhost:8080/",
          "height": 295
        },
        "outputId": "2e16d6a9-df45-4c0b-8874-8047a435d786"
      },
      "outputs": [
        {
          "output_type": "display_data",
          "data": {
            "text/plain": [
              "<Figure size 432x288 with 1 Axes>"
            ],
            "image/png": "[encoded data removed]"
          },
          "metadata": {
            "needs_background": "light"
          }
        }
      ],
      "source": [
        "plot_compare_accs(history_sigmoid, history_relu, \"Sigmoid\", \"Relu\", \"Comparativa Accuracy\")"
      ]
    },
    {
      "cell_type": "markdown",
      "source": [
        "<font color='green'> Aunque los comportamientos son muy similares la Función de Activación Relu tiende a converger de forma algo más rápida. "
      ],
      "metadata": {
        "id": "WhFdSndsZJFk"
      }
    },
    {
      "cell_type": "markdown",
      "metadata": {
        "id": "pu6RbUFKTFqT"
      },
      "source": [
        "# 10. Inicialización de parámetros"
      ]
    },
    {
      "cell_type": "markdown",
      "metadata": {
        "id": "Abmm05UPTFqU"
      },
      "source": [
        "En este ejercicio, vamos a evaluar la importancia de una correcta inicialización de parámetros en una red neuronal.\n",
        "\n",
        "**Ejercicio 10 *(0.75 puntos)***: Partiendo de una red similar a la del ejercicio anterior (usando ya ReLUs), comentar las diferencias que se aprecian en el entrenamiento al utilizar distintas estrategias de inicialización de parámetros. Para ello, inicializar todas las capas con las siguientes estrategias, disponibles en Keras, y analizar sus diferencias:\n",
        "\n",
        "* Inicialización con ceros.\n",
        "* Inicialización con una variable aleatoria normal.\n",
        "* Inicialización con los valores por defecto de Keras para una capa Dense (estrategia *glorot uniform*)"
      ]
    },
    {
      "cell_type": "markdown",
      "source": [
        "<font color='orange'> De aquí en adelante hay que tener en cuenta que no siempre pueden salir los mismos resultados y que hay mucha variabilidad en función del entorno de ejecución que utilice cada uno. Por tanto, tenéis que comprobar en primer lugar que el código está bien y que se hace lo que se pide el ejercicio. </font><br><br>\n",
        "<font color='orange'>\n",
        "En este ejercicio se debe entrenar un modelo inicializando a ceros, con una variable aleatorio normal y con la estrategia glorot uniform. </font><br><br>\n",
        "<font color='orange'>\n",
        "Cualquier respuesta se toma como buena siempre que esté soportada por las métricas de evaluación de los modelos construidos, en caso contrario por cada error de código o interpretación quitar un tercio del valor de la pregunta. Si no se dibujan gráficas no pasa nada, en el caso que se dibujen gráficas perdonar el primer error detectado en el caso de que haya y no restar el tercio del valor de la pregunta. </font>"
      ],
      "metadata": {
        "id": "1H9CToD79KwN"
      }
    },
    {
      "cell_type": "code",
      "execution_count": 37,
      "metadata": {
        "id": "qcMt7pSkTFqU"
      },
      "outputs": [],
      "source": [
        "## Tu código y comentarios de texto aquí\n",
        "## Puedes incluir tantas celdas como quieras\n",
        "## No olvides utilizar celdas de Markdown para texto\n",
        "from keras import initializers\n"
      ]
    },
    {
      "cell_type": "code",
      "execution_count": 38,
      "metadata": {
        "colab": {
          "base_uri": "https://localhost:8080/"
        },
        "id": "0O4Pt1OQjQIf",
        "outputId": "5a97418f-8ee0-4dc9-fc10-9fc0d9e2075c"
      },
      "outputs": [
        {
          "output_type": "stream",
          "name": "stdout",
          "text": [
            "Epoch 1/10\n",
            "1875/1875 [==============================] - 10s 5ms/step - loss: 2.3028 - accuracy: 0.0969 - val_loss: 2.3026 - val_accuracy: 0.1000\n",
            "Epoch 2/10\n",
            "1875/1875 [==============================] - 10s 5ms/step - loss: 2.3028 - accuracy: 0.0984 - val_loss: 2.3026 - val_accuracy: 0.1000\n",
            "Epoch 3/10\n",
            "1875/1875 [==============================] - 12s 7ms/step - loss: 2.3028 - accuracy: 0.0998 - val_loss: 2.3027 - val_accuracy: 0.1000\n",
            "Epoch 4/10\n",
            "1875/1875 [==============================] - 11s 6ms/step - loss: 2.3028 - accuracy: 0.0964 - val_loss: 2.3026 - val_accuracy: 0.1000\n",
            "Epoch 5/10\n",
            "1875/1875 [==============================] - 12s 6ms/step - loss: 2.3028 - accuracy: 0.0989 - val_loss: 2.3026 - val_accuracy: 0.1000\n",
            "Epoch 6/10\n",
            "1875/1875 [==============================] - 10s 6ms/step - loss: 2.3027 - accuracy: 0.0982 - val_loss: 2.3027 - val_accuracy: 0.1000\n",
            "Epoch 7/10\n",
            "1875/1875 [==============================] - 11s 6ms/step - loss: 2.3028 - accuracy: 0.1000 - val_loss: 2.3026 - val_accuracy: 0.1000\n",
            "Epoch 8/10\n",
            "1875/1875 [==============================] - 10s 5ms/step - loss: 2.3028 - accuracy: 0.0990 - val_loss: 2.3027 - val_accuracy: 0.1000\n",
            "Epoch 9/10\n",
            "1875/1875 [==============================] - 12s 6ms/step - loss: 2.3028 - accuracy: 0.0976 - val_loss: 2.3026 - val_accuracy: 0.1000\n",
            "Epoch 10/10\n",
            "1875/1875 [==============================] - 11s 6ms/step - loss: 2.3028 - accuracy: 0.0983 - val_loss: 2.3027 - val_accuracy: 0.1000\n"
          ]
        }
      ],
      "source": [
        "## Inicialización con ceros\n",
        "nn = tf.keras.Sequential()                                \n",
        "nn.add(tf.keras.layers.Flatten(input_shape=(28,28)))      \n",
        "nn.add(tf.keras.layers.Dense(512, activation='relu',kernel_initializer=initializers.Constant(0.))) \n",
        "nn.add(tf.keras.layers.Dense(10, activation='softmax'))\n",
        "nn.compile(optimizer='adam', loss='sparse_categorical_crossentropy',metrics=['accuracy'])\n",
        "history_ceros = nn.fit(training_images, training_labels, epochs=10 , validation_data=(test_images, test_labels))"
      ]
    },
    {
      "cell_type": "code",
      "execution_count": 39,
      "metadata": {
        "colab": {
          "base_uri": "https://localhost:8080/"
        },
        "id": "5NmjazBoj2z6",
        "outputId": "2ce3dc8f-53b9-49bd-a2e5-71f596969fd9"
      },
      "outputs": [
        {
          "output_type": "stream",
          "name": "stdout",
          "text": [
            "Epoch 1/10\n",
            "1875/1875 [==============================] - 11s 5ms/step - loss: 0.4825 - accuracy: 0.8270 - val_loss: 0.4405 - val_accuracy: 0.8391\n",
            "Epoch 2/10\n",
            "1875/1875 [==============================] - 9s 5ms/step - loss: 0.3639 - accuracy: 0.8668 - val_loss: 0.4021 - val_accuracy: 0.8541\n",
            "Epoch 3/10\n",
            "1875/1875 [==============================] - 10s 5ms/step - loss: 0.3284 - accuracy: 0.8787 - val_loss: 0.3504 - val_accuracy: 0.8738\n",
            "Epoch 4/10\n",
            "1875/1875 [==============================] - 13s 7ms/step - loss: 0.3028 - accuracy: 0.8881 - val_loss: 0.3684 - val_accuracy: 0.8686\n",
            "Epoch 5/10\n",
            "1875/1875 [==============================] - 10s 5ms/step - loss: 0.2828 - accuracy: 0.8960 - val_loss: 0.3399 - val_accuracy: 0.8748\n",
            "Epoch 6/10\n",
            "1875/1875 [==============================] - 10s 6ms/step - loss: 0.2698 - accuracy: 0.8993 - val_loss: 0.3492 - val_accuracy: 0.8783\n",
            "Epoch 7/10\n",
            "1875/1875 [==============================] - 10s 6ms/step - loss: 0.2566 - accuracy: 0.9051 - val_loss: 0.3296 - val_accuracy: 0.8809\n",
            "Epoch 8/10\n",
            "1875/1875 [==============================] - 10s 5ms/step - loss: 0.2450 - accuracy: 0.9084 - val_loss: 0.3236 - val_accuracy: 0.8827\n",
            "Epoch 9/10\n",
            "1875/1875 [==============================] - 10s 5ms/step - loss: 0.2357 - accuracy: 0.9122 - val_loss: 0.3213 - val_accuracy: 0.8867\n",
            "Epoch 10/10\n",
            "1875/1875 [==============================] - 10s 5ms/step - loss: 0.2255 - accuracy: 0.9152 - val_loss: 0.3422 - val_accuracy: 0.8854\n"
          ]
        }
      ],
      "source": [
        "nn = tf.keras.Sequential()                                \n",
        "nn.add(tf.keras.layers.Flatten(input_shape=(28,28)))      \n",
        "nn.add(tf.keras.layers.Dense(512, activation='relu', kernel_initializer=initializers.RandomNormal(mean=0.0, stddev=0.01, seed=None))) \n",
        "nn.add(tf.keras.layers.Dense(10, activation='softmax'))\n",
        "nn.compile(optimizer='adam', loss='sparse_categorical_crossentropy',metrics=['accuracy'])\n",
        "history_randonNormal = nn.fit(training_images, training_labels, epochs=10 , validation_data=(test_images, test_labels))"
      ]
    },
    {
      "cell_type": "code",
      "execution_count": 40,
      "metadata": {
        "colab": {
          "base_uri": "https://localhost:8080/"
        },
        "id": "yTsaqFcnkQrK",
        "outputId": "ad939728-eb6f-4bc6-bf6b-2b001e3b8ce1"
      },
      "outputs": [
        {
          "output_type": "stream",
          "name": "stdout",
          "text": [
            "Epoch 1/10\n",
            "1875/1875 [==============================] - 10s 5ms/step - loss: 0.4770 - accuracy: 0.8301 - val_loss: 0.4086 - val_accuracy: 0.8568\n",
            "Epoch 2/10\n",
            "1875/1875 [==============================] - 9s 5ms/step - loss: 0.3621 - accuracy: 0.8673 - val_loss: 0.3740 - val_accuracy: 0.8634\n",
            "Epoch 3/10\n",
            "1875/1875 [==============================] - 10s 5ms/step - loss: 0.3234 - accuracy: 0.8813 - val_loss: 0.3532 - val_accuracy: 0.8736\n",
            "Epoch 4/10\n",
            "1875/1875 [==============================] - 10s 5ms/step - loss: 0.2975 - accuracy: 0.8889 - val_loss: 0.3658 - val_accuracy: 0.8715\n",
            "Epoch 5/10\n",
            "1875/1875 [==============================] - 10s 5ms/step - loss: 0.2815 - accuracy: 0.8952 - val_loss: 0.3405 - val_accuracy: 0.8782\n",
            "Epoch 6/10\n",
            "1875/1875 [==============================] - 10s 5ms/step - loss: 0.2632 - accuracy: 0.9017 - val_loss: 0.3591 - val_accuracy: 0.8669\n",
            "Epoch 7/10\n",
            "1875/1875 [==============================] - 10s 5ms/step - loss: 0.2511 - accuracy: 0.9075 - val_loss: 0.3250 - val_accuracy: 0.8850\n",
            "Epoch 8/10\n",
            "1875/1875 [==============================] - 10s 5ms/step - loss: 0.2397 - accuracy: 0.9103 - val_loss: 0.3657 - val_accuracy: 0.8723\n",
            "Epoch 9/10\n",
            "1875/1875 [==============================] - 10s 5ms/step - loss: 0.2311 - accuracy: 0.9123 - val_loss: 0.3382 - val_accuracy: 0.8868\n",
            "Epoch 10/10\n",
            "1875/1875 [==============================] - 9s 5ms/step - loss: 0.2207 - accuracy: 0.9168 - val_loss: 0.3258 - val_accuracy: 0.8884\n"
          ]
        }
      ],
      "source": [
        "nn = tf.keras.Sequential()                                \n",
        "nn.add(tf.keras.layers.Flatten(input_shape=(28,28)))      \n",
        "nn.add(tf.keras.layers.Dense(512, activation='relu', kernel_initializer=initializers.glorot_uniform())) \n",
        "nn.add(tf.keras.layers.Dense(10, activation='softmax'))\n",
        "nn.compile(optimizer='adam', loss='sparse_categorical_crossentropy',metrics=['accuracy'])\n",
        "history_glorotUniform = nn.fit(training_images, training_labels, epochs=10 , validation_data=(test_images, test_labels))"
      ]
    },
    {
      "cell_type": "code",
      "execution_count": 41,
      "metadata": {
        "id": "nQjmpDWal7qP"
      },
      "outputs": [],
      "source": [
        " \n",
        "def plot_compare_losses3(history1, history2, history3,\n",
        "                        name1=\"Red 1\", name2=\"Red 2\", name3=\"Red 3\",\n",
        "                        title=\"Graph title\"):\n",
        "  \n",
        "    \"\"\"Compara losses de 3 entrenamientos\"\"\"\n",
        "    plt.plot(history1.history['loss'], color=\"green\")\n",
        "    plt.plot(history1.history['val_loss'], 'r--', color=\"green\")\n",
        "\n",
        "    plt.plot(history2.history['loss'], color=\"blue\")\n",
        "    plt.plot(history2.history['val_loss'], 'r--', color=\"blue\")\n",
        "\n",
        "    plt.plot(history3.history['loss'], color=\"red\")\n",
        "    plt.plot(history3.history['val_loss'], 'r--', color=\"red\")\n",
        "\n",
        "    \n",
        "    plt.title(title)\n",
        "    plt.ylabel('Loss')\n",
        "    plt.xlabel('Epoch')\n",
        "    plt.legend(['Train ' + name1, 'Val ' + name1, \n",
        "                'Train ' + name2, 'Val ' + name2,  \n",
        "                'Train ' + name3, 'Val ' + name3],\n",
        "               loc='upper right')\n",
        "    plt.show()\n",
        "\n",
        "\n",
        "def plot_compare_accs3(history1, history2, history3, \n",
        "                       name1=\"Red 1\", name2=\"Red 2\", name3=\"Red 3\", \n",
        "                       title=\"Graph title\"):\n",
        "    \"\"\"Compara accuracies de 3 entrenamientos\"\"\"\n",
        "    plt.plot(history1.history['accuracy'], color=\"green\")\n",
        "    plt.plot(history1.history['val_accuracy'], 'r--', color=\"green\")\n",
        "    plt.plot(history2.history['accuracy'], color=\"blue\")\n",
        "    plt.plot(history2.history['val_accuracy'], 'r--', color=\"blue\")\n",
        "    plt.plot(history3.history['accuracy'], color=\"red\")\n",
        "    plt.plot(history3.history['val_accuracy'], 'r--', color=\"red\")\n",
        "\n",
        "    plt.title(title)\n",
        "    plt.ylabel('Accuracy')\n",
        "    plt.xlabel('Epoch')\n",
        "    plt.legend(['Train ' + name1, 'Val ' + name1, \n",
        "                'Train ' + name2, 'Val ' + name2, \n",
        "                'Train ' + name3, 'Val ' + name3], \n",
        "               loc='lower right')\n",
        "    plt.show()"
      ]
    },
    {
      "cell_type": "code",
      "execution_count": 42,
      "metadata": {
        "colab": {
          "base_uri": "https://localhost:8080/",
          "height": 573
        },
        "id": "rfPPK_4tmQft",
        "outputId": "68f7982b-2077-4500-d99f-8894e2bd989a"
      },
      "outputs": [
        {
          "output_type": "display_data",
          "data": {
            "text/plain": [
              "<Figure size 432x288 with 1 Axes>"
            ],
            "image/png": "[encoded data removed]"
          },
          "metadata": {
            "needs_background": "light"
          }
        },
        {
          "output_type": "display_data",
          "data": {
            "text/plain": [
              "<Figure size 432x288 with 1 Axes>"
            ],
            "image/png": "[encoded data removed]"
          },
          "metadata": {
            "needs_background": "light"
          }
        }
      ],
      "source": [
        "plot_compare_losses3(history_ceros, history_randonNormal, history_glorotUniform, \"ceros\", \"randonNormal\", \"glorotUniform\", \"Comparativa Losses\")\n",
        "plot_compare_accs3(history_ceros, history_randonNormal, history_glorotUniform, \"ceros\", \"randonNormal\", \"glorotUniform\", \"Comparativa Accuracy\")"
      ]
    },
    {
      "cell_type": "markdown",
      "source": [
        "<font color='green'> Se puede ver de forma clara como hay muy poca variacion entre una inicialización con una variable aleatoria normal y siguiendo la estrategia glorot uniform. Sin embargo, la inicializacion de todo a ceros no es válida, pues como se observa es incapaz de aprender. De hecho el accuracy que arroja es 10%, que coincide exactamente que el porcentaje de instancias de cada clase que existe ya que el dataset está completamente balanceado y hay 10 clases distintas. </font>"
      ],
      "metadata": {
        "id": "zRcUmSb8Eff3"
      }
    },
    {
      "cell_type": "markdown",
      "metadata": {
        "id": "NqIAyVWrTFqV"
      },
      "source": [
        "# 11. Optimizadores"
      ]
    },
    {
      "cell_type": "markdown",
      "metadata": {
        "id": "lcYj29hYTFqW"
      },
      "source": [
        "**Ejercicio 11 *(0.75 puntos)***: Partiendo de una red similar a la del ejercicio anterior (utilizando la mejor estrategia de inicialización observada), comparar y analizar las diferencias que se observan  al entrenar con varios de los optimizadores vistos en clase, incluyendo SGD como optimizador básico (se puede explorar el espacio de hiperparámetros de cada optimizador, aunque para optimizadores más avanzados del estilo de adam y RMSprop es buena idea dejar los valores por defecto provistos por Keras)."
      ]
    },
    {
      "cell_type": "markdown",
      "source": [
        "<font color='orange'> De aquí en adelante hay que tener en cuenta que no siempre pueden salir los mismos resultados y que hay mucha variabilidad en función del entorno de ejecución que utilice cada uno. Por tanto, tenéis que comprobar en primer lugar que el código está bien y que se hace lo que se pide el ejercicio.  <br><br> En este ejercicio se deben entrenar al menos 3 modelos con algunos de los optimizadores como sgd, adam, adagrad o rmsprop. <br><br> Cualquier respuesta se toma como buena siempre que esté soportada por las métricas de evaluación de los modelos construidos, en caso contrario por cada error de código o interpretación quitar un tercio del valor de la pregunta. Si no se dibujan gráficas no pasa nada, en el caso que se dibujen gráficas perdonar el primer error detectado en el caso de que haya y no restar el tercio del valor de la pregunta. </font>"
      ],
      "metadata": {
        "id": "4VmQ9Qwl9whV"
      }
    },
    {
      "cell_type": "code",
      "execution_count": 43,
      "metadata": {
        "id": "0fWDiqXvTFqW"
      },
      "outputs": [],
      "source": [
        "## Tu código y comentarios de texto aquí\n",
        "## Puedes incluir tantas celdas como quieras\n",
        "## No olvides utilizar celdas de Markdown para texto"
      ]
    },
    {
      "cell_type": "code",
      "execution_count": 44,
      "metadata": {
        "colab": {
          "base_uri": "https://localhost:8080/"
        },
        "id": "NXS47Odukwqs",
        "outputId": "c12f200e-1b6f-476b-a880-2ef2bd0d5e64"
      },
      "outputs": [
        {
          "output_type": "stream",
          "name": "stdout",
          "text": [
            "Epoch 1/10\n",
            "1875/1875 [==============================] - 9s 4ms/step - loss: 0.7049 - accuracy: 0.7731 - val_loss: 0.5786 - val_accuracy: 0.7970\n",
            "Epoch 2/10\n",
            "1875/1875 [==============================] - 7s 4ms/step - loss: 0.5003 - accuracy: 0.8311 - val_loss: 0.4958 - val_accuracy: 0.8278\n",
            "Epoch 3/10\n",
            "1875/1875 [==============================] - 8s 4ms/step - loss: 0.4570 - accuracy: 0.8435 - val_loss: 0.4758 - val_accuracy: 0.8333\n",
            "Epoch 4/10\n",
            "1875/1875 [==============================] - 8s 4ms/step - loss: 0.4330 - accuracy: 0.8513 - val_loss: 0.4639 - val_accuracy: 0.8372\n",
            "Epoch 5/10\n",
            "1875/1875 [==============================] - 8s 4ms/step - loss: 0.4148 - accuracy: 0.8576 - val_loss: 0.4375 - val_accuracy: 0.8454\n",
            "Epoch 6/10\n",
            "1875/1875 [==============================] - 7s 4ms/step - loss: 0.4004 - accuracy: 0.8611 - val_loss: 0.4330 - val_accuracy: 0.8470\n",
            "Epoch 7/10\n",
            "1875/1875 [==============================] - 8s 4ms/step - loss: 0.3893 - accuracy: 0.8657 - val_loss: 0.4230 - val_accuracy: 0.8510\n",
            "Epoch 8/10\n",
            "1875/1875 [==============================] - 8s 4ms/step - loss: 0.3792 - accuracy: 0.8686 - val_loss: 0.4182 - val_accuracy: 0.8527\n",
            "Epoch 9/10\n",
            "1875/1875 [==============================] - 9s 5ms/step - loss: 0.3695 - accuracy: 0.8711 - val_loss: 0.4033 - val_accuracy: 0.8581\n",
            "Epoch 10/10\n",
            "1875/1875 [==============================] - 8s 4ms/step - loss: 0.3613 - accuracy: 0.8742 - val_loss: 0.3976 - val_accuracy: 0.8589\n"
          ]
        }
      ],
      "source": [
        "#sgd\n",
        "nn = tf.keras.Sequential()                                \n",
        "nn.add(tf.keras.layers.Flatten(input_shape=(28,28)))      \n",
        "nn.add(tf.keras.layers.Dense(512, activation='relu')) \n",
        "nn.add(tf.keras.layers.Dense(10, activation='softmax'))\n",
        "nn.compile(optimizer='sgd', loss='sparse_categorical_crossentropy',metrics=['accuracy'])\n",
        "history_sgd = nn.fit(training_images, training_labels, epochs=10 , validation_data=(test_images, test_labels))"
      ]
    },
    {
      "cell_type": "code",
      "execution_count": 45,
      "metadata": {
        "colab": {
          "base_uri": "https://localhost:8080/"
        },
        "id": "M_JyfoH0k7Bn",
        "outputId": "14c5baa4-1b98-4091-d13a-ae6b85464952"
      },
      "outputs": [
        {
          "output_type": "stream",
          "name": "stdout",
          "text": [
            "Epoch 1/10\n",
            "1875/1875 [==============================] - 14s 7ms/step - loss: 0.4972 - accuracy: 0.8230 - val_loss: 0.4080 - val_accuracy: 0.8578\n",
            "Epoch 2/10\n",
            "1875/1875 [==============================] - 13s 7ms/step - loss: 0.3787 - accuracy: 0.8652 - val_loss: 0.4448 - val_accuracy: 0.8422\n",
            "Epoch 3/10\n",
            "1875/1875 [==============================] - 13s 7ms/step - loss: 0.3523 - accuracy: 0.8774 - val_loss: 0.4070 - val_accuracy: 0.8671\n",
            "Epoch 4/10\n",
            "1875/1875 [==============================] - 14s 7ms/step - loss: 0.3382 - accuracy: 0.8848 - val_loss: 0.4474 - val_accuracy: 0.8608\n",
            "Epoch 5/10\n",
            "1875/1875 [==============================] - 14s 7ms/step - loss: 0.3298 - accuracy: 0.8880 - val_loss: 0.4492 - val_accuracy: 0.8572\n",
            "Epoch 6/10\n",
            "1875/1875 [==============================] - 13s 7ms/step - loss: 0.3218 - accuracy: 0.8929 - val_loss: 0.5023 - val_accuracy: 0.8533\n",
            "Epoch 7/10\n",
            "1875/1875 [==============================] - 13s 7ms/step - loss: 0.3162 - accuracy: 0.8954 - val_loss: 0.4429 - val_accuracy: 0.8708\n",
            "Epoch 8/10\n",
            "1875/1875 [==============================] - 12s 7ms/step - loss: 0.3076 - accuracy: 0.9003 - val_loss: 0.4537 - val_accuracy: 0.8679\n",
            "Epoch 9/10\n",
            "1875/1875 [==============================] - 12s 7ms/step - loss: 0.3019 - accuracy: 0.9030 - val_loss: 0.4485 - val_accuracy: 0.8729\n",
            "Epoch 10/10\n",
            "1875/1875 [==============================] - 13s 7ms/step - loss: 0.2950 - accuracy: 0.9055 - val_loss: 0.4531 - val_accuracy: 0.8826\n"
          ]
        }
      ],
      "source": [
        "#rmsprop\n",
        "nn = tf.keras.Sequential()                                \n",
        "nn.add(tf.keras.layers.Flatten(input_shape=(28,28)))      \n",
        "nn.add(tf.keras.layers.Dense(512, activation='relu')) \n",
        "nn.add(tf.keras.layers.Dense(10, activation='softmax'))\n",
        "nn.compile(optimizer='rmsprop', loss='sparse_categorical_crossentropy',metrics=['accuracy'])\n",
        "history_rmsprop = nn.fit(training_images, training_labels, epochs=10 , validation_data=(test_images, test_labels))"
      ]
    },
    {
      "cell_type": "code",
      "execution_count": 46,
      "metadata": {
        "colab": {
          "base_uri": "https://localhost:8080/"
        },
        "id": "Uf5OSWptk_Gk",
        "outputId": "1a2d7701-da8f-4a02-f042-c2c26e9ceb6e"
      },
      "outputs": [
        {
          "output_type": "stream",
          "name": "stdout",
          "text": [
            "Epoch 1/10\n",
            "1875/1875 [==============================] - 10s 5ms/step - loss: 0.4714 - accuracy: 0.8313 - val_loss: 0.3935 - val_accuracy: 0.8571\n",
            "Epoch 2/10\n",
            "1875/1875 [==============================] - 10s 5ms/step - loss: 0.3569 - accuracy: 0.8685 - val_loss: 0.4213 - val_accuracy: 0.8398\n",
            "Epoch 3/10\n",
            "1875/1875 [==============================] - 9s 5ms/step - loss: 0.3223 - accuracy: 0.8805 - val_loss: 0.3421 - val_accuracy: 0.8749\n",
            "Epoch 4/10\n",
            "1875/1875 [==============================] - 10s 5ms/step - loss: 0.2957 - accuracy: 0.8901 - val_loss: 0.3477 - val_accuracy: 0.8746\n",
            "Epoch 5/10\n",
            "1875/1875 [==============================] - 10s 5ms/step - loss: 0.2789 - accuracy: 0.8975 - val_loss: 0.3655 - val_accuracy: 0.8641\n",
            "Epoch 6/10\n",
            "1875/1875 [==============================] - 9s 5ms/step - loss: 0.2655 - accuracy: 0.9019 - val_loss: 0.3434 - val_accuracy: 0.8791\n",
            "Epoch 7/10\n",
            "1875/1875 [==============================] - 9s 5ms/step - loss: 0.2543 - accuracy: 0.9045 - val_loss: 0.3459 - val_accuracy: 0.8808\n",
            "Epoch 8/10\n",
            "1875/1875 [==============================] - 9s 5ms/step - loss: 0.2433 - accuracy: 0.9091 - val_loss: 0.3269 - val_accuracy: 0.8858\n",
            "Epoch 9/10\n",
            "1875/1875 [==============================] - 10s 5ms/step - loss: 0.2305 - accuracy: 0.9132 - val_loss: 0.3320 - val_accuracy: 0.8833\n",
            "Epoch 10/10\n",
            "1875/1875 [==============================] - 9s 5ms/step - loss: 0.2227 - accuracy: 0.9164 - val_loss: 0.3286 - val_accuracy: 0.8878\n"
          ]
        }
      ],
      "source": [
        "#adam\n",
        "nn = tf.keras.Sequential()                                \n",
        "nn.add(tf.keras.layers.Flatten(input_shape=(28,28)))      \n",
        "nn.add(tf.keras.layers.Dense(512, activation='relu')) \n",
        "nn.add(tf.keras.layers.Dense(10, activation='softmax'))\n",
        "nn.compile(optimizer='adam', loss='sparse_categorical_crossentropy',metrics=['accuracy'])\n",
        "history_adam = nn.fit(training_images, training_labels, epochs=10 , validation_data=(test_images, test_labels))"
      ]
    },
    {
      "cell_type": "code",
      "execution_count": 47,
      "metadata": {
        "colab": {
          "base_uri": "https://localhost:8080/",
          "height": 573
        },
        "id": "5czf8bINlfaX",
        "outputId": "a50dda5c-543a-45df-be99-9ce0f74d10d3"
      },
      "outputs": [
        {
          "output_type": "display_data",
          "data": {
            "text/plain": [
              "<Figure size 432x288 with 1 Axes>"
            ],
            "image/png": "[encoded data removed]"
          },
          "metadata": {
            "needs_background": "light"
          }
        },
        {
          "output_type": "display_data",
          "data": {
            "text/plain": [
              "<Figure size 432x288 with 1 Axes>"
            ],
            "image/png": "[encoded data removed]"
          },
          "metadata": {
            "needs_background": "light"
          }
        }
      ],
      "source": [
        "plot_compare_losses3(history_sgd, history_rmsprop, history_adam, \"sgd\", \"rmsprop\", \"adam\", \"Comparativa Losses\")\n",
        "plot_compare_accs3(history_sgd, history_rmsprop, history_adam, \"sgd\", \"rmsprop\", \"adam\", \"Comparativa Accuracy\")"
      ]
    },
    {
      "cell_type": "markdown",
      "source": [
        "<font color='green'> Se puede ver como en general, los métodos rmsprop y adam, que trabajan con un learning rate adaptativo, funcionan algo mejor que el sgd. </font>"
      ],
      "metadata": {
        "id": "QEpB0WgZZjyM"
      }
    },
    {
      "cell_type": "markdown",
      "metadata": {
        "id": "BkfTFoJOTFqZ"
      },
      "source": [
        "# 12. Regularización y red final *(1.25 puntos)*"
      ]
    },
    {
      "cell_type": "markdown",
      "metadata": {
        "id": "f6CQhK7ZTFqZ"
      },
      "source": [
        "**Ejercicio 12 *(1 punto)***: Entrenar una red final que sea capaz de obtener una accuracy en el validation set cercana al 90%. Para ello, combinar todo lo aprendido anteriormente y utilizar técnicas de regularización para evitar overfitting. Algunos de los elementos que pueden tenerse en cuenta son los siguientes.\n",
        "\n",
        "* Número de capas y neuronas por capa\n",
        "* Optimizadores y sus parámetros\n",
        "* Batch size\n",
        "* Unidades de activación\n",
        "* Uso de capas dropout, regularización L2, regularización L1...\n",
        "* Early stopping (se puede aplicar como un callback de Keras, o se puede ver un poco \"a ojo\" cuándo el modelo empieza a caer en overfitting y seleccionar el número de epochs necesarias)\n",
        "* Batch normalization\n",
        "\n",
        "Si los modelos entrenados anteriormente ya se acercaban al valor requerido de accuracy, probar distintas estrategias igualmente y comentar los resultados.\n",
        "\n",
        "Explicar brevemente la estrategia seguida y los modelos probados para obtener el modelo final, que debe verse entrenado en este Notebook. No es necesario guardar el entrenamiento de todos los modelos que se han probado, es suficiente con explicar cómo se ha llegado al modelo final."
      ]
    },
    {
      "cell_type": "markdown",
      "source": [
        "<font color='orange'> Este ejercicio es totalmente libre. Cualquier resultado que llegue al 89% recibe la máxima puntuación. Si sobrepasa el 88.5% sin llegar al 89% la mitad de la puntuación. <br><br>\n",
        "Hay que fijarse bien que la métrica que estamos comparando y que tiene que llegar al valor indicado es el accuracy con los datos de validación (val_accuracy) y no el accuracy con los datos de entrenamiento (accuracy)</font>"
      ],
      "metadata": {
        "id": "X2lUEsTK-oWb"
      }
    },
    {
      "cell_type": "code",
      "execution_count": 48,
      "metadata": {
        "id": "AUJ5AtunTFqa"
      },
      "outputs": [],
      "source": [
        "## Tu modelo y comentarios de texto aquí\n",
        "## Puedes incluir tantas celdas como quieras\n",
        "## No olvides utilizar celdas de Markdown para texto\n"
      ]
    },
    {
      "cell_type": "code",
      "source": [
        "class myCallbackFinal(tf.keras.callbacks.Callback):\n",
        "      def on_epoch_end(self, epoch, logs={}):\n",
        "        if(logs.get('val_accuracy')> 0.89):\n",
        "              print(\"\\nAlcanzado el 89% de precisión en datos de test, se cancela el entrenamiento!!\")\n",
        "              self.model.stop_training = True\n",
        "\n",
        "callbackFinal = myCallbackFinal()\n",
        "\n",
        "model = keras.Sequential([\n",
        "    keras.layers.Flatten(input_shape=(28, 28)),\n",
        "    keras.layers.Dense(150, activation='elu'),\n",
        "    keras.layers.Dense(10, activation='softmax')\n",
        "])\n",
        "\n",
        "model.compile(optimizer='adam',\n",
        "              loss='sparse_categorical_crossentropy',\n",
        "              metrics=['accuracy'])\n",
        "\n",
        "history_final = model.fit(training_images, training_labels, epochs=20, validation_data=(test_images, test_labels), callbacks=[callbackFinal])"
      ],
      "metadata": {
        "colab": {
          "base_uri": "https://localhost:8080/"
        },
        "id": "dRzuRbQuBB7w",
        "outputId": "7885474e-b3df-4539-bb2e-0f5fb22ad8ac"
      },
      "execution_count": 56,
      "outputs": [
        {
          "output_type": "stream",
          "name": "stdout",
          "text": [
            "Epoch 1/20\n",
            "1875/1875 [==============================] - 8s 4ms/step - loss: 0.4873 - accuracy: 0.8265 - val_loss: 0.4239 - val_accuracy: 0.8464\n",
            "Epoch 2/20\n",
            "1875/1875 [==============================] - 6s 3ms/step - loss: 0.3754 - accuracy: 0.8618 - val_loss: 0.3801 - val_accuracy: 0.8645\n",
            "Epoch 3/20\n",
            "1875/1875 [==============================] - 5s 3ms/step - loss: 0.3375 - accuracy: 0.8756 - val_loss: 0.3688 - val_accuracy: 0.8718\n",
            "Epoch 4/20\n",
            "1875/1875 [==============================] - 5s 3ms/step - loss: 0.3128 - accuracy: 0.8833 - val_loss: 0.3473 - val_accuracy: 0.8749\n",
            "Epoch 5/20\n",
            "1875/1875 [==============================] - 5s 3ms/step - loss: 0.2922 - accuracy: 0.8910 - val_loss: 0.3491 - val_accuracy: 0.8753\n",
            "Epoch 6/20\n",
            "1875/1875 [==============================] - 5s 3ms/step - loss: 0.2768 - accuracy: 0.8975 - val_loss: 0.3424 - val_accuracy: 0.8779\n",
            "Epoch 7/20\n",
            "1875/1875 [==============================] - 7s 4ms/step - loss: 0.2649 - accuracy: 0.9003 - val_loss: 0.3425 - val_accuracy: 0.8796\n",
            "Epoch 8/20\n",
            "1875/1875 [==============================] - 6s 3ms/step - loss: 0.2522 - accuracy: 0.9047 - val_loss: 0.3438 - val_accuracy: 0.8808\n",
            "Epoch 9/20\n",
            "1875/1875 [==============================] - 7s 4ms/step - loss: 0.2423 - accuracy: 0.9089 - val_loss: 0.3300 - val_accuracy: 0.8858\n",
            "Epoch 10/20\n",
            "1875/1875 [==============================] - 6s 3ms/step - loss: 0.2317 - accuracy: 0.9125 - val_loss: 0.3319 - val_accuracy: 0.8834\n",
            "Epoch 11/20\n",
            "1875/1875 [==============================] - 6s 3ms/step - loss: 0.2238 - accuracy: 0.9168 - val_loss: 0.3311 - val_accuracy: 0.8860\n",
            "Epoch 12/20\n",
            "1875/1875 [==============================] - 6s 3ms/step - loss: 0.2152 - accuracy: 0.9184 - val_loss: 0.3374 - val_accuracy: 0.8872\n",
            "Epoch 13/20\n",
            "1875/1875 [==============================] - 5s 3ms/step - loss: 0.2069 - accuracy: 0.9205 - val_loss: 0.3325 - val_accuracy: 0.8867\n",
            "Epoch 14/20\n",
            "1871/1875 [============================>.] - ETA: 0s - loss: 0.2002 - accuracy: 0.9247\n",
            "Alcanzado el 89% de precisión en datos de test, se cancela el entrenamiento!!\n",
            "1875/1875 [==============================] - 5s 3ms/step - loss: 0.2004 - accuracy: 0.9246 - val_loss: 0.3231 - val_accuracy: 0.8903\n"
          ]
        }
      ]
    },
    {
      "cell_type": "code",
      "source": [
        "test_loss, test_accuracy = model.evaluate(test_images,  test_labels, verbose=2)\n",
        "print('Precisión del modelo:', test_accuracy)"
      ],
      "metadata": {
        "colab": {
          "base_uri": "https://localhost:8080/"
        },
        "id": "NEwmDerCBsZW",
        "outputId": "0e6386cf-5049-48c4-bbf0-aa114f253fef"
      },
      "execution_count": 57,
      "outputs": [
        {
          "output_type": "stream",
          "name": "stdout",
          "text": [
            "313/313 - 0s - loss: 0.3231 - accuracy: 0.8903 - 450ms/epoch - 1ms/step\n",
            "Precisión del modelo: 0.8902999758720398\n"
          ]
        }
      ]
    },
    {
      "cell_type": "markdown",
      "source": [
        "<font color='green'> En este caso he dejado un modelo que funciona al 89% y que cumple el objetivo de llegar a un valor cercano al 90%. He hecho muchas pruebas y hay muchas configuraciones que daban lugar a valores parecidos a este. He decidido dejar este por la simplicidad del mismo y su rápida ejecución, además que no está sobreajustado. Es necesario comprender que en Inteligencia Artificial el 100% no existe prácticamente en ningún caso (salvo en casos ideales) y que, en muchas ocasiones, no por utilizar las cosas más complejas se obtienen los mejores resultados (aunque en otras sí). Una capa oculta de 150 neuronas con una leaky rely (para que no mueran muchas neuronas) es suficiente para obtener este resultado.</font> "
      ],
      "metadata": {
        "id": "pye2KZXccPkG"
      }
    }
  ],
  "metadata": {
    "colab": {
      "name": "Actividad_1_Redes_Neuronales_Artificiales_ANN_ Resuelta_MuchosModelosFinales.ipynb",
      "provenance": []
    },
    "kernelspec": {
      "display_name": "Python 3",
      "name": "python3"
    },
    "language_info": {
      "name": "python"
    }
  },
  "nbformat": 4,
  "nbformat_minor": 0
}