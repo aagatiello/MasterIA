{
 "cells": [
  {
   "cell_type": "code",
   "execution_count": 1,
   "id": "aa29b241",
   "metadata": {},
   "outputs": [],
   "source": [
    "import numpy as np\n",
    "import pandas as pd\n",
    "import math\n",
    "\n",
    "df = pd.read_csv('cars.csv', delimiter=';')"
   ]
  },
  {
   "cell_type": "code",
   "execution_count": 3,
   "id": "e4e8f5b3",
   "metadata": {},
   "outputs": [
    {
     "data": {
      "text/html": [
       "<div>\n",
       "<style scoped>\n",
       "    .dataframe tbody tr th:only-of-type {\n",
       "        vertical-align: middle;\n",
       "    }\n",
       "\n",
       "    .dataframe tbody tr th {\n",
       "        vertical-align: top;\n",
       "    }\n",
       "\n",
       "    .dataframe thead th {\n",
       "        text-align: right;\n",
       "    }\n",
       "</style>\n",
       "<table border=\"1\" class=\"dataframe\">\n",
       "  <thead>\n",
       "    <tr style=\"text-align: right;\">\n",
       "      <th></th>\n",
       "      <th>Color</th>\n",
       "      <th>Type</th>\n",
       "      <th>Doors</th>\n",
       "      <th>Tires</th>\n",
       "      <th>Class</th>\n",
       "    </tr>\n",
       "  </thead>\n",
       "  <tbody>\n",
       "    <tr>\n",
       "      <th>0</th>\n",
       "      <td>Red</td>\n",
       "      <td>SUV</td>\n",
       "      <td>2</td>\n",
       "      <td>Whitewall</td>\n",
       "      <td>+</td>\n",
       "    </tr>\n",
       "    <tr>\n",
       "      <th>1</th>\n",
       "      <td>Blue</td>\n",
       "      <td>Minivan</td>\n",
       "      <td>4</td>\n",
       "      <td>Whitewall</td>\n",
       "      <td>-</td>\n",
       "    </tr>\n",
       "    <tr>\n",
       "      <th>2</th>\n",
       "      <td>Green</td>\n",
       "      <td>Car</td>\n",
       "      <td>4</td>\n",
       "      <td>Whitewall</td>\n",
       "      <td>-</td>\n",
       "    </tr>\n",
       "    <tr>\n",
       "      <th>3</th>\n",
       "      <td>Red</td>\n",
       "      <td>Minivan</td>\n",
       "      <td>4</td>\n",
       "      <td>Blackwall</td>\n",
       "      <td>-</td>\n",
       "    </tr>\n",
       "    <tr>\n",
       "      <th>4</th>\n",
       "      <td>Green</td>\n",
       "      <td>Car</td>\n",
       "      <td>2</td>\n",
       "      <td>Blackwall</td>\n",
       "      <td>+</td>\n",
       "    </tr>\n",
       "    <tr>\n",
       "      <th>5</th>\n",
       "      <td>Green</td>\n",
       "      <td>SUV</td>\n",
       "      <td>4</td>\n",
       "      <td>Blackwall</td>\n",
       "      <td>-</td>\n",
       "    </tr>\n",
       "    <tr>\n",
       "      <th>6</th>\n",
       "      <td>Blue</td>\n",
       "      <td>SUV</td>\n",
       "      <td>2</td>\n",
       "      <td>Blackwall</td>\n",
       "      <td>-</td>\n",
       "    </tr>\n",
       "    <tr>\n",
       "      <th>7</th>\n",
       "      <td>Blue</td>\n",
       "      <td>Car</td>\n",
       "      <td>2</td>\n",
       "      <td>Whitewall</td>\n",
       "      <td>+</td>\n",
       "    </tr>\n",
       "    <tr>\n",
       "      <th>8</th>\n",
       "      <td>Red</td>\n",
       "      <td>SUV</td>\n",
       "      <td>2</td>\n",
       "      <td>Blackwall</td>\n",
       "      <td>-</td>\n",
       "    </tr>\n",
       "    <tr>\n",
       "      <th>9</th>\n",
       "      <td>Blue</td>\n",
       "      <td>Car</td>\n",
       "      <td>4</td>\n",
       "      <td>Blackwall</td>\n",
       "      <td>-</td>\n",
       "    </tr>\n",
       "    <tr>\n",
       "      <th>10</th>\n",
       "      <td>Green</td>\n",
       "      <td>SUV</td>\n",
       "      <td>4</td>\n",
       "      <td>Whitewall</td>\n",
       "      <td>+</td>\n",
       "    </tr>\n",
       "    <tr>\n",
       "      <th>11</th>\n",
       "      <td>Red</td>\n",
       "      <td>Car</td>\n",
       "      <td>2</td>\n",
       "      <td>Blackwall</td>\n",
       "      <td>+</td>\n",
       "    </tr>\n",
       "    <tr>\n",
       "      <th>12</th>\n",
       "      <td>Green</td>\n",
       "      <td>SUV</td>\n",
       "      <td>2</td>\n",
       "      <td>Blackwall</td>\n",
       "      <td>-</td>\n",
       "    </tr>\n",
       "    <tr>\n",
       "      <th>13</th>\n",
       "      <td>Green</td>\n",
       "      <td>Minivan</td>\n",
       "      <td>4</td>\n",
       "      <td>Whitewall</td>\n",
       "      <td>-</td>\n",
       "    </tr>\n",
       "  </tbody>\n",
       "</table>\n",
       "</div>"
      ],
      "text/plain": [
       "   Color      Type  Doors      Tires Class\n",
       "0     Red      SUV      2  Whitewall     +\n",
       "1    Blue  Minivan      4  Whitewall     -\n",
       "2   Green      Car      4  Whitewall     -\n",
       "3     Red  Minivan      4  Blackwall     -\n",
       "4   Green      Car      2  Blackwall     +\n",
       "5   Green      SUV      4  Blackwall     -\n",
       "6    Blue      SUV      2  Blackwall     -\n",
       "7    Blue      Car      2  Whitewall     +\n",
       "8     Red      SUV      2  Blackwall     -\n",
       "9    Blue      Car      4  Blackwall     -\n",
       "10  Green      SUV      4  Whitewall     +\n",
       "11    Red      Car      2  Blackwall     +\n",
       "12  Green      SUV      2  Blackwall     -\n",
       "13  Green  Minivan      4  Whitewall     -"
      ]
     },
     "execution_count": 3,
     "metadata": {},
     "output_type": "execute_result"
    }
   ],
   "source": [
    "df"
   ]
  },
  {
   "cell_type": "code",
   "execution_count": 4,
   "id": "dc535421",
   "metadata": {},
   "outputs": [
    {
     "data": {
      "text/plain": [
       "(0.35714285714285715, 0.6428571428571429)"
      ]
     },
     "execution_count": 4,
     "metadata": {},
     "output_type": "execute_result"
    }
   ],
   "source": [
    "p_positivo = df['Class'].value_counts()['+'] / df.shape[0]\n",
    "p_negativo = df['Class'].value_counts()['-'] / df.shape[0]\n",
    "p_positivo, p_negativo"
   ]
  },
  {
   "cell_type": "code",
   "execution_count": 5,
   "id": "17a24e28",
   "metadata": {},
   "outputs": [],
   "source": [
    "entropia = (- p_positivo * math.log(p_positivo,2)) - (p_negativo * math.log(p_negativo,2))"
   ]
  },
  {
   "cell_type": "code",
   "execution_count": 6,
   "id": "827d426c",
   "metadata": {},
   "outputs": [
    {
     "data": {
      "text/plain": [
       "0.9402859586706309"
      ]
     },
     "execution_count": 6,
     "metadata": {},
     "output_type": "execute_result"
    }
   ],
   "source": [
    "entropia"
   ]
  },
  {
   "cell_type": "code",
   "execution_count": 7,
   "id": "45d65a88",
   "metadata": {},
   "outputs": [
    {
     "data": {
      "text/plain": [
       "Index(['Color ', 'Type', 'Doors', 'Tires', 'Class'], dtype='object')"
      ]
     },
     "execution_count": 7,
     "metadata": {},
     "output_type": "execute_result"
    }
   ],
   "source": [
    "df.columns"
   ]
  },
  {
   "attachments": {
    "image-2.png": {
     "image/png": "[encoded data removed]"
    }
   },
   "cell_type": "markdown",
   "id": "2804ca23",
   "metadata": {},
   "source": [
    "![image-2.png](attachment:image-2.png)"
   ]
  },
  {
   "cell_type": "code",
   "execution_count": null,
   "id": "5b14b314",
   "metadata": {},
   "outputs": [],
   "source": []
  },
  {
   "cell_type": "code",
   "execution_count": null,
   "id": "f89ea354",
   "metadata": {},
   "outputs": [],
   "source": []
  },
  {
   "cell_type": "code",
   "execution_count": 8,
   "id": "fba6d38a",
   "metadata": {},
   "outputs": [],
   "source": [
    "entropia_color = 0\n",
    "for c in df['Color '].unique():\n",
    "    df_color = df.loc[df['Color '] == c]\n",
    "    p = df_color['Color '].value_counts()[c] / df.shape[0]\n",
    "    entropia_color = entropia_color + (-p * math.log(p,2))"
   ]
  },
  {
   "cell_type": "code",
   "execution_count": 9,
   "id": "b8caacb7",
   "metadata": {},
   "outputs": [
    {
     "data": {
      "text/plain": [
       "1.5566567074628228"
      ]
     },
     "execution_count": 9,
     "metadata": {},
     "output_type": "execute_result"
    }
   ],
   "source": [
    "entropia_color"
   ]
  },
  {
   "cell_type": "code",
   "execution_count": 10,
   "id": "e69a0614",
   "metadata": {},
   "outputs": [
    {
     "data": {
      "text/plain": [
       "-0.6163707487921919"
      ]
     },
     "execution_count": 10,
     "metadata": {},
     "output_type": "execute_result"
    }
   ],
   "source": [
    "ig_color = entropia - entropia_color\n",
    "ig_color"
   ]
  },
  {
   "cell_type": "code",
   "execution_count": 11,
   "id": "fcb7ef8e",
   "metadata": {},
   "outputs": [
    {
     "name": "stdout",
     "output_type": "stream",
     "text": [
      "SUV\n",
      "Minivan\n",
      "Car\n"
     ]
    }
   ],
   "source": [
    "entropia_type = 0\n",
    "for c in df['Type'].unique():\n",
    "    print(c)\n",
    "    df_color = df.loc[df['Type'] == c]\n",
    "    p = df_color['Type'].value_counts()[c] / df.shape[0]\n",
    "    entropia_type = entropia_type + (-p * math.log(p,2))"
   ]
  },
  {
   "cell_type": "code",
   "execution_count": 13,
   "id": "bc28d17f",
   "metadata": {},
   "outputs": [
    {
     "data": {
      "text/plain": [
       "-0.5903330361778862"
      ]
     },
     "execution_count": 13,
     "metadata": {},
     "output_type": "execute_result"
    }
   ],
   "source": [
    "ig_type = entropia - entropia_type\n",
    "ig_type"
   ]
  },
  {
   "cell_type": "code",
   "execution_count": 14,
   "id": "b6df7b35",
   "metadata": {},
   "outputs": [
    {
     "name": "stdout",
     "output_type": "stream",
     "text": [
      "2\n",
      "4\n"
     ]
    }
   ],
   "source": [
    "entropia_doors = 0\n",
    "for c in df['Doors'].unique():\n",
    "    print(c)\n",
    "    df_color = df.loc[df['Doors'] == c]\n",
    "    p = df_color['Doors'].value_counts()[c] / df.shape[0]\n",
    "    entropia_doors = entropia_doors + (-p * math.log(p,2))"
   ]
  },
  {
   "cell_type": "code",
   "execution_count": 15,
   "id": "2a688398",
   "metadata": {},
   "outputs": [
    {
     "data": {
      "text/plain": [
       "-0.05971404132936908"
      ]
     },
     "execution_count": 15,
     "metadata": {},
     "output_type": "execute_result"
    }
   ],
   "source": [
    "ig_doors = entropia - entropia_doors\n",
    "ig_doors"
   ]
  },
  {
   "cell_type": "code",
   "execution_count": 16,
   "id": "507d550d",
   "metadata": {},
   "outputs": [
    {
     "name": "stdout",
     "output_type": "stream",
     "text": [
      "Whitewall\n",
      "Blackwall\n"
     ]
    }
   ],
   "source": [
    "entropia_tires = 0\n",
    "for c in df['Tires'].unique():\n",
    "    print(c)\n",
    "    df_color = df.loc[df['Tires'] == c]\n",
    "    p = df_color['Tires'].value_counts()[c] / df.shape[0]\n",
    "    entropia_tires = entropia_tires + (-p * math.log(p,2))"
   ]
  },
  {
   "cell_type": "code",
   "execution_count": 17,
   "id": "52a9732f",
   "metadata": {},
   "outputs": [
    {
     "data": {
      "text/plain": [
       "-0.04494217736362072"
      ]
     },
     "execution_count": 17,
     "metadata": {},
     "output_type": "execute_result"
    }
   ],
   "source": [
    "ig_tires = entropia - entropia_tires\n",
    "ig_tires"
   ]
  },
  {
   "cell_type": "code",
   "execution_count": null,
   "id": "9f95004f",
   "metadata": {},
   "outputs": [],
   "source": []
  }
 ],
 "metadata": {
  "kernelspec": {
   "display_name": "Python 3 (ipykernel)",
   "language": "python",
   "name": "python3"
  },
  "language_info": {
   "codemirror_mode": {
    "name": "ipython",
    "version": 3
   },
   "file_extension": ".py",
   "mimetype": "text/x-python",
   "name": "python",
   "nbconvert_exporter": "python",
   "pygments_lexer": "ipython3",
   "version": "3.8.15"
  }
 },
 "nbformat": 4,
 "nbformat_minor": 5
}
