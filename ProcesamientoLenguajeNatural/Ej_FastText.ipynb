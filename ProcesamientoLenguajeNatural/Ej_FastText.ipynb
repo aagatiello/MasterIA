{
 "cells": [
  {
   "cell_type": "code",
   "execution_count": null,
   "metadata": {
    "id": "-lBUbVO_Ns4R"
   },
   "outputs": [],
   "source": [
    "#!pip install tensorflow-text\n",
    "#!pip install datasets"
   ]
  },
  {
   "cell_type": "code",
   "execution_count": null,
   "metadata": {
    "id": "j77A6yEeRLRG"
   },
   "outputs": [],
   "source": [
    "from datasets import load_dataset\n",
    "from gensim.utils import tokenize\n",
    "\n",
    "my_dataset = load_dataset(\"amazon_reviews_multi\", \"es\", split='train')\n",
    "my_dataset = my_dataset.filter(lambda example: example['stars'] in [1, 5])\n",
    "my_dataset = [list(tokenize(example['review_body'])) for example in my_dataset]\n"
   ]
  },
  {
   "cell_type": "code",
   "execution_count": null,
   "metadata": {
    "id": "_8avIUAXO93-"
   },
   "outputs": [],
   "source": [
    "from gensim.models import word2vec\n",
    "w2v = word2vec.Word2Vec(my_dataset, vector_size=100, min_count=10)"
   ]
  },
  {
   "cell_type": "code",
   "execution_count": null,
   "metadata": {
    "id": "Fv9Nxi_WW2x-"
   },
   "outputs": [],
   "source": [
    "print(w2v.wv['maravilloso'])"
   ]
  },
  {
   "cell_type": "code",
   "execution_count": null,
   "metadata": {
    "id": "NidxF_NKW7C-"
   },
   "outputs": [],
   "source": [
    "print(w2v.wv['maravill0so'])"
   ]
  },
  {
   "cell_type": "code",
   "execution_count": null,
   "metadata": {
    "id": "uqe2tJEoQipr"
   },
   "outputs": [],
   "source": [
    "from gensim.models import fasttext\n",
    "ft = fasttext.FastText(vector_size=100, window=3, min_count=10)\n",
    "ft.build_vocab(corpus_iterable=my_dataset)\n",
    "ft.train(corpus_iterable=my_dataset, total_examples=len(my_dataset), epochs=10)"
   ]
  },
  {
   "cell_type": "code",
   "execution_count": null,
   "metadata": {
    "id": "hihedHHiTOla"
   },
   "outputs": [],
   "source": [
    "print(ft.wv['maravill0so'])"
   ]
  },
  {
   "cell_type": "code",
   "execution_count": null,
   "metadata": {
    "id": "QQc2vpXET6eA"
   },
   "outputs": [],
   "source": [
    "from sklearn.metrics.pairwise import cosine_similarity\n",
    "\n",
    "print(cosine_similarity([ft.wv['maravill0so']], [ft.wv['maravilloso']]))"
   ]
  },
  {
   "cell_type": "code",
   "execution_count": null,
   "metadata": {},
   "outputs": [],
   "source": []
  }
 ],
 "metadata": {
  "accelerator": "GPU",
  "colab": {
   "name": "PLN_Sesión_10_W2V_FastText_BERT.ipynb",
   "provenance": []
  },
  "kernelspec": {
   "display_name": "Python 3",
   "language": "python",
   "name": "python3"
  },
  "language_info": {
   "codemirror_mode": {
    "name": "ipython",
    "version": 3
   },
   "file_extension": ".py",
   "mimetype": "text/x-python",
   "name": "python",
   "nbconvert_exporter": "python",
   "pygments_lexer": "ipython3",
   "version": "3.8.3"
  }
 },
 "nbformat": 4,
 "nbformat_minor": 1
}
