{
 "cells": [
  {
   "cell_type": "code",
   "execution_count": null,
   "metadata": {
    "id": "HDG6mXZoUAtG"
   },
   "outputs": [],
   "source": [
    "!pip install transformers\n",
    "!pip install sentencepiece\n",
    "import sentencepiece\n",
    "from transformers import pipeline"
   ]
  },
  {
   "cell_type": "code",
   "execution_count": null,
   "metadata": {
    "id": "rAYoPNJ9U5e-"
   },
   "outputs": [],
   "source": [
    "nlp = pipeline('sentiment-analysis', model='finiteautomata/beto-sentiment-analysis')\n",
    "result = nlp(\"Odio esta película\")\n",
    "print(result)"
   ]
  },
  {
   "cell_type": "code",
   "execution_count": null,
   "metadata": {
    "id": "-dq9SBbGULGd"
   },
   "outputs": [],
   "source": [
    "nlp = pipeline(\"ner\", model=\"mrm8488/bert-spanish-cased-finetuned-ner\")\n",
    "print(nlp(\"Me llamo Antonio García García. Vivo en Madrid y trabajo en Minsait, S.A.\"))"
   ]
  },
  {
   "cell_type": "code",
   "execution_count": null,
   "metadata": {
    "id": "zWeynYTJV-_O"
   },
   "outputs": [],
   "source": [
    "nlp = pipeline(\"summarization\", model=\"mrm8488/t5-base-finetuned-spa-squadv1\")\n",
    "document = \"Franz Peter Schubert, a pesar de su corta vida, dejó un gran legado, que incluye más de seiscientas obras vocales seculares (principalmente lieder), siete sinfonías completas, música sacra, óperas, música incidental y gran cantidad de obras para piano y música de cámara. Sus obras principales incluyen el Quinteto La trucha, la Sinfonía inacabada, la Sinfonía Grande, las tres últimas sonatas para piano (D. 958, 959 y 960), la ópera Fierrabras (D. 796), la música incidental de la obra de teatro Rosamunda (D. 797) y los ciclos de canciones La bella molinera (D. 795) y Viaje de invierno (D. 911).\"\n",
    "print(nlp(document))\n"
   ]
  },
  {
   "cell_type": "code",
   "execution_count": null,
   "metadata": {
    "id": "eQirnl8sXcF5"
   },
   "outputs": [],
   "source": [
    "\n",
    "nlp = pipeline('question-answering', model='mrm8488/distill-bert-base-spanish-wwm-cased-finetuned-spa-squad2-es')\n",
    "result = nlp({\n",
    "    'question': \"¿Quién ganó el Tour de Francia de 1991?\",\n",
    "    'context': \"Perico Delgado ganó el Tour de Francia en 1988. Poco después, en 1991, Miguel Induráin ganó su primer Tour de Francia. Después ganaría consecutivamente los de 1992, 1993, 1994 y 1995. \"\n",
    "})\n",
    "print(result)\n",
    "result = nlp({\n",
    "    'question': \"¿Quién ganó el Tour de Francia de 1988?\",\n",
    "    'context': \"Perico Delgado ganó el Tour de Francia en 1988. Poco después, en 1991, Miguel Induráin ganó su primer Tour de Francia. Después ganaría consecutivamente los de 1992, 1993, 1994 y 1995. \"\n",
    "})\n",
    "print(result)"
   ]
  },
  {
   "cell_type": "code",
   "execution_count": null,
   "metadata": {
    "id": "8WqjTOjYdlAU"
   },
   "outputs": [],
   "source": [
    "nlp = pipeline('translation', model='Helsinki-NLP/opus-mt-es-en')\n",
    "print(nlp(\"Perico Delgado ganó el Tour de Francia en 1988. Poco después, en 1991, Miguel Induráin ganó su primer Tour de Francia. Después ganaría consecutivamente los de 1992, 1993, 1994 y 1995.\"))"
   ]
  },
  {
   "cell_type": "code",
   "execution_count": null,
   "metadata": {
    "id": "goLR4EJWUimc"
   },
   "outputs": [],
   "source": [
    "nlp = pipeline('text-generation', model='datificate/gpt2-small-spanish')\n",
    "print(nlp(\"En 1991 Miguel Induráin ganó su primer Tour de Francia\"))"
   ]
  },
  {
   "cell_type": "code",
   "execution_count": null,
   "metadata": {
    "id": "II9xwyvQWuvO"
   },
   "outputs": [],
   "source": [
    "from transformers import AutoModelForSequenceClassification, AutoTokenizer, TextClassificationPipeline\n",
    "\n",
    "model = AutoModelForSequenceClassification.from_pretrained(\"joeddav/distilbert-base-uncased-go-emotions-student\")\n",
    "tokenizer = AutoTokenizer.from_pretrained(\"joeddav/distilbert-base-uncased-go-emotions-student\")\n",
    "classifier = TextClassificationPipeline(model=model, tokenizer=tokenizer, return_all_scores=True)\n",
    "\n",
    "results = classifier([\"Everything will be fine!!\", \"We're going to have a really bad time...\"])\n",
    "\n",
    "print(sorted(results[0], key=lambda x: x['score'], reverse=True))\n",
    "print(sorted(results[1], key=lambda x: x['score'], reverse=True))"
   ]
  }
 ],
 "metadata": {
  "colab": {
   "collapsed_sections": [],
   "name": "PLN_Sesión_13_Huggingface_Pipeline.ipynb",
   "provenance": []
  },
  "kernelspec": {
   "display_name": "Python 3",
   "language": "python",
   "name": "python3"
  },
  "language_info": {
   "codemirror_mode": {
    "name": "ipython",
    "version": 3
   },
   "file_extension": ".py",
   "mimetype": "text/x-python",
   "name": "python",
   "nbconvert_exporter": "python",
   "pygments_lexer": "ipython3",
   "version": "3.8.3"
  }
 },
 "nbformat": 4,
 "nbformat_minor": 1
}
